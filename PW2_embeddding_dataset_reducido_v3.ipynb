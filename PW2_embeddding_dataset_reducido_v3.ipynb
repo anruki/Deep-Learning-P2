{
  "nbformat": 4,
  "nbformat_minor": 0,
  "metadata": {
    "colab": {
      "provenance": [],
      "gpuType": "T4"
    },
    "kernelspec": {
      "name": "python3",
      "display_name": "Python 3"
    },
    "language_info": {
      "name": "python"
    },
    "accelerator": "GPU"
  },
  "cells": [
    {
      "cell_type": "code",
      "execution_count": null,
      "metadata": {
        "id": "_hWIVb47k5Hd",
        "colab": {
          "base_uri": "https://localhost:8080/"
        },
        "outputId": "e52ecc93-3225-4cb6-b2ab-b5c260ece8b5"
      },
      "outputs": [
        {
          "output_type": "stream",
          "name": "stdout",
          "text": [
            "The tensorboard extension is already loaded. To reload it, use:\n",
            "  %reload_ext tensorboard\n"
          ]
        }
      ],
      "source": [
        "%load_ext tensorboard"
      ]
    },
    {
      "cell_type": "code",
      "source": [
        "import numpy as np\n",
        "import tensorflow as tf\n",
        "import re\n",
        "import pandas as pd\n",
        "import spacy\n",
        "import gc\n",
        "from itertools import combinations\n",
        "import matplotlib.pyplot as plt\n",
        "from scipy.sparse import csr_matrix, vstack as sparse_vstack\n",
        "from sklearn.metrics.pairwise import cosine_similarity\n",
        "import seaborn as sns\n",
        "\n",
        "from sklearn.metrics import confusion_matrix, classification_report\n",
        "from sklearn.preprocessing import LabelEncoder\n",
        "from tensorflow import keras\n",
        "from tensorflow.keras.utils import to_categorical\n",
        "from tensorflow.keras import Model, Input, layers\n",
        "from tensorflow.keras.layers import Embedding, Dot, Reshape, Dense,Bidirectional, LSTM, GRU\n",
        "from tensorflow.keras.preprocessing.text import Tokenizer\n",
        "from tensorflow.keras.preprocessing.sequence import skipgrams, pad_sequences\n",
        "from keras.callbacks import TensorBoard"
      ],
      "metadata": {
        "id": "qxcIjQaEmn7e"
      },
      "execution_count": 1,
      "outputs": []
    },
    {
      "cell_type": "markdown",
      "source": [
        "# **FASE 1**"
      ],
      "metadata": {
        "id": "wZCtMlEVIhe3"
      }
    },
    {
      "cell_type": "code",
      "source": [
        "# Step 1: Load data\n",
        "train_df = pd.read_csv('train.csv', encoding='latin1')\n",
        "test_df = pd.read_csv('test.csv', encoding='latin1')\n",
        "\n",
        "def limpiar_texto(texto):\n",
        "    texto = re.sub(r'[^\\w\\s]', '', str(texto)).lower()\n",
        "    return texto"
      ],
      "metadata": {
        "id": "Kc3z58--m1Tu"
      },
      "execution_count": 2,
      "outputs": []
    },
    {
      "cell_type": "code",
      "source": [
        "# # Step 2: Prepare data\n",
        "# train_df['text_clean'] = train_df['text'].apply(limpiar_texto)\n",
        "# test_df['text_clean'] = test_df['text'].apply(limpiar_texto)\n",
        "# corpus = pd.concat([train_df['text_clean'], test_df['text_clean']]).tolist()\n",
        "\n",
        "# #cuando aumentemos a todo el corpus poner estas 2 líenas solo para dataset compelto y elimianr lo de small_corpus\n",
        "# tokenizer = Tokenizer()\n",
        "# tokenizer.fit_on_texts(corpus)\n",
        "\n",
        "# # Identificar las 10 palabras más utilizadas con significado (susantivos) cargando el modelo de spaCy en inglés\n",
        "# try:\n",
        "#     nlp = spacy.load(\"en_core_web_sm\")\n",
        "# except OSError:\n",
        "#     import os\n",
        "#     os.system(\"python -m spacy download en_core_web_sm\")\n",
        "#     nlp = spacy.load(\"en_core_web_sm\")\n",
        "\n",
        "# # Crear el set de stopwords incluyendo 'nan'\n",
        "# stop_words = set(nlp.Defaults.stop_words)\n",
        "# stop_words.add('nan')\n",
        "\n",
        "# # Función para filtrar solo nombres con significado\n",
        "# def es_nombre_con_significado(palabra):\n",
        "#     if len(palabra) < 2 or palabra in stop_words:\n",
        "#         return False\n",
        "#     doc = nlp(palabra)\n",
        "#     # Solo acepta si la palabra es un sustantivo (NOUN o PROPN)\n",
        "#     return any(token.pos_ in {\"NOUN\", \"PROPN\"} for token in doc)\n",
        "\n",
        "# # Aplicar filtro al vocabulario real\n",
        "# palabras_filtradas = {\n",
        "#     word: count for word, count in tokenizer.word_counts.items()\n",
        "#     if es_nombre_con_significado(word)\n",
        "# }\n",
        "\n",
        "# # Ordenar y seleccionar top 10\n",
        "# top_10 = sorted(palabras_filtradas.items(), key=lambda x: x[1], reverse=True)[:10]\n",
        "\n",
        "# # Mostrar resultados\n",
        "# print(\"\\nTop 10 nombres con significado:\")\n",
        "# print(\"━━━━━━━━━━━━━━━━━━━━━━━━━━━━━━━━━\")\n",
        "# for idx, (palabra, freq) in enumerate(top_10, 1):\n",
        "#     print(f\"{idx:2}. {palabra:<15} → {freq:>6} apariciones\")\n",
        "\n",
        "\n",
        "# # Convertir textos a secuencias de enteros\n",
        "# train_sequences = tokenizer.texts_to_sequences(train_df['text_clean'])\n",
        "# test_sequences = tokenizer.texts_to_sequences(test_df['text_clean'])\n",
        "# all_sequences = train_sequences + test_sequences\n",
        "\n",
        "# # Diccionarios de palabras a índices y viceversa\n",
        "# word2idx = tokenizer.word_index\n",
        "# idx2word = {i: w for w, i in word2idx.items()}\n",
        "# vocab_size = len(word2idx) + 1\n",
        "\n",
        "\n",
        "\n",
        "# --- Step 2: Prepare data (10% train + 10% test) ---\n",
        "\n",
        "# 1) Carga y limpieza\n",
        "train_df['text_clean'] = train_df['text'].apply(limpiar_texto)\n",
        "test_df ['text_clean'] = test_df ['text'].apply(limpiar_texto)\n",
        "\n",
        "# 2) Muestreo 50% de cada uno\n",
        "small_train_df = train_df.sample(frac=0.5, random_state=42)\n",
        "small_test_df  = test_df.sample(frac=0.1, random_state=42)\n",
        "\n",
        "train_corpus_small = small_train_df['text_clean'].tolist()\n",
        "test_corpus_small  = small_test_df ['text_clean'].tolist()\n",
        "small_corpus       = train_corpus_small + test_corpus_small\n",
        "\n",
        "print(f\"Frases usadas → train: {len(train_corpus_small)}, test: {len(test_corpus_small)}\")\n",
        "\n",
        "# 3) Tokenizer limitado a 1000 palabras + OOV\n",
        "tokenizer = Tokenizer(num_words=1000, oov_token='<OOV>')\n",
        "tokenizer.fit_on_texts(small_corpus)\n",
        "vocab_size = 1000 + 1\n",
        "\n",
        "# Diccionarios para después\n",
        "word2idx = tokenizer.word_index\n",
        "idx2word = {i:w for w,i in word2idx.items()}\n",
        "\n",
        "# 4) Top-10 nombres con spaCy\n",
        "try:\n",
        "    nlp = spacy.load(\"en_core_web_sm\")\n",
        "except OSError:\n",
        "    import os\n",
        "    os.system(\"python -m spacy download en_core_web_sm\")\n",
        "    nlp = spacy.load(\"en_core_web_sm\")\n",
        "\n",
        "stop_words = set(nlp.Defaults.stop_words) | {'nan'}\n"
      ],
      "metadata": {
        "id": "HPS49v2Xm1gO",
        "colab": {
          "base_uri": "https://localhost:8080/"
        },
        "outputId": "ffc6384e-2c94-42ee-8496-6b89924144af"
      },
      "execution_count": 3,
      "outputs": [
        {
          "output_type": "stream",
          "name": "stdout",
          "text": [
            "Frases usadas → train: 13740, test: 482\n"
          ]
        }
      ]
    },
    {
      "cell_type": "code",
      "source": [
        "train_df.head(1)"
      ],
      "metadata": {
        "colab": {
          "base_uri": "https://localhost:8080/",
          "height": 150
        },
        "id": "JSnTPZnH4ze-",
        "outputId": "2f478e3c-a07a-40cc-dabe-aa0d1e8230d9"
      },
      "execution_count": 4,
      "outputs": [
        {
          "output_type": "execute_result",
          "data": {
            "text/plain": [
              "       textID                                  text  \\\n",
              "0  cb774db0d1   I`d have responded, if I were going   \n",
              "\n",
              "                         selected_text sentiment Time of Tweet Age of User  \\\n",
              "0  I`d have responded, if I were going   neutral       morning        0-20   \n",
              "\n",
              "       Country  Population -2020  Land Area (Km²)  Density (P/Km²)  \\\n",
              "0  Afghanistan          38928346         652860.0               60   \n",
              "\n",
              "                           text_clean  \n",
              "0   id have responded if i were going  "
            ],
            "text/html": [
              "\n",
              "  <div id=\"df-d89123a8-755e-4318-8635-5854a2ade82b\" class=\"colab-df-container\">\n",
              "    <div>\n",
              "<style scoped>\n",
              "    .dataframe tbody tr th:only-of-type {\n",
              "        vertical-align: middle;\n",
              "    }\n",
              "\n",
              "    .dataframe tbody tr th {\n",
              "        vertical-align: top;\n",
              "    }\n",
              "\n",
              "    .dataframe thead th {\n",
              "        text-align: right;\n",
              "    }\n",
              "</style>\n",
              "<table border=\"1\" class=\"dataframe\">\n",
              "  <thead>\n",
              "    <tr style=\"text-align: right;\">\n",
              "      <th></th>\n",
              "      <th>textID</th>\n",
              "      <th>text</th>\n",
              "      <th>selected_text</th>\n",
              "      <th>sentiment</th>\n",
              "      <th>Time of Tweet</th>\n",
              "      <th>Age of User</th>\n",
              "      <th>Country</th>\n",
              "      <th>Population -2020</th>\n",
              "      <th>Land Area (Km²)</th>\n",
              "      <th>Density (P/Km²)</th>\n",
              "      <th>text_clean</th>\n",
              "    </tr>\n",
              "  </thead>\n",
              "  <tbody>\n",
              "    <tr>\n",
              "      <th>0</th>\n",
              "      <td>cb774db0d1</td>\n",
              "      <td>I`d have responded, if I were going</td>\n",
              "      <td>I`d have responded, if I were going</td>\n",
              "      <td>neutral</td>\n",
              "      <td>morning</td>\n",
              "      <td>0-20</td>\n",
              "      <td>Afghanistan</td>\n",
              "      <td>38928346</td>\n",
              "      <td>652860.0</td>\n",
              "      <td>60</td>\n",
              "      <td>id have responded if i were going</td>\n",
              "    </tr>\n",
              "  </tbody>\n",
              "</table>\n",
              "</div>\n",
              "    <div class=\"colab-df-buttons\">\n",
              "\n",
              "  <div class=\"colab-df-container\">\n",
              "    <button class=\"colab-df-convert\" onclick=\"convertToInteractive('df-d89123a8-755e-4318-8635-5854a2ade82b')\"\n",
              "            title=\"Convert this dataframe to an interactive table.\"\n",
              "            style=\"display:none;\">\n",
              "\n",
              "  <svg xmlns=\"http://www.w3.org/2000/svg\" height=\"24px\" viewBox=\"0 -960 960 960\">\n",
              "    <path d=\"M120-120v-720h720v720H120Zm60-500h600v-160H180v160Zm220 220h160v-160H400v160Zm0 220h160v-160H400v160ZM180-400h160v-160H180v160Zm440 0h160v-160H620v160ZM180-180h160v-160H180v160Zm440 0h160v-160H620v160Z\"/>\n",
              "  </svg>\n",
              "    </button>\n",
              "\n",
              "  <style>\n",
              "    .colab-df-container {\n",
              "      display:flex;\n",
              "      gap: 12px;\n",
              "    }\n",
              "\n",
              "    .colab-df-convert {\n",
              "      background-color: #E8F0FE;\n",
              "      border: none;\n",
              "      border-radius: 50%;\n",
              "      cursor: pointer;\n",
              "      display: none;\n",
              "      fill: #1967D2;\n",
              "      height: 32px;\n",
              "      padding: 0 0 0 0;\n",
              "      width: 32px;\n",
              "    }\n",
              "\n",
              "    .colab-df-convert:hover {\n",
              "      background-color: #E2EBFA;\n",
              "      box-shadow: 0px 1px 2px rgba(60, 64, 67, 0.3), 0px 1px 3px 1px rgba(60, 64, 67, 0.15);\n",
              "      fill: #174EA6;\n",
              "    }\n",
              "\n",
              "    .colab-df-buttons div {\n",
              "      margin-bottom: 4px;\n",
              "    }\n",
              "\n",
              "    [theme=dark] .colab-df-convert {\n",
              "      background-color: #3B4455;\n",
              "      fill: #D2E3FC;\n",
              "    }\n",
              "\n",
              "    [theme=dark] .colab-df-convert:hover {\n",
              "      background-color: #434B5C;\n",
              "      box-shadow: 0px 1px 3px 1px rgba(0, 0, 0, 0.15);\n",
              "      filter: drop-shadow(0px 1px 2px rgba(0, 0, 0, 0.3));\n",
              "      fill: #FFFFFF;\n",
              "    }\n",
              "  </style>\n",
              "\n",
              "    <script>\n",
              "      const buttonEl =\n",
              "        document.querySelector('#df-d89123a8-755e-4318-8635-5854a2ade82b button.colab-df-convert');\n",
              "      buttonEl.style.display =\n",
              "        google.colab.kernel.accessAllowed ? 'block' : 'none';\n",
              "\n",
              "      async function convertToInteractive(key) {\n",
              "        const element = document.querySelector('#df-d89123a8-755e-4318-8635-5854a2ade82b');\n",
              "        const dataTable =\n",
              "          await google.colab.kernel.invokeFunction('convertToInteractive',\n",
              "                                                    [key], {});\n",
              "        if (!dataTable) return;\n",
              "\n",
              "        const docLinkHtml = 'Like what you see? Visit the ' +\n",
              "          '<a target=\"_blank\" href=https://colab.research.google.com/notebooks/data_table.ipynb>data table notebook</a>'\n",
              "          + ' to learn more about interactive tables.';\n",
              "        element.innerHTML = '';\n",
              "        dataTable['output_type'] = 'display_data';\n",
              "        await google.colab.output.renderOutput(dataTable, element);\n",
              "        const docLink = document.createElement('div');\n",
              "        docLink.innerHTML = docLinkHtml;\n",
              "        element.appendChild(docLink);\n",
              "      }\n",
              "    </script>\n",
              "  </div>\n",
              "\n",
              "\n",
              "    </div>\n",
              "  </div>\n"
            ],
            "application/vnd.google.colaboratory.intrinsic+json": {
              "type": "dataframe",
              "variable_name": "train_df",
              "summary": "{\n  \"name\": \"train_df\",\n  \"rows\": 27481,\n  \"fields\": [\n    {\n      \"column\": \"textID\",\n      \"properties\": {\n        \"dtype\": \"string\",\n        \"num_unique_values\": 27481,\n        \"samples\": [\n          \"a7f72a928a\",\n          \"ef42dee96c\",\n          \"07d17131b1\"\n        ],\n        \"semantic_type\": \"\",\n        \"description\": \"\"\n      }\n    },\n    {\n      \"column\": \"text\",\n      \"properties\": {\n        \"dtype\": \"string\",\n        \"num_unique_values\": 27480,\n        \"samples\": [\n          \" Enjoy! Family trumps everything\",\n          \" --of them kinda turns me off of it all.  And then I buy more of them and dig a deeper hole, etc. ;;\",\n          \"Clive it`s my birthday pat me  http://apps.facebook.com/dogbook/profile/view/6386106\"\n        ],\n        \"semantic_type\": \"\",\n        \"description\": \"\"\n      }\n    },\n    {\n      \"column\": \"selected_text\",\n      \"properties\": {\n        \"dtype\": \"string\",\n        \"num_unique_values\": 22430,\n        \"samples\": [\n          \"that is why I drive a (teeny tiny) honda civic\",\n          \"Sorry...but, I bet they aren`t that bad...\",\n          \"yummy\"\n        ],\n        \"semantic_type\": \"\",\n        \"description\": \"\"\n      }\n    },\n    {\n      \"column\": \"sentiment\",\n      \"properties\": {\n        \"dtype\": \"category\",\n        \"num_unique_values\": 3,\n        \"samples\": [\n          \"neutral\",\n          \"negative\",\n          \"positive\"\n        ],\n        \"semantic_type\": \"\",\n        \"description\": \"\"\n      }\n    },\n    {\n      \"column\": \"Time of Tweet\",\n      \"properties\": {\n        \"dtype\": \"category\",\n        \"num_unique_values\": 3,\n        \"samples\": [\n          \"morning\",\n          \"noon\",\n          \"night\"\n        ],\n        \"semantic_type\": \"\",\n        \"description\": \"\"\n      }\n    },\n    {\n      \"column\": \"Age of User\",\n      \"properties\": {\n        \"dtype\": \"category\",\n        \"num_unique_values\": 6,\n        \"samples\": [\n          \"0-20\",\n          \"21-30\",\n          \"70-100\"\n        ],\n        \"semantic_type\": \"\",\n        \"description\": \"\"\n      }\n    },\n    {\n      \"column\": \"Country\",\n      \"properties\": {\n        \"dtype\": \"category\",\n        \"num_unique_values\": 195,\n        \"samples\": [\n          \"Philippines\",\n          \"Belgium\",\n          \"Sierra Leone\"\n        ],\n        \"semantic_type\": \"\",\n        \"description\": \"\"\n      }\n    },\n    {\n      \"column\": \"Population -2020\",\n      \"properties\": {\n        \"dtype\": \"number\",\n        \"std\": 150494590,\n        \"min\": 801,\n        \"max\": 1439323776,\n        \"num_unique_values\": 195,\n        \"samples\": [\n          109581078,\n          11589623,\n          7976983\n        ],\n        \"semantic_type\": \"\",\n        \"description\": \"\"\n      }\n    },\n    {\n      \"column\": \"Land Area (Km\\u00b2)\",\n      \"properties\": {\n        \"dtype\": \"number\",\n        \"std\": 1807424.6900064405,\n        \"min\": 0.0,\n        \"max\": 16376870.0,\n        \"num_unique_values\": 193,\n        \"samples\": [\n          2267050.0,\n          1280000.0,\n          100250.0\n        ],\n        \"semantic_type\": \"\",\n        \"description\": \"\"\n      }\n    },\n    {\n      \"column\": \"Density (P/Km\\u00b2)\",\n      \"properties\": {\n        \"dtype\": \"number\",\n        \"std\": 2013,\n        \"min\": 2,\n        \"max\": 26337,\n        \"num_unique_values\": 136,\n        \"samples\": [\n          400,\n          71,\n          331\n        ],\n        \"semantic_type\": \"\",\n        \"description\": \"\"\n      }\n    },\n    {\n      \"column\": \"text_clean\",\n      \"properties\": {\n        \"dtype\": \"string\",\n        \"num_unique_values\": 27316,\n        \"samples\": [\n          \" thats awesome man  i should of sent you an affiliate link  lol oh well\",\n          \"good morning all its a fabulous morning here\",\n          \" oh no you poor thing  you must have booked the tickets before you realised it was pat kennys last night gutted for you\"\n        ],\n        \"semantic_type\": \"\",\n        \"description\": \"\"\n      }\n    }\n  ]\n}"
            }
          },
          "metadata": {},
          "execution_count": 4
        }
      ]
    },
    {
      "cell_type": "markdown",
      "source": [
        "# **FASE 2**"
      ],
      "metadata": {
        "id": "feNptcSFIdWP"
      }
    },
    {
      "cell_type": "code",
      "source": [
        "def es_nombre(palabra):\n",
        "    if len(palabra)<2 or palabra in stop_words: return False\n",
        "    return any(t.pos_ in {\"NOUN\",\"PROPN\"} for t in nlp(palabra))\n",
        "\n",
        "filtradas = {w:c for w,c in tokenizer.word_counts.items() if es_nombre(w)}\n",
        "top_10 = sorted(filtradas.items(), key=lambda x:x[1], reverse=True)[:10]\n",
        "print(\"Top 10 nombres con significado:\")\n",
        "for i,(w,f) in enumerate(top_10,1):\n",
        "    print(f\"{i}. {w:<15} → {f} apariciones\")\n",
        "\n",
        "# 5) Secuencias sólo del 10%\n",
        "train_sequences_small = tokenizer.texts_to_sequences(train_corpus_small)\n",
        "test_sequences_small  = tokenizer.texts_to_sequences(test_corpus_small)\n",
        "all_sequences        = train_sequences_small + test_sequences_small"
      ],
      "metadata": {
        "id": "RVdFQLrbIcd4",
        "colab": {
          "base_uri": "https://localhost:8080/"
        },
        "outputId": "c74b5006-ea29-4f92-ab63-4e3b142b7610"
      },
      "execution_count": 5,
      "outputs": [
        {
          "output_type": "stream",
          "name": "stdout",
          "text": [
            "Top 10 nombres con significado:\n",
            "1. day             → 1037 apariciones\n",
            "2. today           → 572 apariciones\n",
            "3. love            → 559 apariciones\n",
            "4. lol             → 508 apariciones\n",
            "5. time            → 484 apariciones\n",
            "6. mothers         → 379 apariciones\n",
            "7. night           → 368 apariciones\n",
            "8. thanks          → 329 apariciones\n",
            "9. home            → 328 apariciones\n",
            "10. hope            → 292 apariciones\n"
          ]
        }
      ]
    },
    {
      "cell_type": "code",
      "source": [
        "# # Step 3: Generación de pares con ventanas 2 y 4\n",
        "# pairs_dict = {'window_2': [], 'window_4': []}\n",
        "\n",
        "# for seq in all_sequences:\n",
        "#     # Ventana 2\n",
        "#     sg_pairs_2, _ = skipgrams(seq, vocab_size, window_size=2, negative_samples=0)\n",
        "#     pairs_dict['window_2'].extend(sg_pairs_2)\n",
        "\n",
        "#     # Ventana 4\n",
        "#     sg_pairs_4, _ = skipgrams(seq, vocab_size, window_size=4, negative_samples=0)\n",
        "#     pairs_dict['window_4'].extend(sg_pairs_4)"
      ],
      "metadata": {
        "id": "1PKojWpJRiY4"
      },
      "execution_count": null,
      "outputs": []
    },
    {
      "cell_type": "code",
      "source": [
        "# Step 3: Generación de pares con ventanas 2 y 4\n",
        "pairs_dict = {'window_2': []}\n",
        "\n",
        "for seq in all_sequences:\n",
        "    # Ventana 2\n",
        "    sg_pairs_2, _ = skipgrams(seq, vocab_size, window_size=2, negative_samples=0)\n",
        "    pairs_dict['window_2'].extend(sg_pairs_2)"
      ],
      "metadata": {
        "id": "jzyQUujl6bG5"
      },
      "execution_count": 6,
      "outputs": []
    },
    {
      "cell_type": "code",
      "source": [
        "# Step 4: One-hot encoding optimizado\n",
        "def sparse_onehot(batch, vocab_size):\n",
        "    rows = np.arange(len(batch))\n",
        "    cols = np.array(batch).flatten()\n",
        "    data = np.ones_like(cols, dtype=np.float32)\n",
        "    return csr_matrix((data, (rows, cols)), shape=(len(batch), vocab_size), dtype=np.float32)"
      ],
      "metadata": {
        "id": "eXMTlOSlm8Wz"
      },
      "execution_count": 7,
      "outputs": []
    },
    {
      "cell_type": "code",
      "source": [
        "from tensorflow.keras.optimizers import Adam\n",
        "# Hiperparámetros y estructuras\n",
        "embedding_sizes  = [45]               # podés poner [45, 312, 752]\n",
        "window_sizes     = ['window_2']       # luego agregás 'window_4'\n",
        "loss_histories   = {}\n",
        "final_embeddings = {}\n",
        "models           = {}\n",
        "\n",
        "for emb_size in embedding_sizes:\n",
        "    for window in window_sizes:\n",
        "        current_pairs = pairs_dict[window]\n",
        "        if not current_pairs:\n",
        "            continue\n",
        "\n",
        "        # Usamos skipgrams con muestreo negativo\n",
        "        targets, contexts = zip(*current_pairs)\n",
        "        targets  = np.array(targets,  dtype='int32')\n",
        "        contexts = np.array(contexts, dtype='int32')\n",
        "\n",
        "        # Etiquetas para pares (1 positivos, 0 negativos)\n",
        "        # Si usaste negative_samples en skipgrams, tendrás algo como:\n",
        "        # sg_pairs, labels = skipgrams(seq, ..., negative_samples=1.0)\n",
        "        y_train = np.ones(len(targets), dtype=np.float32)\n",
        "\n",
        "        # ENTRADAS como índices, no one-hot\n",
        "        target_input = Input(shape=(), dtype='int32', name='target_input')\n",
        "        context_input= Input(shape=(), dtype='int32', name='context_input')\n",
        "\n",
        "        # Capa de embeddings compartida\n",
        "        embedding_layer = Embedding(\n",
        "            input_dim=vocab_size,\n",
        "            output_dim=emb_size,\n",
        "            name=f\"embedding_{emb_size}_{window}\"\n",
        "        )\n",
        "\n",
        "        # Vectores de palabras\n",
        "        target_vector  = embedding_layer(target_input)\n",
        "        context_vector = embedding_layer(context_input)\n",
        "\n",
        "        # Producto punto\n",
        "        dot_product = Dot(axes=-1)([target_vector, context_vector])\n",
        "        dot_product = Reshape((1,))(dot_product)\n",
        "\n",
        "        # Clasificador binario\n",
        "        output = Dense(1, activation='sigmoid')(dot_product)\n",
        "\n",
        "        # Construir modelo\n",
        "        model = Model(inputs=[target_input, context_input], outputs=output)\n",
        "        model.compile(\n",
        "            loss='binary_crossentropy',\n",
        "            optimizer=Adam(0.01),  # más rápido, podés ajustar\n",
        "            metrics=['accuracy']\n",
        "        )\n",
        "\n",
        "        # Guardar y entrenar\n",
        "        key = f'emb_{emb_size}_{window}'\n",
        "        models[key] = model\n",
        "        history = model.fit(\n",
        "            [targets, contexts],\n",
        "            y_train,\n",
        "            epochs=2,\n",
        "            batch_size=264,\n",
        "            verbose=1\n",
        "        )\n",
        "\n",
        "        loss_histories[key]   = history.history['loss']\n",
        "        final_embeddings[key] = embedding_layer.get_weights()[0]"
      ],
      "metadata": {
        "id": "IS10kRDO43Ns",
        "colab": {
          "base_uri": "https://localhost:8080/"
        },
        "outputId": "af70f65f-c33e-43e6-dc1f-917feaccaebc"
      },
      "execution_count": 16,
      "outputs": [
        {
          "output_type": "stream",
          "name": "stdout",
          "text": [
            "Epoch 1/2\n",
            "\u001b[1m2400/2400\u001b[0m \u001b[32m━━━━━━━━━━━━━━━━━━━━\u001b[0m\u001b[37m\u001b[0m \u001b[1m8s\u001b[0m 3ms/step - accuracy: 0.9941 - loss: 0.1544\n",
            "Epoch 2/2\n",
            "\u001b[1m2400/2400\u001b[0m \u001b[32m━━━━━━━━━━━━━━━━━━━━\u001b[0m\u001b[37m\u001b[0m \u001b[1m11s\u001b[0m 3ms/step - accuracy: 1.0000 - loss: 0.0028\n"
          ]
        }
      ]
    },
    {
      "cell_type": "code",
      "source": [
        "# Recorre cada modelo en el diccionario y muestra su summary\n",
        "for key, mdl in models.items():\n",
        "    print(f\"\\n=== Summary de {key} ===\")\n",
        "    mdl.summary()\n"
      ],
      "metadata": {
        "colab": {
          "base_uri": "https://localhost:8080/",
          "height": 436
        },
        "id": "-Jbw-_a59zex",
        "outputId": "9cce4045-f268-4a15-f2b2-0cc5d97a4503"
      },
      "execution_count": 21,
      "outputs": [
        {
          "output_type": "stream",
          "name": "stdout",
          "text": [
            "\n",
            "=== Summary de emb_45_window_2 ===\n"
          ]
        },
        {
          "output_type": "display_data",
          "data": {
            "text/plain": [
              "\u001b[1mModel: \"functional_5\"\u001b[0m\n"
            ],
            "text/html": [
              "<pre style=\"white-space:pre;overflow-x:auto;line-height:normal;font-family:Menlo,'DejaVu Sans Mono',consolas,'Courier New',monospace\"><span style=\"font-weight: bold\">Model: \"functional_5\"</span>\n",
              "</pre>\n"
            ]
          },
          "metadata": {}
        },
        {
          "output_type": "display_data",
          "data": {
            "text/plain": [
              "┏━━━━━━━━━━━━━━━━━━━━━┳━━━━━━━━━━━━━━━━━━━┳━━━━━━━━━━━━┳━━━━━━━━━━━━━━━━━━━┓\n",
              "┃\u001b[1m \u001b[0m\u001b[1mLayer (type)       \u001b[0m\u001b[1m \u001b[0m┃\u001b[1m \u001b[0m\u001b[1mOutput Shape     \u001b[0m\u001b[1m \u001b[0m┃\u001b[1m \u001b[0m\u001b[1m   Param #\u001b[0m\u001b[1m \u001b[0m┃\u001b[1m \u001b[0m\u001b[1mConnected to     \u001b[0m\u001b[1m \u001b[0m┃\n",
              "┡━━━━━━━━━━━━━━━━━━━━━╇━━━━━━━━━━━━━━━━━━━╇━━━━━━━━━━━━╇━━━━━━━━━━━━━━━━━━━┩\n",
              "│ target_input        │ (\u001b[38;5;45mNone\u001b[0m)            │          \u001b[38;5;34m0\u001b[0m │ -                 │\n",
              "│ (\u001b[38;5;33mInputLayer\u001b[0m)        │                   │            │                   │\n",
              "├─────────────────────┼───────────────────┼────────────┼───────────────────┤\n",
              "│ context_input       │ (\u001b[38;5;45mNone\u001b[0m)            │          \u001b[38;5;34m0\u001b[0m │ -                 │\n",
              "│ (\u001b[38;5;33mInputLayer\u001b[0m)        │                   │            │                   │\n",
              "├─────────────────────┼───────────────────┼────────────┼───────────────────┤\n",
              "│ embedding_45_windo… │ (\u001b[38;5;45mNone\u001b[0m, \u001b[38;5;34m45\u001b[0m)        │     \u001b[38;5;34m45,045\u001b[0m │ target_input[\u001b[38;5;34m0\u001b[0m][\u001b[38;5;34m…\u001b[0m │\n",
              "│ (\u001b[38;5;33mEmbedding\u001b[0m)         │                   │            │ context_input[\u001b[38;5;34m0\u001b[0m]… │\n",
              "├─────────────────────┼───────────────────┼────────────┼───────────────────┤\n",
              "│ dot_5 (\u001b[38;5;33mDot\u001b[0m)         │ (\u001b[38;5;45mNone\u001b[0m, \u001b[38;5;34m1\u001b[0m)         │          \u001b[38;5;34m0\u001b[0m │ embedding_45_win… │\n",
              "│                     │                   │            │ embedding_45_win… │\n",
              "├─────────────────────┼───────────────────┼────────────┼───────────────────┤\n",
              "│ reshape_5 (\u001b[38;5;33mReshape\u001b[0m) │ (\u001b[38;5;45mNone\u001b[0m, \u001b[38;5;34m1\u001b[0m)         │          \u001b[38;5;34m0\u001b[0m │ dot_5[\u001b[38;5;34m0\u001b[0m][\u001b[38;5;34m0\u001b[0m]       │\n",
              "├─────────────────────┼───────────────────┼────────────┼───────────────────┤\n",
              "│ dense_5 (\u001b[38;5;33mDense\u001b[0m)     │ (\u001b[38;5;45mNone\u001b[0m, \u001b[38;5;34m1\u001b[0m)         │          \u001b[38;5;34m2\u001b[0m │ reshape_5[\u001b[38;5;34m0\u001b[0m][\u001b[38;5;34m0\u001b[0m]   │\n",
              "└─────────────────────┴───────────────────┴────────────┴───────────────────┘\n"
            ],
            "text/html": [
              "<pre style=\"white-space:pre;overflow-x:auto;line-height:normal;font-family:Menlo,'DejaVu Sans Mono',consolas,'Courier New',monospace\">┏━━━━━━━━━━━━━━━━━━━━━┳━━━━━━━━━━━━━━━━━━━┳━━━━━━━━━━━━┳━━━━━━━━━━━━━━━━━━━┓\n",
              "┃<span style=\"font-weight: bold\"> Layer (type)        </span>┃<span style=\"font-weight: bold\"> Output Shape      </span>┃<span style=\"font-weight: bold\">    Param # </span>┃<span style=\"font-weight: bold\"> Connected to      </span>┃\n",
              "┡━━━━━━━━━━━━━━━━━━━━━╇━━━━━━━━━━━━━━━━━━━╇━━━━━━━━━━━━╇━━━━━━━━━━━━━━━━━━━┩\n",
              "│ target_input        │ (<span style=\"color: #00d7ff; text-decoration-color: #00d7ff\">None</span>)            │          <span style=\"color: #00af00; text-decoration-color: #00af00\">0</span> │ -                 │\n",
              "│ (<span style=\"color: #0087ff; text-decoration-color: #0087ff\">InputLayer</span>)        │                   │            │                   │\n",
              "├─────────────────────┼───────────────────┼────────────┼───────────────────┤\n",
              "│ context_input       │ (<span style=\"color: #00d7ff; text-decoration-color: #00d7ff\">None</span>)            │          <span style=\"color: #00af00; text-decoration-color: #00af00\">0</span> │ -                 │\n",
              "│ (<span style=\"color: #0087ff; text-decoration-color: #0087ff\">InputLayer</span>)        │                   │            │                   │\n",
              "├─────────────────────┼───────────────────┼────────────┼───────────────────┤\n",
              "│ embedding_45_windo… │ (<span style=\"color: #00d7ff; text-decoration-color: #00d7ff\">None</span>, <span style=\"color: #00af00; text-decoration-color: #00af00\">45</span>)        │     <span style=\"color: #00af00; text-decoration-color: #00af00\">45,045</span> │ target_input[<span style=\"color: #00af00; text-decoration-color: #00af00\">0</span>][<span style=\"color: #00af00; text-decoration-color: #00af00\">…</span> │\n",
              "│ (<span style=\"color: #0087ff; text-decoration-color: #0087ff\">Embedding</span>)         │                   │            │ context_input[<span style=\"color: #00af00; text-decoration-color: #00af00\">0</span>]… │\n",
              "├─────────────────────┼───────────────────┼────────────┼───────────────────┤\n",
              "│ dot_5 (<span style=\"color: #0087ff; text-decoration-color: #0087ff\">Dot</span>)         │ (<span style=\"color: #00d7ff; text-decoration-color: #00d7ff\">None</span>, <span style=\"color: #00af00; text-decoration-color: #00af00\">1</span>)         │          <span style=\"color: #00af00; text-decoration-color: #00af00\">0</span> │ embedding_45_win… │\n",
              "│                     │                   │            │ embedding_45_win… │\n",
              "├─────────────────────┼───────────────────┼────────────┼───────────────────┤\n",
              "│ reshape_5 (<span style=\"color: #0087ff; text-decoration-color: #0087ff\">Reshape</span>) │ (<span style=\"color: #00d7ff; text-decoration-color: #00d7ff\">None</span>, <span style=\"color: #00af00; text-decoration-color: #00af00\">1</span>)         │          <span style=\"color: #00af00; text-decoration-color: #00af00\">0</span> │ dot_5[<span style=\"color: #00af00; text-decoration-color: #00af00\">0</span>][<span style=\"color: #00af00; text-decoration-color: #00af00\">0</span>]       │\n",
              "├─────────────────────┼───────────────────┼────────────┼───────────────────┤\n",
              "│ dense_5 (<span style=\"color: #0087ff; text-decoration-color: #0087ff\">Dense</span>)     │ (<span style=\"color: #00d7ff; text-decoration-color: #00d7ff\">None</span>, <span style=\"color: #00af00; text-decoration-color: #00af00\">1</span>)         │          <span style=\"color: #00af00; text-decoration-color: #00af00\">2</span> │ reshape_5[<span style=\"color: #00af00; text-decoration-color: #00af00\">0</span>][<span style=\"color: #00af00; text-decoration-color: #00af00\">0</span>]   │\n",
              "└─────────────────────┴───────────────────┴────────────┴───────────────────┘\n",
              "</pre>\n"
            ]
          },
          "metadata": {}
        },
        {
          "output_type": "display_data",
          "data": {
            "text/plain": [
              "\u001b[1m Total params: \u001b[0m\u001b[38;5;34m135,143\u001b[0m (527.91 KB)\n"
            ],
            "text/html": [
              "<pre style=\"white-space:pre;overflow-x:auto;line-height:normal;font-family:Menlo,'DejaVu Sans Mono',consolas,'Courier New',monospace\"><span style=\"font-weight: bold\"> Total params: </span><span style=\"color: #00af00; text-decoration-color: #00af00\">135,143</span> (527.91 KB)\n",
              "</pre>\n"
            ]
          },
          "metadata": {}
        },
        {
          "output_type": "display_data",
          "data": {
            "text/plain": [
              "\u001b[1m Trainable params: \u001b[0m\u001b[38;5;34m45,047\u001b[0m (175.96 KB)\n"
            ],
            "text/html": [
              "<pre style=\"white-space:pre;overflow-x:auto;line-height:normal;font-family:Menlo,'DejaVu Sans Mono',consolas,'Courier New',monospace\"><span style=\"font-weight: bold\"> Trainable params: </span><span style=\"color: #00af00; text-decoration-color: #00af00\">45,047</span> (175.96 KB)\n",
              "</pre>\n"
            ]
          },
          "metadata": {}
        },
        {
          "output_type": "display_data",
          "data": {
            "text/plain": [
              "\u001b[1m Non-trainable params: \u001b[0m\u001b[38;5;34m0\u001b[0m (0.00 B)\n"
            ],
            "text/html": [
              "<pre style=\"white-space:pre;overflow-x:auto;line-height:normal;font-family:Menlo,'DejaVu Sans Mono',consolas,'Courier New',monospace\"><span style=\"font-weight: bold\"> Non-trainable params: </span><span style=\"color: #00af00; text-decoration-color: #00af00\">0</span> (0.00 B)\n",
              "</pre>\n"
            ]
          },
          "metadata": {}
        },
        {
          "output_type": "display_data",
          "data": {
            "text/plain": [
              "\u001b[1m Optimizer params: \u001b[0m\u001b[38;5;34m90,096\u001b[0m (351.94 KB)\n"
            ],
            "text/html": [
              "<pre style=\"white-space:pre;overflow-x:auto;line-height:normal;font-family:Menlo,'DejaVu Sans Mono',consolas,'Courier New',monospace\"><span style=\"font-weight: bold\"> Optimizer params: </span><span style=\"color: #00af00; text-decoration-color: #00af00\">90,096</span> (351.94 KB)\n",
              "</pre>\n"
            ]
          },
          "metadata": {}
        }
      ]
    },
    {
      "cell_type": "code",
      "source": [
        "# Step 6: Visualización de la pérdida\n",
        "plt.figure(figsize=(14, 8))\n",
        "colors = ['#1f77b4', '#ff7f0e', '#2ca02c']\n",
        "\n",
        "for idx, emb_size in enumerate(embedding_sizes):\n",
        "    for window in window_sizes:\n",
        "        key = f'emb_{emb_size}_{window}'\n",
        "        if key in loss_histories:\n",
        "            plt.plot(\n",
        "                loss_histories[key],\n",
        "                linestyle='--' if 'window_4' in key else '-',\n",
        "                color=colors[idx],\n",
        "                label=f'Dim {emb_size} - Ventana {window.split(\"_\")[1]}'\n",
        "            )\n",
        "\n",
        "plt.title('Evolución de la Pérdida por Época', pad=20, fontsize=14)\n",
        "plt.xlabel('Épocas', labelpad=15)\n",
        "plt.ylabel('Pérdida', labelpad=15)\n",
        "plt.xticks(range(4), [f'Época {i+1}' for i in range(4)])\n",
        "plt.legend(bbox_to_anchor=(1.05, 1), loc='upper left')\n",
        "plt.grid(True, alpha=0.3)\n",
        "plt.tight_layout()\n",
        "plt.savefig('loss_evolution.png', dpi=300, bbox_inches='tight')\n",
        "plt.show()\n"
      ],
      "metadata": {
        "id": "mkS5W1LFvWYg",
        "colab": {
          "base_uri": "https://localhost:8080/",
          "height": 649
        },
        "outputId": "f3cb6b6b-7f0e-4a9b-cf2a-229ff793669e"
      },
      "execution_count": 22,
      "outputs": [
        {
          "output_type": "display_data",
          "data": {
            "text/plain": [
              "<Figure size 1400x800 with 1 Axes>"
            ],
            "image/png": "[encoded data removed]"
          },
          "metadata": {}
        }
      ]
    },
    {
      "cell_type": "code",
      "source": [
        "# Example: vector for \"love\"\n",
        "idx = word2idx[\"love\"]\n",
        "\n",
        "print(f\"Embedding for 'love':\\n{final_embeddings['emb_45_window_2'][idx]}\")"
      ],
      "metadata": {
        "colab": {
          "base_uri": "https://localhost:8080/"
        },
        "id": "_nqE7T5sDvGb",
        "outputId": "a747ba22-8801-4f83-f2e8-15c90fc3ef88"
      },
      "execution_count": 23,
      "outputs": [
        {
          "output_type": "stream",
          "name": "stdout",
          "text": [
            "Embedding for 'love':\n",
            "[ 0.20378137 -0.03701727  0.2646498  -0.11921605 -0.01387983 -0.12920122\n",
            "  0.24241029 -0.24454923  0.1932945  -0.25294214  0.00562884 -0.13171194\n",
            "  0.070041   -0.18130316  0.01940314  0.1874355  -0.33415374  0.11762774\n",
            "  0.0242296   0.04062894 -0.14142087  0.21937238  0.29690737  0.01812905\n",
            "  0.18730804  0.12801585  0.06881994 -0.113443   -0.24448338 -0.24595442\n",
            " -0.04407727  0.16888323  0.17971586 -0.25756457  0.10830981  0.2138978\n",
            "  0.10815945  0.11341472  0.18375254  0.02760234 -0.08112929 -0.09571756\n",
            " -0.14525513 -0.20782368  0.18367238]\n"
          ]
        }
      ]
    },
    {
      "cell_type": "code",
      "source": [
        "\n",
        "\n",
        "# 1) Lista de las 10 palabras puras (sin frecuencia)\n",
        "top_10_words = [w for w,_ in top_10]\n",
        "\n",
        "# 2) Extrae los índices solo de las que realmente estén en tu vocabulario\n",
        "indices = []\n",
        "words   = []\n",
        "for w in top_10_words:\n",
        "    if w in word2idx:\n",
        "        indices.append(word2idx[w])\n",
        "        words.append(w)\n",
        "    else:\n",
        "        print(f\"Advertencia: '{w}' no está en el vocabulario\")\n",
        "\n",
        "# 3) Recorre cada modelo en final_embeddings\n",
        "for model_key, emb_matrix in final_embeddings.items():\n",
        "    # 4) Submatriz de solo las top palabras\n",
        "    submat = emb_matrix[indices]            # (n_words, emb_dim)\n",
        "\n",
        "    # 5) Calcula similitud de coseno\n",
        "    sim_mat = cosine_similarity(submat)     # (n_words, n_words)\n",
        "\n",
        "    # 6) Construye DataFrame y muestra\n",
        "    print(f\"\\n— Similitud de coseno para {model_key} —\")\n",
        "    df_sim = pd.DataFrame(sim_mat, index=words, columns=words)\n",
        "    display(df_sim)\n",
        "\n"
      ],
      "metadata": {
        "colab": {
          "base_uri": "https://localhost:8080/",
          "height": 397
        },
        "id": "uKqfFfltnEnb",
        "outputId": "aaf00477-84f2-4ccb-c569-82b303e6e0f9"
      },
      "execution_count": 24,
      "outputs": [
        {
          "output_type": "stream",
          "name": "stdout",
          "text": [
            "\n",
            "— Similitud de coseno para emb_45_window_2 —\n"
          ]
        },
        {
          "output_type": "display_data",
          "data": {
            "text/plain": [
              "              day     today      love       lol      time   mothers     night  \\\n",
              "day      1.000000 -0.139777  0.001921 -0.143926  0.427297 -0.455604  0.349796   \n",
              "today   -0.139777  1.000000  0.011209  0.111983 -0.157814  0.057064 -0.196571   \n",
              "love     0.001921  0.011209  1.000000 -0.120331 -0.039600  0.129690 -0.044688   \n",
              "lol     -0.143926  0.111983 -0.120331  1.000000 -0.016830 -0.082389 -0.144034   \n",
              "time     0.427297 -0.157814 -0.039600 -0.016830  1.000000 -0.053916  0.429439   \n",
              "mothers -0.455604  0.057064  0.129690 -0.082389 -0.053916  1.000000 -0.274238   \n",
              "night    0.349796 -0.196571 -0.044688 -0.144034  0.429439 -0.274238  1.000000   \n",
              "thanks   0.175026  0.045991 -0.076843 -0.285823  0.431082 -0.025837  0.190761   \n",
              "home    -0.024365 -0.157141 -0.191038 -0.088475 -0.111606 -0.083975  0.027027   \n",
              "hope    -0.116173 -0.039890  0.355727  0.075232  0.089472 -0.150571  0.092599   \n",
              "\n",
              "           thanks      home      hope  \n",
              "day      0.175026 -0.024365 -0.116173  \n",
              "today    0.045991 -0.157141 -0.039890  \n",
              "love    -0.076843 -0.191038  0.355727  \n",
              "lol     -0.285823 -0.088475  0.075232  \n",
              "time     0.431082 -0.111606  0.089472  \n",
              "mothers -0.025837 -0.083975 -0.150571  \n",
              "night    0.190761  0.027027  0.092599  \n",
              "thanks   1.000000  0.068775  0.235041  \n",
              "home     0.068775  1.000000 -0.145249  \n",
              "hope     0.235041 -0.145249  1.000000  "
            ],
            "text/html": [
              "\n",
              "  <div id=\"df-8684355b-0e16-4a66-b39d-eddc19988dca\" class=\"colab-df-container\">\n",
              "    <div>\n",
              "<style scoped>\n",
              "    .dataframe tbody tr th:only-of-type {\n",
              "        vertical-align: middle;\n",
              "    }\n",
              "\n",
              "    .dataframe tbody tr th {\n",
              "        vertical-align: top;\n",
              "    }\n",
              "\n",
              "    .dataframe thead th {\n",
              "        text-align: right;\n",
              "    }\n",
              "</style>\n",
              "<table border=\"1\" class=\"dataframe\">\n",
              "  <thead>\n",
              "    <tr style=\"text-align: right;\">\n",
              "      <th></th>\n",
              "      <th>day</th>\n",
              "      <th>today</th>\n",
              "      <th>love</th>\n",
              "      <th>lol</th>\n",
              "      <th>time</th>\n",
              "      <th>mothers</th>\n",
              "      <th>night</th>\n",
              "      <th>thanks</th>\n",
              "      <th>home</th>\n",
              "      <th>hope</th>\n",
              "    </tr>\n",
              "  </thead>\n",
              "  <tbody>\n",
              "    <tr>\n",
              "      <th>day</th>\n",
              "      <td>1.000000</td>\n",
              "      <td>-0.139777</td>\n",
              "      <td>0.001921</td>\n",
              "      <td>-0.143926</td>\n",
              "      <td>0.427297</td>\n",
              "      <td>-0.455604</td>\n",
              "      <td>0.349796</td>\n",
              "      <td>0.175026</td>\n",
              "      <td>-0.024365</td>\n",
              "      <td>-0.116173</td>\n",
              "    </tr>\n",
              "    <tr>\n",
              "      <th>today</th>\n",
              "      <td>-0.139777</td>\n",
              "      <td>1.000000</td>\n",
              "      <td>0.011209</td>\n",
              "      <td>0.111983</td>\n",
              "      <td>-0.157814</td>\n",
              "      <td>0.057064</td>\n",
              "      <td>-0.196571</td>\n",
              "      <td>0.045991</td>\n",
              "      <td>-0.157141</td>\n",
              "      <td>-0.039890</td>\n",
              "    </tr>\n",
              "    <tr>\n",
              "      <th>love</th>\n",
              "      <td>0.001921</td>\n",
              "      <td>0.011209</td>\n",
              "      <td>1.000000</td>\n",
              "      <td>-0.120331</td>\n",
              "      <td>-0.039600</td>\n",
              "      <td>0.129690</td>\n",
              "      <td>-0.044688</td>\n",
              "      <td>-0.076843</td>\n",
              "      <td>-0.191038</td>\n",
              "      <td>0.355727</td>\n",
              "    </tr>\n",
              "    <tr>\n",
              "      <th>lol</th>\n",
              "      <td>-0.143926</td>\n",
              "      <td>0.111983</td>\n",
              "      <td>-0.120331</td>\n",
              "      <td>1.000000</td>\n",
              "      <td>-0.016830</td>\n",
              "      <td>-0.082389</td>\n",
              "      <td>-0.144034</td>\n",
              "      <td>-0.285823</td>\n",
              "      <td>-0.088475</td>\n",
              "      <td>0.075232</td>\n",
              "    </tr>\n",
              "    <tr>\n",
              "      <th>time</th>\n",
              "      <td>0.427297</td>\n",
              "      <td>-0.157814</td>\n",
              "      <td>-0.039600</td>\n",
              "      <td>-0.016830</td>\n",
              "      <td>1.000000</td>\n",
              "      <td>-0.053916</td>\n",
              "      <td>0.429439</td>\n",
              "      <td>0.431082</td>\n",
              "      <td>-0.111606</td>\n",
              "      <td>0.089472</td>\n",
              "    </tr>\n",
              "    <tr>\n",
              "      <th>mothers</th>\n",
              "      <td>-0.455604</td>\n",
              "      <td>0.057064</td>\n",
              "      <td>0.129690</td>\n",
              "      <td>-0.082389</td>\n",
              "      <td>-0.053916</td>\n",
              "      <td>1.000000</td>\n",
              "      <td>-0.274238</td>\n",
              "      <td>-0.025837</td>\n",
              "      <td>-0.083975</td>\n",
              "      <td>-0.150571</td>\n",
              "    </tr>\n",
              "    <tr>\n",
              "      <th>night</th>\n",
              "      <td>0.349796</td>\n",
              "      <td>-0.196571</td>\n",
              "      <td>-0.044688</td>\n",
              "      <td>-0.144034</td>\n",
              "      <td>0.429439</td>\n",
              "      <td>-0.274238</td>\n",
              "      <td>1.000000</td>\n",
              "      <td>0.190761</td>\n",
              "      <td>0.027027</td>\n",
              "      <td>0.092599</td>\n",
              "    </tr>\n",
              "    <tr>\n",
              "      <th>thanks</th>\n",
              "      <td>0.175026</td>\n",
              "      <td>0.045991</td>\n",
              "      <td>-0.076843</td>\n",
              "      <td>-0.285823</td>\n",
              "      <td>0.431082</td>\n",
              "      <td>-0.025837</td>\n",
              "      <td>0.190761</td>\n",
              "      <td>1.000000</td>\n",
              "      <td>0.068775</td>\n",
              "      <td>0.235041</td>\n",
              "    </tr>\n",
              "    <tr>\n",
              "      <th>home</th>\n",
              "      <td>-0.024365</td>\n",
              "      <td>-0.157141</td>\n",
              "      <td>-0.191038</td>\n",
              "      <td>-0.088475</td>\n",
              "      <td>-0.111606</td>\n",
              "      <td>-0.083975</td>\n",
              "      <td>0.027027</td>\n",
              "      <td>0.068775</td>\n",
              "      <td>1.000000</td>\n",
              "      <td>-0.145249</td>\n",
              "    </tr>\n",
              "    <tr>\n",
              "      <th>hope</th>\n",
              "      <td>-0.116173</td>\n",
              "      <td>-0.039890</td>\n",
              "      <td>0.355727</td>\n",
              "      <td>0.075232</td>\n",
              "      <td>0.089472</td>\n",
              "      <td>-0.150571</td>\n",
              "      <td>0.092599</td>\n",
              "      <td>0.235041</td>\n",
              "      <td>-0.145249</td>\n",
              "      <td>1.000000</td>\n",
              "    </tr>\n",
              "  </tbody>\n",
              "</table>\n",
              "</div>\n",
              "    <div class=\"colab-df-buttons\">\n",
              "\n",
              "  <div class=\"colab-df-container\">\n",
              "    <button class=\"colab-df-convert\" onclick=\"convertToInteractive('df-8684355b-0e16-4a66-b39d-eddc19988dca')\"\n",
              "            title=\"Convert this dataframe to an interactive table.\"\n",
              "            style=\"display:none;\">\n",
              "\n",
              "  <svg xmlns=\"http://www.w3.org/2000/svg\" height=\"24px\" viewBox=\"0 -960 960 960\">\n",
              "    <path d=\"M120-120v-720h720v720H120Zm60-500h600v-160H180v160Zm220 220h160v-160H400v160Zm0 220h160v-160H400v160ZM180-400h160v-160H180v160Zm440 0h160v-160H620v160ZM180-180h160v-160H180v160Zm440 0h160v-160H620v160Z\"/>\n",
              "  </svg>\n",
              "    </button>\n",
              "\n",
              "  <style>\n",
              "    .colab-df-container {\n",
              "      display:flex;\n",
              "      gap: 12px;\n",
              "    }\n",
              "\n",
              "    .colab-df-convert {\n",
              "      background-color: #E8F0FE;\n",
              "      border: none;\n",
              "      border-radius: 50%;\n",
              "      cursor: pointer;\n",
              "      display: none;\n",
              "      fill: #1967D2;\n",
              "      height: 32px;\n",
              "      padding: 0 0 0 0;\n",
              "      width: 32px;\n",
              "    }\n",
              "\n",
              "    .colab-df-convert:hover {\n",
              "      background-color: #E2EBFA;\n",
              "      box-shadow: 0px 1px 2px rgba(60, 64, 67, 0.3), 0px 1px 3px 1px rgba(60, 64, 67, 0.15);\n",
              "      fill: #174EA6;\n",
              "    }\n",
              "\n",
              "    .colab-df-buttons div {\n",
              "      margin-bottom: 4px;\n",
              "    }\n",
              "\n",
              "    [theme=dark] .colab-df-convert {\n",
              "      background-color: #3B4455;\n",
              "      fill: #D2E3FC;\n",
              "    }\n",
              "\n",
              "    [theme=dark] .colab-df-convert:hover {\n",
              "      background-color: #434B5C;\n",
              "      box-shadow: 0px 1px 3px 1px rgba(0, 0, 0, 0.15);\n",
              "      filter: drop-shadow(0px 1px 2px rgba(0, 0, 0, 0.3));\n",
              "      fill: #FFFFFF;\n",
              "    }\n",
              "  </style>\n",
              "\n",
              "    <script>\n",
              "      const buttonEl =\n",
              "        document.querySelector('#df-8684355b-0e16-4a66-b39d-eddc19988dca button.colab-df-convert');\n",
              "      buttonEl.style.display =\n",
              "        google.colab.kernel.accessAllowed ? 'block' : 'none';\n",
              "\n",
              "      async function convertToInteractive(key) {\n",
              "        const element = document.querySelector('#df-8684355b-0e16-4a66-b39d-eddc19988dca');\n",
              "        const dataTable =\n",
              "          await google.colab.kernel.invokeFunction('convertToInteractive',\n",
              "                                                    [key], {});\n",
              "        if (!dataTable) return;\n",
              "\n",
              "        const docLinkHtml = 'Like what you see? Visit the ' +\n",
              "          '<a target=\"_blank\" href=https://colab.research.google.com/notebooks/data_table.ipynb>data table notebook</a>'\n",
              "          + ' to learn more about interactive tables.';\n",
              "        element.innerHTML = '';\n",
              "        dataTable['output_type'] = 'display_data';\n",
              "        await google.colab.output.renderOutput(dataTable, element);\n",
              "        const docLink = document.createElement('div');\n",
              "        docLink.innerHTML = docLinkHtml;\n",
              "        element.appendChild(docLink);\n",
              "      }\n",
              "    </script>\n",
              "  </div>\n",
              "\n",
              "\n",
              "    <div id=\"df-c1502c6c-5268-4373-bced-1fc0ed4f2938\">\n",
              "      <button class=\"colab-df-quickchart\" onclick=\"quickchart('df-c1502c6c-5268-4373-bced-1fc0ed4f2938')\"\n",
              "                title=\"Suggest charts\"\n",
              "                style=\"display:none;\">\n",
              "\n",
              "<svg xmlns=\"http://www.w3.org/2000/svg\" height=\"24px\"viewBox=\"0 0 24 24\"\n",
              "     width=\"24px\">\n",
              "    <g>\n",
              "        <path d=\"M19 3H5c-1.1 0-2 .9-2 2v14c0 1.1.9 2 2 2h14c1.1 0 2-.9 2-2V5c0-1.1-.9-2-2-2zM9 17H7v-7h2v7zm4 0h-2V7h2v10zm4 0h-2v-4h2v4z\"/>\n",
              "    </g>\n",
              "</svg>\n",
              "      </button>\n",
              "\n",
              "<style>\n",
              "  .colab-df-quickchart {\n",
              "      --bg-color: #E8F0FE;\n",
              "      --fill-color: #1967D2;\n",
              "      --hover-bg-color: #E2EBFA;\n",
              "      --hover-fill-color: #174EA6;\n",
              "      --disabled-fill-color: #AAA;\n",
              "      --disabled-bg-color: #DDD;\n",
              "  }\n",
              "\n",
              "  [theme=dark] .colab-df-quickchart {\n",
              "      --bg-color: #3B4455;\n",
              "      --fill-color: #D2E3FC;\n",
              "      --hover-bg-color: #434B5C;\n",
              "      --hover-fill-color: #FFFFFF;\n",
              "      --disabled-bg-color: #3B4455;\n",
              "      --disabled-fill-color: #666;\n",
              "  }\n",
              "\n",
              "  .colab-df-quickchart {\n",
              "    background-color: var(--bg-color);\n",
              "    border: none;\n",
              "    border-radius: 50%;\n",
              "    cursor: pointer;\n",
              "    display: none;\n",
              "    fill: var(--fill-color);\n",
              "    height: 32px;\n",
              "    padding: 0;\n",
              "    width: 32px;\n",
              "  }\n",
              "\n",
              "  .colab-df-quickchart:hover {\n",
              "    background-color: var(--hover-bg-color);\n",
              "    box-shadow: 0 1px 2px rgba(60, 64, 67, 0.3), 0 1px 3px 1px rgba(60, 64, 67, 0.15);\n",
              "    fill: var(--button-hover-fill-color);\n",
              "  }\n",
              "\n",
              "  .colab-df-quickchart-complete:disabled,\n",
              "  .colab-df-quickchart-complete:disabled:hover {\n",
              "    background-color: var(--disabled-bg-color);\n",
              "    fill: var(--disabled-fill-color);\n",
              "    box-shadow: none;\n",
              "  }\n",
              "\n",
              "  .colab-df-spinner {\n",
              "    border: 2px solid var(--fill-color);\n",
              "    border-color: transparent;\n",
              "    border-bottom-color: var(--fill-color);\n",
              "    animation:\n",
              "      spin 1s steps(1) infinite;\n",
              "  }\n",
              "\n",
              "  @keyframes spin {\n",
              "    0% {\n",
              "      border-color: transparent;\n",
              "      border-bottom-color: var(--fill-color);\n",
              "      border-left-color: var(--fill-color);\n",
              "    }\n",
              "    20% {\n",
              "      border-color: transparent;\n",
              "      border-left-color: var(--fill-color);\n",
              "      border-top-color: var(--fill-color);\n",
              "    }\n",
              "    30% {\n",
              "      border-color: transparent;\n",
              "      border-left-color: var(--fill-color);\n",
              "      border-top-color: var(--fill-color);\n",
              "      border-right-color: var(--fill-color);\n",
              "    }\n",
              "    40% {\n",
              "      border-color: transparent;\n",
              "      border-right-color: var(--fill-color);\n",
              "      border-top-color: var(--fill-color);\n",
              "    }\n",
              "    60% {\n",
              "      border-color: transparent;\n",
              "      border-right-color: var(--fill-color);\n",
              "    }\n",
              "    80% {\n",
              "      border-color: transparent;\n",
              "      border-right-color: var(--fill-color);\n",
              "      border-bottom-color: var(--fill-color);\n",
              "    }\n",
              "    90% {\n",
              "      border-color: transparent;\n",
              "      border-bottom-color: var(--fill-color);\n",
              "    }\n",
              "  }\n",
              "</style>\n",
              "\n",
              "      <script>\n",
              "        async function quickchart(key) {\n",
              "          const quickchartButtonEl =\n",
              "            document.querySelector('#' + key + ' button');\n",
              "          quickchartButtonEl.disabled = true;  // To prevent multiple clicks.\n",
              "          quickchartButtonEl.classList.add('colab-df-spinner');\n",
              "          try {\n",
              "            const charts = await google.colab.kernel.invokeFunction(\n",
              "                'suggestCharts', [key], {});\n",
              "          } catch (error) {\n",
              "            console.error('Error during call to suggestCharts:', error);\n",
              "          }\n",
              "          quickchartButtonEl.classList.remove('colab-df-spinner');\n",
              "          quickchartButtonEl.classList.add('colab-df-quickchart-complete');\n",
              "        }\n",
              "        (() => {\n",
              "          let quickchartButtonEl =\n",
              "            document.querySelector('#df-c1502c6c-5268-4373-bced-1fc0ed4f2938 button');\n",
              "          quickchartButtonEl.style.display =\n",
              "            google.colab.kernel.accessAllowed ? 'block' : 'none';\n",
              "        })();\n",
              "      </script>\n",
              "    </div>\n",
              "\n",
              "  <div id=\"id_e7b58900-8d42-4448-a4aa-4ae6fb06f55f\">\n",
              "    <style>\n",
              "      .colab-df-generate {\n",
              "        background-color: #E8F0FE;\n",
              "        border: none;\n",
              "        border-radius: 50%;\n",
              "        cursor: pointer;\n",
              "        display: none;\n",
              "        fill: #1967D2;\n",
              "        height: 32px;\n",
              "        padding: 0 0 0 0;\n",
              "        width: 32px;\n",
              "      }\n",
              "\n",
              "      .colab-df-generate:hover {\n",
              "        background-color: #E2EBFA;\n",
              "        box-shadow: 0px 1px 2px rgba(60, 64, 67, 0.3), 0px 1px 3px 1px rgba(60, 64, 67, 0.15);\n",
              "        fill: #174EA6;\n",
              "      }\n",
              "\n",
              "      [theme=dark] .colab-df-generate {\n",
              "        background-color: #3B4455;\n",
              "        fill: #D2E3FC;\n",
              "      }\n",
              "\n",
              "      [theme=dark] .colab-df-generate:hover {\n",
              "        background-color: #434B5C;\n",
              "        box-shadow: 0px 1px 3px 1px rgba(0, 0, 0, 0.15);\n",
              "        filter: drop-shadow(0px 1px 2px rgba(0, 0, 0, 0.3));\n",
              "        fill: #FFFFFF;\n",
              "      }\n",
              "    </style>\n",
              "    <button class=\"colab-df-generate\" onclick=\"generateWithVariable('df_sim')\"\n",
              "            title=\"Generate code using this dataframe.\"\n",
              "            style=\"display:none;\">\n",
              "\n",
              "  <svg xmlns=\"http://www.w3.org/2000/svg\" height=\"24px\"viewBox=\"0 0 24 24\"\n",
              "       width=\"24px\">\n",
              "    <path d=\"M7,19H8.4L18.45,9,17,7.55,7,17.6ZM5,21V16.75L18.45,3.32a2,2,0,0,1,2.83,0l1.4,1.43a1.91,1.91,0,0,1,.58,1.4,1.91,1.91,0,0,1-.58,1.4L9.25,21ZM18.45,9,17,7.55Zm-12,3A5.31,5.31,0,0,0,4.9,8.1,5.31,5.31,0,0,0,1,6.5,5.31,5.31,0,0,0,4.9,4.9,5.31,5.31,0,0,0,6.5,1,5.31,5.31,0,0,0,8.1,4.9,5.31,5.31,0,0,0,12,6.5,5.46,5.46,0,0,0,6.5,12Z\"/>\n",
              "  </svg>\n",
              "    </button>\n",
              "    <script>\n",
              "      (() => {\n",
              "      const buttonEl =\n",
              "        document.querySelector('#id_e7b58900-8d42-4448-a4aa-4ae6fb06f55f button.colab-df-generate');\n",
              "      buttonEl.style.display =\n",
              "        google.colab.kernel.accessAllowed ? 'block' : 'none';\n",
              "\n",
              "      buttonEl.onclick = () => {\n",
              "        google.colab.notebook.generateWithVariable('df_sim');\n",
              "      }\n",
              "      })();\n",
              "    </script>\n",
              "  </div>\n",
              "\n",
              "    </div>\n",
              "  </div>\n"
            ],
            "application/vnd.google.colaboratory.intrinsic+json": {
              "type": "dataframe",
              "variable_name": "df_sim",
              "summary": "{\n  \"name\": \"df_sim\",\n  \"rows\": 10,\n  \"fields\": [\n    {\n      \"column\": \"day\",\n      \"properties\": {\n        \"dtype\": \"float32\",\n        \"num_unique_values\": 10,\n        \"samples\": [\n          -0.024365343153476715,\n          -0.13977733254432678,\n          -0.4556044638156891\n        ],\n        \"semantic_type\": \"\",\n        \"description\": \"\"\n      }\n    },\n    {\n      \"column\": \"today\",\n      \"properties\": {\n        \"dtype\": \"float32\",\n        \"num_unique_values\": 10,\n        \"samples\": [\n          -0.1571410745382309,\n          1.0,\n          0.057064488530159\n        ],\n        \"semantic_type\": \"\",\n        \"description\": \"\"\n      }\n    },\n    {\n      \"column\": \"love\",\n      \"properties\": {\n        \"dtype\": \"float32\",\n        \"num_unique_values\": 10,\n        \"samples\": [\n          -0.19103789329528809,\n          0.011208605952560902,\n          0.12968961894512177\n        ],\n        \"semantic_type\": \"\",\n        \"description\": \"\"\n      }\n    },\n    {\n      \"column\": \"lol\",\n      \"properties\": {\n        \"dtype\": \"float32\",\n        \"num_unique_values\": 10,\n        \"samples\": [\n          -0.08847483992576599,\n          0.11198342591524124,\n          -0.08238869905471802\n        ],\n        \"semantic_type\": \"\",\n        \"description\": \"\"\n      }\n    },\n    {\n      \"column\": \"time\",\n      \"properties\": {\n        \"dtype\": \"float32\",\n        \"num_unique_values\": 10,\n        \"samples\": [\n          -0.11160583049058914,\n          -0.1578136682510376,\n          -0.05391611158847809\n        ],\n        \"semantic_type\": \"\",\n        \"description\": \"\"\n      }\n    },\n    {\n      \"column\": \"mothers\",\n      \"properties\": {\n        \"dtype\": \"float32\",\n        \"num_unique_values\": 10,\n        \"samples\": [\n          -0.08397484570741653,\n          0.057064488530159,\n          0.9999998807907104\n        ],\n        \"semantic_type\": \"\",\n        \"description\": \"\"\n      }\n    },\n    {\n      \"column\": \"night\",\n      \"properties\": {\n        \"dtype\": \"float32\",\n        \"num_unique_values\": 10,\n        \"samples\": [\n          0.027026522904634476,\n          -0.19657112658023834,\n          -0.2742379605770111\n        ],\n        \"semantic_type\": \"\",\n        \"description\": \"\"\n      }\n    },\n    {\n      \"column\": \"thanks\",\n      \"properties\": {\n        \"dtype\": \"float32\",\n        \"num_unique_values\": 10,\n        \"samples\": [\n          0.06877496838569641,\n          0.045990586280822754,\n          -0.025837374851107597\n        ],\n        \"semantic_type\": \"\",\n        \"description\": \"\"\n      }\n    },\n    {\n      \"column\": \"home\",\n      \"properties\": {\n        \"dtype\": \"float32\",\n        \"num_unique_values\": 10,\n        \"samples\": [\n          1.0,\n          -0.1571410745382309,\n          -0.08397484570741653\n        ],\n        \"semantic_type\": \"\",\n        \"description\": \"\"\n      }\n    },\n    {\n      \"column\": \"hope\",\n      \"properties\": {\n        \"dtype\": \"float32\",\n        \"num_unique_values\": 10,\n        \"samples\": [\n          -0.1452491134405136,\n          -0.039889633655548096,\n          -0.15057098865509033\n        ],\n        \"semantic_type\": \"\",\n        \"description\": \"\"\n      }\n    }\n  ]\n}"
            }
          },
          "metadata": {}
        }
      ]
    },
    {
      "cell_type": "code",
      "source": [
        "\n",
        "\n",
        "# Define aquí tres grupos basados en tu top-10\n",
        "grupos = {\n",
        "    'Día/Mañana':     ['day', 'today', 'morning'],\n",
        "    'Emoción Positiva':['love', 'hope', 'thanks'],\n",
        "    'Risa/Conversación':['lol', 'thanks', 'mothers']  # ejemplo mixto\n",
        "}\n",
        "\n",
        "for model_key, emb_matrix in final_embeddings.items():\n",
        "    print(f\"\\n=== Similitudes para {model_key} ===\")\n",
        "    # Extrae solo los vectores de tus 10 palabras\n",
        "    submat = emb_matrix[indices]           # (10, emb_dim)\n",
        "    sim_mat = cosine_similarity(submat)    # (10, 10)\n",
        "\n",
        "    # Mapea palabra -> posición en 'words'\n",
        "    pos = {w:i for i,w in enumerate(words)}\n",
        "\n",
        "    for nombre, group in grupos.items():\n",
        "        # Filtra solo los que realmente están en tu top\n",
        "        valid = [w for w in group if w in pos]\n",
        "        idxs  = [pos[w] for w in valid]\n",
        "        if len(idxs) < 2:\n",
        "            print(f\"  * Grupo «{nombre}» tiene <2 palabras válidas, omito.\")\n",
        "            continue\n",
        "\n",
        "        sims = []\n",
        "        print(f\"\\n  Grupo «{nombre}»: {valid}\")\n",
        "        for i,j in combinations(idxs, 2):\n",
        "            s = sim_mat[i, j]\n",
        "            sims.append(s)\n",
        "            print(f\"    Sim({words[i]}, {words[j]}) = {s:.3f}\")\n",
        "\n",
        "        print(f\"    → Similitud media = {np.mean(sims):.3f}\")\n",
        "\n"
      ],
      "metadata": {
        "colab": {
          "base_uri": "https://localhost:8080/"
        },
        "id": "ukyXVy0PGJN9",
        "outputId": "bac8b919-6143-4f28-f206-04b36d21253c"
      },
      "execution_count": 25,
      "outputs": [
        {
          "output_type": "stream",
          "name": "stdout",
          "text": [
            "\n",
            "=== Similitudes para emb_45_window_2 ===\n",
            "\n",
            "  Grupo «Día/Mañana»: ['day', 'today']\n",
            "    Sim(day, today) = -0.140\n",
            "    → Similitud media = -0.140\n",
            "\n",
            "  Grupo «Emoción Positiva»: ['love', 'hope', 'thanks']\n",
            "    Sim(love, hope) = 0.356\n",
            "    Sim(love, thanks) = -0.077\n",
            "    Sim(hope, thanks) = 0.235\n",
            "    → Similitud media = 0.171\n",
            "\n",
            "  Grupo «Risa/Conversación»: ['lol', 'thanks', 'mothers']\n",
            "    Sim(lol, thanks) = -0.286\n",
            "    Sim(lol, mothers) = -0.082\n",
            "    Sim(thanks, mothers) = -0.026\n",
            "    → Similitud media = -0.131\n"
          ]
        }
      ]
    },
    {
      "cell_type": "markdown",
      "source": [
        "# **FASE 3**"
      ],
      "metadata": {
        "id": "e_9w94uiIQVd"
      }
    },
    {
      "cell_type": "code",
      "source": [
        "import matplotlib.pyplot as plt\n",
        "small_train_df['text_clean'].str.split().map(len).hist()"
      ],
      "metadata": {
        "colab": {
          "base_uri": "https://localhost:8080/",
          "height": 447
        },
        "id": "-liqYtdohma5",
        "outputId": "c26dddcb-67bb-4522-b9fe-f61da48f61ab"
      },
      "execution_count": 28,
      "outputs": [
        {
          "output_type": "execute_result",
          "data": {
            "text/plain": [
              "<Axes: >"
            ]
          },
          "metadata": {},
          "execution_count": 28
        },
        {
          "output_type": "display_data",
          "data": {
            "text/plain": [
              "<Figure size 640x480 with 1 Axes>"
            ],
            "image/png": "[encoded data removed]"
          },
          "metadata": {}
        }
      ]
    },
    {
      "cell_type": "code",
      "source": [
        "# --- FASE 3: DOS RNN SECUENCIALES CON EMBEDDINGS PRE-ENTRENADOS ---\n",
        "\n",
        "# Parámetros generales\n",
        "maxlen        = 30\n",
        "batch_rnn     = 32\n",
        "epochs_rnn    = 5\n",
        "learning_rate = 0.004\n",
        "\n",
        "# 1) Usa SMALL_TRAIN_DF / SMALL_TEST_DF y quita filas sin etiqueta\n",
        "small_train_df.dropna(subset=['sentiment'], inplace=True)\n",
        "small_test_df.dropna(subset=['sentiment'], inplace=True)\n",
        "\n",
        "texts_train = small_train_df['text_clean'].tolist()\n",
        "texts_test  = small_test_df['text_clean'].tolist()\n",
        "\n",
        "# 2) LabelEncoder para convertir strings → enteros\n",
        "le       = LabelEncoder()\n",
        "y_train  = le.fit_transform(small_train_df['sentiment'])\n",
        "y_test   = le.transform(small_test_df['sentiment'])\n",
        "y_train  = y_train.astype('int32')\n",
        "y_test   = y_test.astype('int32')\n",
        "num_classes = len(le.classes_)\n",
        "print(\"Clases sentiment codificadas:\", le.classes_)\n",
        "\n",
        "# 3) Secuencias + padding\n",
        "seq_train = tokenizer.texts_to_sequences(texts_train)\n",
        "seq_test  = tokenizer.texts_to_sequences(texts_test)\n",
        "X_train   = pad_sequences(seq_train, maxlen=maxlen, padding='post')\n",
        "X_test    = pad_sequences(seq_test,  maxlen=maxlen, padding='post')\n",
        "\n",
        "# 4) Crea datasets optimizados\n",
        "train_ds = tf.data.Dataset.from_tensor_slices((X_train, y_train)) \\\n",
        "                         .shuffle(len(X_train)) \\\n",
        "                         .batch(batch_rnn) \\\n",
        "                         .prefetch(tf.data.AUTOTUNE)\n",
        "test_ds  = tf.data.Dataset.from_tensor_slices((X_test, y_test)) \\\n",
        "                         .batch(batch_rnn) \\\n",
        "                         .prefetch(tf.data.AUTOTUNE)\n",
        "\n",
        "# 5) Elige qué embeddings usar\n",
        "key_A = 'emb_45_window_2'\n",
        "key_B = 'emb_45_window_2'  # <-- ¡elige uno distinto al anterior!\n",
        "emb_A = final_embeddings[key_A]\n",
        "emb_B = final_embeddings[key_B]\n",
        "vocab_sz = vocab_size\n",
        "\n",
        "# 6) Modelo A: Bi-LSTM + Bi-GRU (profundo)\n",
        "model_A = keras.Sequential([\n",
        "    Embedding(input_dim=vocab_sz,\n",
        "              output_dim=emb_A.shape[1],\n",
        "              weights=[emb_A],\n",
        "              mask_zero=True,\n",
        "              trainable=False),\n",
        "    Bidirectional(LSTM(64, return_sequences=True)),\n",
        "    Bidirectional(GRU(64)),\n",
        "    Dense(64, activation='relu'),\n",
        "    Dense(num_classes, activation='softmax')\n",
        "], name='Model_A')\n",
        "model_A.compile(\n",
        "    loss='sparse_categorical_crossentropy',\n",
        "    optimizer=keras.optimizers.Adam(learning_rate=learning_rate),\n",
        "    metrics=['accuracy']\n",
        ")\n",
        "print(\"\\n--- Model A Summary ---\")\n",
        "model_A.summary()\n",
        "\n",
        "# 7) Modelo B: Bi-LSTM simple (profundo)\n",
        "model_B = keras.Sequential([\n",
        "    Embedding(input_dim=vocab_sz,\n",
        "              output_dim=emb_B.shape[1],\n",
        "              weights=[emb_B],\n",
        "              mask_zero=True,\n",
        "              trainable=False),\n",
        "    Bidirectional(LSTM(32)),\n",
        "    Dense(64, activation='relu'),\n",
        "    Dense(num_classes, activation='softmax')\n",
        "], name='Model_B')\n",
        "model_B.compile(\n",
        "    loss='sparse_categorical_crossentropy',\n",
        "    optimizer=keras.optimizers.Adam(learning_rate=learning_rate),\n",
        "    metrics=['accuracy']\n",
        ")\n",
        "print(\"\\n--- Model B Summary ---\")\n",
        "model_B.summary()\n"
      ],
      "metadata": {
        "colab": {
          "base_uri": "https://localhost:8080/",
          "height": 664
        },
        "id": "4sC_xmPKG8te",
        "outputId": "3ac728ba-831f-46b0-f58a-2b56362c7ade"
      },
      "execution_count": 39,
      "outputs": [
        {
          "output_type": "stream",
          "name": "stdout",
          "text": [
            "Clases sentiment codificadas: ['negative' 'neutral' 'positive']\n",
            "\n",
            "--- Model A Summary ---\n"
          ]
        },
        {
          "output_type": "display_data",
          "data": {
            "text/plain": [
              "\u001b[1mModel: \"Model_A\"\u001b[0m\n"
            ],
            "text/html": [
              "<pre style=\"white-space:pre;overflow-x:auto;line-height:normal;font-family:Menlo,'DejaVu Sans Mono',consolas,'Courier New',monospace\"><span style=\"font-weight: bold\">Model: \"Model_A\"</span>\n",
              "</pre>\n"
            ]
          },
          "metadata": {}
        },
        {
          "output_type": "display_data",
          "data": {
            "text/plain": [
              "┏━━━━━━━━━━━━━━━━━━━━━━━━━━━━━━━━━┳━━━━━━━━━━━━━━━━━━━━━━━━┳━━━━━━━━━━━━━━━┓\n",
              "┃\u001b[1m \u001b[0m\u001b[1mLayer (type)                   \u001b[0m\u001b[1m \u001b[0m┃\u001b[1m \u001b[0m\u001b[1mOutput Shape          \u001b[0m\u001b[1m \u001b[0m┃\u001b[1m \u001b[0m\u001b[1m      Param #\u001b[0m\u001b[1m \u001b[0m┃\n",
              "┡━━━━━━━━━━━━━━━━━━━━━━━━━━━━━━━━━╇━━━━━━━━━━━━━━━━━━━━━━━━╇━━━━━━━━━━━━━━━┩\n",
              "│ embedding_8 (\u001b[38;5;33mEmbedding\u001b[0m)         │ ?                      │        \u001b[38;5;34m45,045\u001b[0m │\n",
              "├─────────────────────────────────┼────────────────────────┼───────────────┤\n",
              "│ bidirectional_12                │ ?                      │   \u001b[38;5;34m0\u001b[0m (unbuilt) │\n",
              "│ (\u001b[38;5;33mBidirectional\u001b[0m)                 │                        │               │\n",
              "├─────────────────────────────────┼────────────────────────┼───────────────┤\n",
              "│ bidirectional_13                │ ?                      │   \u001b[38;5;34m0\u001b[0m (unbuilt) │\n",
              "│ (\u001b[38;5;33mBidirectional\u001b[0m)                 │                        │               │\n",
              "├─────────────────────────────────┼────────────────────────┼───────────────┤\n",
              "│ dense_22 (\u001b[38;5;33mDense\u001b[0m)                │ ?                      │   \u001b[38;5;34m0\u001b[0m (unbuilt) │\n",
              "├─────────────────────────────────┼────────────────────────┼───────────────┤\n",
              "│ dense_23 (\u001b[38;5;33mDense\u001b[0m)                │ ?                      │   \u001b[38;5;34m0\u001b[0m (unbuilt) │\n",
              "└─────────────────────────────────┴────────────────────────┴───────────────┘\n"
            ],
            "text/html": [
              "<pre style=\"white-space:pre;overflow-x:auto;line-height:normal;font-family:Menlo,'DejaVu Sans Mono',consolas,'Courier New',monospace\">┏━━━━━━━━━━━━━━━━━━━━━━━━━━━━━━━━━┳━━━━━━━━━━━━━━━━━━━━━━━━┳━━━━━━━━━━━━━━━┓\n",
              "┃<span style=\"font-weight: bold\"> Layer (type)                    </span>┃<span style=\"font-weight: bold\"> Output Shape           </span>┃<span style=\"font-weight: bold\">       Param # </span>┃\n",
              "┡━━━━━━━━━━━━━━━━━━━━━━━━━━━━━━━━━╇━━━━━━━━━━━━━━━━━━━━━━━━╇━━━━━━━━━━━━━━━┩\n",
              "│ embedding_8 (<span style=\"color: #0087ff; text-decoration-color: #0087ff\">Embedding</span>)         │ ?                      │        <span style=\"color: #00af00; text-decoration-color: #00af00\">45,045</span> │\n",
              "├─────────────────────────────────┼────────────────────────┼───────────────┤\n",
              "│ bidirectional_12                │ ?                      │   <span style=\"color: #00af00; text-decoration-color: #00af00\">0</span> (unbuilt) │\n",
              "│ (<span style=\"color: #0087ff; text-decoration-color: #0087ff\">Bidirectional</span>)                 │                        │               │\n",
              "├─────────────────────────────────┼────────────────────────┼───────────────┤\n",
              "│ bidirectional_13                │ ?                      │   <span style=\"color: #00af00; text-decoration-color: #00af00\">0</span> (unbuilt) │\n",
              "│ (<span style=\"color: #0087ff; text-decoration-color: #0087ff\">Bidirectional</span>)                 │                        │               │\n",
              "├─────────────────────────────────┼────────────────────────┼───────────────┤\n",
              "│ dense_22 (<span style=\"color: #0087ff; text-decoration-color: #0087ff\">Dense</span>)                │ ?                      │   <span style=\"color: #00af00; text-decoration-color: #00af00\">0</span> (unbuilt) │\n",
              "├─────────────────────────────────┼────────────────────────┼───────────────┤\n",
              "│ dense_23 (<span style=\"color: #0087ff; text-decoration-color: #0087ff\">Dense</span>)                │ ?                      │   <span style=\"color: #00af00; text-decoration-color: #00af00\">0</span> (unbuilt) │\n",
              "└─────────────────────────────────┴────────────────────────┴───────────────┘\n",
              "</pre>\n"
            ]
          },
          "metadata": {}
        },
        {
          "output_type": "display_data",
          "data": {
            "text/plain": [
              "\u001b[1m Total params: \u001b[0m\u001b[38;5;34m45,045\u001b[0m (175.96 KB)\n"
            ],
            "text/html": [
              "<pre style=\"white-space:pre;overflow-x:auto;line-height:normal;font-family:Menlo,'DejaVu Sans Mono',consolas,'Courier New',monospace\"><span style=\"font-weight: bold\"> Total params: </span><span style=\"color: #00af00; text-decoration-color: #00af00\">45,045</span> (175.96 KB)\n",
              "</pre>\n"
            ]
          },
          "metadata": {}
        },
        {
          "output_type": "display_data",
          "data": {
            "text/plain": [
              "\u001b[1m Trainable params: \u001b[0m\u001b[38;5;34m0\u001b[0m (0.00 B)\n"
            ],
            "text/html": [
              "<pre style=\"white-space:pre;overflow-x:auto;line-height:normal;font-family:Menlo,'DejaVu Sans Mono',consolas,'Courier New',monospace\"><span style=\"font-weight: bold\"> Trainable params: </span><span style=\"color: #00af00; text-decoration-color: #00af00\">0</span> (0.00 B)\n",
              "</pre>\n"
            ]
          },
          "metadata": {}
        },
        {
          "output_type": "display_data",
          "data": {
            "text/plain": [
              "\u001b[1m Non-trainable params: \u001b[0m\u001b[38;5;34m45,045\u001b[0m (175.96 KB)\n"
            ],
            "text/html": [
              "<pre style=\"white-space:pre;overflow-x:auto;line-height:normal;font-family:Menlo,'DejaVu Sans Mono',consolas,'Courier New',monospace\"><span style=\"font-weight: bold\"> Non-trainable params: </span><span style=\"color: #00af00; text-decoration-color: #00af00\">45,045</span> (175.96 KB)\n",
              "</pre>\n"
            ]
          },
          "metadata": {}
        },
        {
          "output_type": "stream",
          "name": "stdout",
          "text": [
            "\n",
            "--- Model B Summary ---\n"
          ]
        },
        {
          "output_type": "display_data",
          "data": {
            "text/plain": [
              "\u001b[1mModel: \"Model_B\"\u001b[0m\n"
            ],
            "text/html": [
              "<pre style=\"white-space:pre;overflow-x:auto;line-height:normal;font-family:Menlo,'DejaVu Sans Mono',consolas,'Courier New',monospace\"><span style=\"font-weight: bold\">Model: \"Model_B\"</span>\n",
              "</pre>\n"
            ]
          },
          "metadata": {}
        },
        {
          "output_type": "display_data",
          "data": {
            "text/plain": [
              "┏━━━━━━━━━━━━━━━━━━━━━━━━━━━━━━━━━┳━━━━━━━━━━━━━━━━━━━━━━━━┳━━━━━━━━━━━━━━━┓\n",
              "┃\u001b[1m \u001b[0m\u001b[1mLayer (type)                   \u001b[0m\u001b[1m \u001b[0m┃\u001b[1m \u001b[0m\u001b[1mOutput Shape          \u001b[0m\u001b[1m \u001b[0m┃\u001b[1m \u001b[0m\u001b[1m      Param #\u001b[0m\u001b[1m \u001b[0m┃\n",
              "┡━━━━━━━━━━━━━━━━━━━━━━━━━━━━━━━━━╇━━━━━━━━━━━━━━━━━━━━━━━━╇━━━━━━━━━━━━━━━┩\n",
              "│ embedding_9 (\u001b[38;5;33mEmbedding\u001b[0m)         │ ?                      │        \u001b[38;5;34m45,045\u001b[0m │\n",
              "├─────────────────────────────────┼────────────────────────┼───────────────┤\n",
              "│ bidirectional_14                │ ?                      │   \u001b[38;5;34m0\u001b[0m (unbuilt) │\n",
              "│ (\u001b[38;5;33mBidirectional\u001b[0m)                 │                        │               │\n",
              "├─────────────────────────────────┼────────────────────────┼───────────────┤\n",
              "│ dense_24 (\u001b[38;5;33mDense\u001b[0m)                │ ?                      │   \u001b[38;5;34m0\u001b[0m (unbuilt) │\n",
              "├─────────────────────────────────┼────────────────────────┼───────────────┤\n",
              "│ dense_25 (\u001b[38;5;33mDense\u001b[0m)                │ ?                      │   \u001b[38;5;34m0\u001b[0m (unbuilt) │\n",
              "└─────────────────────────────────┴────────────────────────┴───────────────┘\n"
            ],
            "text/html": [
              "<pre style=\"white-space:pre;overflow-x:auto;line-height:normal;font-family:Menlo,'DejaVu Sans Mono',consolas,'Courier New',monospace\">┏━━━━━━━━━━━━━━━━━━━━━━━━━━━━━━━━━┳━━━━━━━━━━━━━━━━━━━━━━━━┳━━━━━━━━━━━━━━━┓\n",
              "┃<span style=\"font-weight: bold\"> Layer (type)                    </span>┃<span style=\"font-weight: bold\"> Output Shape           </span>┃<span style=\"font-weight: bold\">       Param # </span>┃\n",
              "┡━━━━━━━━━━━━━━━━━━━━━━━━━━━━━━━━━╇━━━━━━━━━━━━━━━━━━━━━━━━╇━━━━━━━━━━━━━━━┩\n",
              "│ embedding_9 (<span style=\"color: #0087ff; text-decoration-color: #0087ff\">Embedding</span>)         │ ?                      │        <span style=\"color: #00af00; text-decoration-color: #00af00\">45,045</span> │\n",
              "├─────────────────────────────────┼────────────────────────┼───────────────┤\n",
              "│ bidirectional_14                │ ?                      │   <span style=\"color: #00af00; text-decoration-color: #00af00\">0</span> (unbuilt) │\n",
              "│ (<span style=\"color: #0087ff; text-decoration-color: #0087ff\">Bidirectional</span>)                 │                        │               │\n",
              "├─────────────────────────────────┼────────────────────────┼───────────────┤\n",
              "│ dense_24 (<span style=\"color: #0087ff; text-decoration-color: #0087ff\">Dense</span>)                │ ?                      │   <span style=\"color: #00af00; text-decoration-color: #00af00\">0</span> (unbuilt) │\n",
              "├─────────────────────────────────┼────────────────────────┼───────────────┤\n",
              "│ dense_25 (<span style=\"color: #0087ff; text-decoration-color: #0087ff\">Dense</span>)                │ ?                      │   <span style=\"color: #00af00; text-decoration-color: #00af00\">0</span> (unbuilt) │\n",
              "└─────────────────────────────────┴────────────────────────┴───────────────┘\n",
              "</pre>\n"
            ]
          },
          "metadata": {}
        },
        {
          "output_type": "display_data",
          "data": {
            "text/plain": [
              "\u001b[1m Total params: \u001b[0m\u001b[38;5;34m45,045\u001b[0m (175.96 KB)\n"
            ],
            "text/html": [
              "<pre style=\"white-space:pre;overflow-x:auto;line-height:normal;font-family:Menlo,'DejaVu Sans Mono',consolas,'Courier New',monospace\"><span style=\"font-weight: bold\"> Total params: </span><span style=\"color: #00af00; text-decoration-color: #00af00\">45,045</span> (175.96 KB)\n",
              "</pre>\n"
            ]
          },
          "metadata": {}
        },
        {
          "output_type": "display_data",
          "data": {
            "text/plain": [
              "\u001b[1m Trainable params: \u001b[0m\u001b[38;5;34m0\u001b[0m (0.00 B)\n"
            ],
            "text/html": [
              "<pre style=\"white-space:pre;overflow-x:auto;line-height:normal;font-family:Menlo,'DejaVu Sans Mono',consolas,'Courier New',monospace\"><span style=\"font-weight: bold\"> Trainable params: </span><span style=\"color: #00af00; text-decoration-color: #00af00\">0</span> (0.00 B)\n",
              "</pre>\n"
            ]
          },
          "metadata": {}
        },
        {
          "output_type": "display_data",
          "data": {
            "text/plain": [
              "\u001b[1m Non-trainable params: \u001b[0m\u001b[38;5;34m45,045\u001b[0m (175.96 KB)\n"
            ],
            "text/html": [
              "<pre style=\"white-space:pre;overflow-x:auto;line-height:normal;font-family:Menlo,'DejaVu Sans Mono',consolas,'Courier New',monospace\"><span style=\"font-weight: bold\"> Non-trainable params: </span><span style=\"color: #00af00; text-decoration-color: #00af00\">45,045</span> (175.96 KB)\n",
              "</pre>\n"
            ]
          },
          "metadata": {}
        }
      ]
    },
    {
      "cell_type": "code",
      "source": [
        "from tensorflow.keras.callbacks import ReduceLROnPlateau\n",
        "reduce_lr = ReduceLROnPlateau(\n",
        "    monitor='val_loss',     # monitor validation loss\n",
        "    factor=0.5,             # reduce by half\n",
        "    patience=1,             # after 1 epoch with no improvement\n",
        "    min_lr=1e-5,            # don't go below this\n",
        "    verbose=1\n",
        ")"
      ],
      "metadata": {
        "id": "fdoQTrbglpAV"
      },
      "execution_count": 40,
      "outputs": []
    },
    {
      "cell_type": "code",
      "source": [
        "# 8) Entrena ambos\n",
        "print(\"\\n>>> Entrenando Model A\")\n",
        "history_A = model_A.fit(\n",
        "    train_ds,\n",
        "    validation_data=test_ds,\n",
        "    epochs=5,\n",
        "    callbacks=[reduce_lr]\n",
        ")\n",
        "\n",
        "print(\"\\n>>> Entrenando Model B\")\n",
        "history_B = model_B.fit(\n",
        "    train_ds,\n",
        "    validation_data=test_ds,\n",
        "    epochs=5,\n",
        "    callbacks=[reduce_lr]\n",
        ")\n",
        "\n"
      ],
      "metadata": {
        "colab": {
          "base_uri": "https://localhost:8080/"
        },
        "id": "Emdnqfl5Mji6",
        "outputId": "188fd220-5c05-47d4-9087-35841386d647"
      },
      "execution_count": 41,
      "outputs": [
        {
          "output_type": "stream",
          "name": "stdout",
          "text": [
            "\n",
            ">>> Entrenando Model A\n",
            "Epoch 1/5\n",
            "\u001b[1m430/430\u001b[0m \u001b[32m━━━━━━━━━━━━━━━━━━━━\u001b[0m\u001b[37m\u001b[0m \u001b[1m55s\u001b[0m 98ms/step - accuracy: 0.4509 - loss: 1.0443 - val_accuracy: 0.5444 - val_loss: 0.9084 - learning_rate: 0.0040\n",
            "Epoch 2/5\n",
            "\u001b[1m430/430\u001b[0m \u001b[32m━━━━━━━━━━━━━━━━━━━━\u001b[0m\u001b[37m\u001b[0m \u001b[1m82s\u001b[0m 99ms/step - accuracy: 0.6084 - loss: 0.8659 - val_accuracy: 0.6083 - val_loss: 0.8171 - learning_rate: 0.0040\n",
            "Epoch 3/5\n",
            "\u001b[1m430/430\u001b[0m \u001b[32m━━━━━━━━━━━━━━━━━━━━\u001b[0m\u001b[37m\u001b[0m \u001b[1m41s\u001b[0m 96ms/step - accuracy: 0.6594 - loss: 0.7757 - val_accuracy: 0.6417 - val_loss: 0.8067 - learning_rate: 0.0040\n",
            "Epoch 4/5\n",
            "\u001b[1m430/430\u001b[0m \u001b[32m━━━━━━━━━━━━━━━━━━━━\u001b[0m\u001b[37m\u001b[0m \u001b[1m41s\u001b[0m 96ms/step - accuracy: 0.6937 - loss: 0.7101 - val_accuracy: 0.6444 - val_loss: 0.7959 - learning_rate: 0.0040\n",
            "Epoch 5/5\n",
            "\u001b[1m430/430\u001b[0m \u001b[32m━━━━━━━━━━━━━━━━━━━━\u001b[0m\u001b[37m\u001b[0m \u001b[1m41s\u001b[0m 95ms/step - accuracy: 0.7189 - loss: 0.6488 - val_accuracy: 0.6500 - val_loss: 0.7733 - learning_rate: 0.0040\n",
            "\n",
            ">>> Entrenando Model B\n",
            "Epoch 1/5\n",
            "\u001b[1m430/430\u001b[0m \u001b[32m━━━━━━━━━━━━━━━━━━━━\u001b[0m\u001b[37m\u001b[0m \u001b[1m21s\u001b[0m 35ms/step - accuracy: 0.4560 - loss: 1.0464 - val_accuracy: 0.5389 - val_loss: 0.9423 - learning_rate: 0.0040\n",
            "Epoch 2/5\n",
            "\u001b[1m430/430\u001b[0m \u001b[32m━━━━━━━━━━━━━━━━━━━━\u001b[0m\u001b[37m\u001b[0m \u001b[1m15s\u001b[0m 34ms/step - accuracy: 0.5923 - loss: 0.8816 - val_accuracy: 0.5667 - val_loss: 0.8836 - learning_rate: 0.0040\n",
            "Epoch 3/5\n",
            "\u001b[1m430/430\u001b[0m \u001b[32m━━━━━━━━━━━━━━━━━━━━\u001b[0m\u001b[37m\u001b[0m \u001b[1m15s\u001b[0m 34ms/step - accuracy: 0.6452 - loss: 0.7935 - val_accuracy: 0.5667 - val_loss: 0.8672 - learning_rate: 0.0040\n",
            "Epoch 4/5\n",
            "\u001b[1m430/430\u001b[0m \u001b[32m━━━━━━━━━━━━━━━━━━━━\u001b[0m\u001b[37m\u001b[0m \u001b[1m15s\u001b[0m 34ms/step - accuracy: 0.6742 - loss: 0.7375 - val_accuracy: 0.5972 - val_loss: 0.8578 - learning_rate: 0.0040\n",
            "Epoch 5/5\n",
            "\u001b[1m430/430\u001b[0m \u001b[32m━━━━━━━━━━━━━━━━━━━━\u001b[0m\u001b[37m\u001b[0m \u001b[1m0s\u001b[0m 34ms/step - accuracy: 0.7034 - loss: 0.6847\n",
            "Epoch 5: ReduceLROnPlateau reducing learning rate to 0.0020000000949949026.\n",
            "\u001b[1m430/430\u001b[0m \u001b[32m━━━━━━━━━━━━━━━━━━━━\u001b[0m\u001b[37m\u001b[0m \u001b[1m21s\u001b[0m 34ms/step - accuracy: 0.7034 - loss: 0.6848 - val_accuracy: 0.5889 - val_loss: 0.8818 - learning_rate: 0.0040\n"
          ]
        }
      ]
    },
    {
      "cell_type": "code",
      "source": [
        "import numpy as np\n",
        "\n",
        "# Get predicted class probabilities\n",
        "y_probs = model_A.predict(X_test)  # or model_B\n",
        "\n",
        "# Get predicted class labels (highest probability)\n",
        "y_pred = np.argmax(y_probs, axis=1)\n"
      ],
      "metadata": {
        "colab": {
          "base_uri": "https://localhost:8080/"
        },
        "id": "Eb2dzyKeqfGA",
        "outputId": "5c1c4386-71f7-41be-cb13-1d4ae19a1bee"
      },
      "execution_count": 43,
      "outputs": [
        {
          "output_type": "stream",
          "name": "stdout",
          "text": [
            "\u001b[1m12/12\u001b[0m \u001b[32m━━━━━━━━━━━━━━━━━━━━\u001b[0m\u001b[37m\u001b[0m \u001b[1m1s\u001b[0m 42ms/step\n"
          ]
        }
      ]
    },
    {
      "cell_type": "code",
      "source": [
        "from sklearn.metrics import confusion_matrix, ConfusionMatrixDisplay\n",
        "\n",
        "# Generate confusion matrix\n",
        "cm = confusion_matrix(y_test, y_pred)\n",
        "\n",
        "# Display it nicely\n",
        "disp = ConfusionMatrixDisplay(confusion_matrix=cm, display_labels=le.classes_)\n",
        "disp.plot(cmap='Blues', xticks_rotation=45)\n"
      ],
      "metadata": {
        "colab": {
          "base_uri": "https://localhost:8080/",
          "height": 505
        },
        "id": "xztmmh20qfyt",
        "outputId": "07b7b20e-4c61-4dfe-8e98-ca90f095b72b"
      },
      "execution_count": 44,
      "outputs": [
        {
          "output_type": "execute_result",
          "data": {
            "text/plain": [
              "<sklearn.metrics._plot.confusion_matrix.ConfusionMatrixDisplay at 0x7cb909146f50>"
            ]
          },
          "metadata": {},
          "execution_count": 44
        },
        {
          "output_type": "display_data",
          "data": {
            "text/plain": [
              "<Figure size 640x480 with 2 Axes>"
            ],
            "image/png": "[encoded data removed]"
          },
          "metadata": {}
        }
      ]
    },
    {
      "cell_type": "code",
      "source": [
        "import numpy as np\n",
        "\n",
        "# Get predicted class probabilities\n",
        "y_probs = model_B.predict(X_test)  # or model_B\n",
        "\n",
        "# Get predicted class labels (highest probability)\n",
        "y_pred = np.argmax(y_probs, axis=1)"
      ],
      "metadata": {
        "colab": {
          "base_uri": "https://localhost:8080/"
        },
        "id": "ikpxgBUVqj8q",
        "outputId": "18999cd2-26e3-43e3-e06d-e71e0016809e"
      },
      "execution_count": 45,
      "outputs": [
        {
          "output_type": "stream",
          "name": "stdout",
          "text": [
            "\u001b[1m12/12\u001b[0m \u001b[32m━━━━━━━━━━━━━━━━━━━━\u001b[0m\u001b[37m\u001b[0m \u001b[1m2s\u001b[0m 53ms/step\n"
          ]
        }
      ]
    },
    {
      "cell_type": "code",
      "source": [
        "from sklearn.metrics import confusion_matrix, ConfusionMatrixDisplay\n",
        "\n",
        "# Generate confusion matrix\n",
        "cm = confusion_matrix(y_test, y_pred)\n",
        "\n",
        "# Display it nicely\n",
        "disp = ConfusionMatrixDisplay(confusion_matrix=cm, display_labels=le.classes_)\n",
        "disp.plot(cmap='Blues', xticks_rotation=45)"
      ],
      "metadata": {
        "colab": {
          "base_uri": "https://localhost:8080/",
          "height": 511
        },
        "id": "nXH63aILqmZL",
        "outputId": "b16b7b56-471d-469d-bdc2-0bd7e92e6660"
      },
      "execution_count": 46,
      "outputs": [
        {
          "output_type": "execute_result",
          "data": {
            "text/plain": [
              "<sklearn.metrics._plot.confusion_matrix.ConfusionMatrixDisplay at 0x7cb907fb2e50>"
            ]
          },
          "metadata": {},
          "execution_count": 46
        },
        {
          "output_type": "display_data",
          "data": {
            "text/plain": [
              "<Figure size 640x480 with 2 Axes>"
            ],
            "image/png": "[encoded data removed]"
          },
          "metadata": {}
        }
      ]
    },
    {
      "cell_type": "code",
      "source": [
        "from sklearn.metrics import classification_report, confusion_matrix\n",
        "import seaborn as sns\n",
        "import matplotlib.pyplot as plt\n",
        "import numpy as np\n",
        "\n",
        "print(\"\\n=== Evaluación en TEST ===\")\n",
        "for name, model in [('Model A', model_A), ('Model B', model_B)]:\n",
        "    print(f\"\\n--- {name} ---\")\n",
        "\n",
        "    # Predicción en test\n",
        "    y_test_probs = model.predict(X_test)\n",
        "    y_test_pred = np.argmax(y_test_probs, axis=1)\n",
        "\n",
        "    # Matriz de confusión\n",
        "    cm_test = confusion_matrix(y_test, y_test_pred)\n",
        "\n",
        "    # Métricas detalladas\n",
        "    print(\"\\nClassification Report:\")\n",
        "    print(classification_report(y_test, y_test_pred, target_names=le.classes_))\n",
        "\n",
        "    # Gráfico\n",
        "    plt.figure(figsize=(5,4))\n",
        "    sns.heatmap(cm_test, annot=True, fmt='d', cmap='Blues', xticklabels=le.classes_, yticklabels=le.classes_)\n",
        "    plt.title(f'{name} — Test C')\n"
      ],
      "metadata": {
        "colab": {
          "base_uri": "https://localhost:8080/",
          "height": 1000
        },
        "id": "KJHbpUl1NsHL",
        "outputId": "7e5bc010-e339-4913-bb63-4766f8055aa5"
      },
      "execution_count": 49,
      "outputs": [
        {
          "output_type": "stream",
          "name": "stdout",
          "text": [
            "\n",
            "=== Evaluación en TEST ===\n",
            "\n",
            "--- Model A ---\n",
            "\u001b[1m12/12\u001b[0m \u001b[32m━━━━━━━━━━━━━━━━━━━━\u001b[0m\u001b[37m\u001b[0m \u001b[1m1s\u001b[0m 40ms/step\n",
            "\n",
            "Classification Report:\n",
            "              precision    recall  f1-score   support\n",
            "\n",
            "    negative       0.69      0.46      0.55       113\n",
            "     neutral       0.55      0.79      0.65       145\n",
            "    positive       0.87      0.66      0.75       102\n",
            "\n",
            "    accuracy                           0.65       360\n",
            "   macro avg       0.71      0.64      0.65       360\n",
            "weighted avg       0.69      0.65      0.65       360\n",
            "\n",
            "\n",
            "--- Model B ---\n",
            "\u001b[1m12/12\u001b[0m \u001b[32m━━━━━━━━━━━━━━━━━━━━\u001b[0m\u001b[37m\u001b[0m \u001b[1m0s\u001b[0m 26ms/step\n",
            "\n",
            "Classification Report:\n",
            "              precision    recall  f1-score   support\n",
            "\n",
            "    negative       0.62      0.50      0.55       113\n",
            "     neutral       0.53      0.62      0.57       145\n",
            "    positive       0.66      0.65      0.65       102\n",
            "\n",
            "    accuracy                           0.59       360\n",
            "   macro avg       0.60      0.59      0.59       360\n",
            "weighted avg       0.59      0.59      0.59       360\n",
            "\n"
          ]
        },
        {
          "output_type": "display_data",
          "data": {
            "text/plain": [
              "<Figure size 500x400 with 2 Axes>"
            ],
            "image/png": "[encoded data removed]"
          },
          "metadata": {}
        },
        {
          "output_type": "display_data",
          "data": {
            "text/plain": [
              "<Figure size 500x400 with 2 Axes>"
            ],
            "image/png": "[encoded data removed]"
          },
          "metadata": {}
        }
      ]
    },
    {
      "cell_type": "code",
      "source": [
        "import numpy as np\n",
        "from tensorflow.keras.preprocessing.sequence import pad_sequences\n",
        "\n",
        "# 1) Saca una frase de small_test_df (por ejemplo la primera)\n",
        "sample_text = small_test_df['text_clean'].iloc[2]\n",
        "print(\"Sample text:\", sample_text)\n",
        "\n",
        "# 2) Convierte a secuencia y pad\n",
        "seq = tokenizer.texts_to_sequences([sample_text])\n",
        "seq_pad = pad_sequences(seq, maxlen=maxlen, padding='post')\n",
        "\n",
        "# 3) Predicción con Model A\n",
        "prob_A = model_A.predict(seq_pad)[0,0]\n",
        "pred_A = int(prob_A > 0.5)\n",
        "print(f\"\\nModel A prediction → prob_positive = {prob_A:.3f}, class = {pred_A}\")\n",
        "\n",
        "# 4) Predicción con Model B\n",
        "prob_B = model_B.predict(seq_pad)[0,0]\n",
        "pred_B = int(prob_B > 0.5)\n",
        "print(f\"Model B prediction → prob_positive = {prob_B:.3f}, class = {pred_B}\")\n"
      ],
      "metadata": {
        "colab": {
          "base_uri": "https://localhost:8080/"
        },
        "id": "aGbElU3UPfvV",
        "outputId": "bbfc00c2-dfe1-40a9-b209-c652e0f5f954"
      },
      "execution_count": 62,
      "outputs": [
        {
          "output_type": "stream",
          "name": "stdout",
          "text": [
            "Sample text:  im looking forward too see and hear you in norway live fast\n",
            "\u001b[1m1/1\u001b[0m \u001b[32m━━━━━━━━━━━━━━━━━━━━\u001b[0m\u001b[37m\u001b[0m \u001b[1m0s\u001b[0m 131ms/step\n",
            "\n",
            "Model A prediction → prob_positive = 0.150, class = 0\n",
            "\u001b[1m1/1\u001b[0m \u001b[32m━━━━━━━━━━━━━━━━━━━━\u001b[0m\u001b[37m\u001b[0m \u001b[1m0s\u001b[0m 65ms/step\n",
            "Model B prediction → prob_positive = 0.153, class = 0\n"
          ]
        }
      ]
    },
    {
      "cell_type": "code",
      "source": [
        "# List of sample indices to test\n",
        "sample_indices = [40, 101, 98]\n",
        "\n",
        "# Loop through each sample\n",
        "for idx in sample_indices:\n",
        "    # 1) Saca una frase de prueba\n",
        "    sample_text = small_test_df['text_clean'].iloc[idx]\n",
        "    print(f\"\\nSample text: {sample_text}\")\n",
        "\n",
        "    # 2) Tokeniza y paddea la frase\n",
        "    sample_seq = tokenizer.texts_to_sequences([sample_text])\n",
        "    sample_pad = pad_sequences(sample_seq, maxlen=maxlen, padding='post')\n",
        "\n",
        "    # 3) MODELO A\n",
        "    print(\"=================Utilizando el modelo A=================\")\n",
        "    model = model_A  # o model_B\n",
        "\n",
        "    # 4) Predicción\n",
        "    pred_probs = model.predict(sample_pad)\n",
        "    pred_label = np.argmax(pred_probs, axis=1)[0]\n",
        "    pred_class = le.inverse_transform([pred_label])[0]\n",
        "\n",
        "    # Imprimir el resultado con las probabilidades de cada clase\n",
        "    print(f\"\\nPredicted sentiment: {pred_class} with\")\n",
        "\n",
        "    # Especificar las probabilidades para cada clase (asumimos que hay 3 clases: negative, neutral, positive)\n",
        "    labels = ['negative', 'neutral', 'positive']\n",
        "    for i, prob in enumerate(pred_probs[0]):\n",
        "        print(f\"Probability of {labels[i]}: {prob:.8f}\")\n",
        "\n",
        "    # MODELO B\n",
        "    print(\"=================Utilizando el modelo B=================\")\n",
        "    model = model_B\n",
        "\n",
        "    # 4) Predicción\n",
        "    pred_probs = model.predict(sample_pad)\n",
        "    pred_label = np.argmax(pred_probs, axis=1)[0]\n",
        "    pred_class = le.inverse_transform([pred_label])[0]\n",
        "\n",
        "    # Imprimir el resultado con las probabilidades de cada clase\n",
        "    print(f\"\\nPredicted sentiment: {pred_class} with\")\n",
        "\n",
        "    # Especificar las probabilidades para cada clase (asumimos que hay 3 clases: negative, neutral, positive)\n",
        "    labels = ['negative', 'neutral', 'positive']\n",
        "    for i, prob in enumerate(pred_probs[0]):\n",
        "        print(f\"Probability of {labels[i]}: {prob:.8f}\")\n"
      ],
      "metadata": {
        "colab": {
          "base_uri": "https://localhost:8080/"
        },
        "id": "xVTvMzqZrIuA",
        "outputId": "f5c2d749-b409-41bf-eeab-cb7f0906b39b"
      },
      "execution_count": 72,
      "outputs": [
        {
          "output_type": "stream",
          "name": "stdout",
          "text": [
            "\n",
            "Sample text: at    happy mothers dayyy deniseee 3\n",
            "=================Utilizando el modelo A=================\n",
            "\u001b[1m1/1\u001b[0m \u001b[32m━━━━━━━━━━━━━━━━━━━━\u001b[0m\u001b[37m\u001b[0m \u001b[1m0s\u001b[0m 105ms/step\n",
            "\n",
            "Predicted sentiment: positive with\n",
            "Probability of negative: 0.00699281\n",
            "Probability of neutral: 0.04744217\n",
            "Probability of positive: 0.94556499\n",
            "=================Utilizando el modelo B=================\n",
            "\u001b[1m1/1\u001b[0m \u001b[32m━━━━━━━━━━━━━━━━━━━━\u001b[0m\u001b[37m\u001b[0m \u001b[1m0s\u001b[0m 73ms/step\n",
            "\n",
            "Predicted sentiment: positive with\n",
            "Probability of negative: 0.00147588\n",
            "Probability of neutral: 0.01058698\n",
            "Probability of positive: 0.98793715\n",
            "\n",
            "Sample text: ive not had a reply on my topic yet  lolz welll its not somethin you could reply too but yanno \n",
            "=================Utilizando el modelo A=================\n",
            "\u001b[1m1/1\u001b[0m \u001b[32m━━━━━━━━━━━━━━━━━━━━\u001b[0m\u001b[37m\u001b[0m \u001b[1m0s\u001b[0m 153ms/step\n",
            "\n",
            "Predicted sentiment: neutral with\n",
            "Probability of negative: 0.27349475\n",
            "Probability of neutral: 0.63771528\n",
            "Probability of positive: 0.08878997\n",
            "=================Utilizando el modelo B=================\n",
            "\u001b[1m1/1\u001b[0m \u001b[32m━━━━━━━━━━━━━━━━━━━━\u001b[0m\u001b[37m\u001b[0m \u001b[1m0s\u001b[0m 92ms/step\n",
            "\n",
            "Predicted sentiment: neutral with\n",
            "Probability of negative: 0.21471515\n",
            "Probability of neutral: 0.44046733\n",
            "Probability of positive: 0.34481746\n",
            "\n",
            "Sample text: httptwitpiccom66xjl  an hour in the sun turned me into a blancmange sucks to be pale\n",
            "=================Utilizando el modelo A=================\n",
            "\u001b[1m1/1\u001b[0m \u001b[32m━━━━━━━━━━━━━━━━━━━━\u001b[0m\u001b[37m\u001b[0m \u001b[1m0s\u001b[0m 146ms/step\n",
            "\n",
            "Predicted sentiment: negative with\n",
            "Probability of negative: 0.68533117\n",
            "Probability of neutral: 0.26264390\n",
            "Probability of positive: 0.05202506\n",
            "=================Utilizando el modelo B=================\n",
            "\u001b[1m1/1\u001b[0m \u001b[32m━━━━━━━━━━━━━━━━━━━━\u001b[0m\u001b[37m\u001b[0m \u001b[1m0s\u001b[0m 146ms/step\n",
            "\n",
            "Predicted sentiment: negative with\n",
            "Probability of negative: 0.52050793\n",
            "Probability of neutral: 0.35322437\n",
            "Probability of positive: 0.12626778\n"
          ]
        }
      ]
    },
    {
      "cell_type": "markdown",
      "source": [],
      "metadata": {
        "id": "7mj5zNw7stQ5"
      }
    }
  ]
}