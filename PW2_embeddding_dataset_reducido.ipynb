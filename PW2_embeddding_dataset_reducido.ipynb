{
  "nbformat": 4,
  "nbformat_minor": 0,
  "metadata": {
    "colab": {
      "provenance": [],
      "gpuType": "T4"
    },
    "kernelspec": {
      "name": "python3",
      "display_name": "Python 3"
    },
    "language_info": {
      "name": "python"
    },
    "accelerator": "GPU"
  },
  "cells": [
    {
      "cell_type": "code",
      "execution_count": 3,
      "metadata": {
        "id": "_hWIVb47k5Hd"
      },
      "outputs": [],
      "source": [
        "%load_ext tensorboard"
      ]
    },
    {
      "cell_type": "code",
      "source": [
        "import numpy as np\n",
        "import tensorflow as tf\n",
        "import re\n",
        "import pandas as pd\n",
        "import spacy\n",
        "import gc\n",
        "from itertools import combinations\n",
        "import matplotlib.pyplot as plt\n",
        "from scipy.sparse import csr_matrix, vstack as sparse_vstack\n",
        "from sklearn.metrics.pairwise import cosine_similarity\n",
        "import seaborn as sns\n",
        "\n",
        "from sklearn.metrics import confusion_matrix, classification_report\n",
        "from sklearn.preprocessing import LabelEncoder\n",
        "from tensorflow import keras\n",
        "from tensorflow.keras.utils import to_categorical\n",
        "from tensorflow.keras import Model, Input, layers\n",
        "from tensorflow.keras.layers import Embedding, Dot, Reshape, Dense,Bidirectional, LSTM, GRU\n",
        "from tensorflow.keras.preprocessing.text import Tokenizer\n",
        "from tensorflow.keras.preprocessing.sequence import skipgrams, pad_sequences\n",
        "from keras.callbacks import TensorBoard"
      ],
      "metadata": {
        "id": "qxcIjQaEmn7e"
      },
      "execution_count": 4,
      "outputs": []
    },
    {
      "cell_type": "markdown",
      "source": [
        "# **FASE 1**"
      ],
      "metadata": {
        "id": "wZCtMlEVIhe3"
      }
    },
    {
      "cell_type": "code",
      "source": [
        "# Step 1: Load data\n",
        "train_df = pd.read_csv('train.csv', encoding='latin1')\n",
        "test_df = pd.read_csv('test.csv', encoding='latin1')\n",
        "\n",
        "def limpiar_texto(texto):\n",
        "    texto = re.sub(r'[^\\w\\s]', '', str(texto)).lower()\n",
        "    return texto"
      ],
      "metadata": {
        "id": "Kc3z58--m1Tu"
      },
      "execution_count": 5,
      "outputs": []
    },
    {
      "cell_type": "code",
      "source": [
        "# # Step 2: Prepare data\n",
        "# train_df['text_clean'] = train_df['text'].apply(limpiar_texto)\n",
        "# test_df['text_clean'] = test_df['text'].apply(limpiar_texto)\n",
        "# corpus = pd.concat([train_df['text_clean'], test_df['text_clean']]).tolist()\n",
        "\n",
        "# #cuando aumentemos a todo el corpus poner estas 2 líenas solo para dataset compelto y elimianr lo de small_corpus\n",
        "# tokenizer = Tokenizer()\n",
        "# tokenizer.fit_on_texts(corpus)\n",
        "\n",
        "# # Identificar las 10 palabras más utilizadas con significado (susantivos) cargando el modelo de spaCy en inglés\n",
        "# try:\n",
        "#     nlp = spacy.load(\"en_core_web_sm\")\n",
        "# except OSError:\n",
        "#     import os\n",
        "#     os.system(\"python -m spacy download en_core_web_sm\")\n",
        "#     nlp = spacy.load(\"en_core_web_sm\")\n",
        "\n",
        "# # Crear el set de stopwords incluyendo 'nan'\n",
        "# stop_words = set(nlp.Defaults.stop_words)\n",
        "# stop_words.add('nan')\n",
        "\n",
        "# # Función para filtrar solo nombres con significado\n",
        "# def es_nombre_con_significado(palabra):\n",
        "#     if len(palabra) < 2 or palabra in stop_words:\n",
        "#         return False\n",
        "#     doc = nlp(palabra)\n",
        "#     # Solo acepta si la palabra es un sustantivo (NOUN o PROPN)\n",
        "#     return any(token.pos_ in {\"NOUN\", \"PROPN\"} for token in doc)\n",
        "\n",
        "# # Aplicar filtro al vocabulario real\n",
        "# palabras_filtradas = {\n",
        "#     word: count for word, count in tokenizer.word_counts.items()\n",
        "#     if es_nombre_con_significado(word)\n",
        "# }\n",
        "\n",
        "# # Ordenar y seleccionar top 10\n",
        "# top_10 = sorted(palabras_filtradas.items(), key=lambda x: x[1], reverse=True)[:10]\n",
        "\n",
        "# # Mostrar resultados\n",
        "# print(\"\\nTop 10 nombres con significado:\")\n",
        "# print(\"━━━━━━━━━━━━━━━━━━━━━━━━━━━━━━━━━\")\n",
        "# for idx, (palabra, freq) in enumerate(top_10, 1):\n",
        "#     print(f\"{idx:2}. {palabra:<15} → {freq:>6} apariciones\")\n",
        "\n",
        "\n",
        "# # Convertir textos a secuencias de enteros\n",
        "# train_sequences = tokenizer.texts_to_sequences(train_df['text_clean'])\n",
        "# test_sequences = tokenizer.texts_to_sequences(test_df['text_clean'])\n",
        "# all_sequences = train_sequences + test_sequences\n",
        "\n",
        "# # Diccionarios de palabras a índices y viceversa\n",
        "# word2idx = tokenizer.word_index\n",
        "# idx2word = {i: w for w, i in word2idx.items()}\n",
        "# vocab_size = len(word2idx) + 1\n",
        "\n",
        "\n",
        "\n",
        "# --- Step 2: Prepare data (10% train + 10% test) ---\n",
        "\n",
        "# 1) Carga y limpieza\n",
        "train_df['text_clean'] = train_df['text'].apply(limpiar_texto)\n",
        "test_df ['text_clean'] = test_df ['text'].apply(limpiar_texto)\n",
        "\n",
        "# 2) Muestreo 10% de cada uno\n",
        "small_train_df = train_df.sample(frac=0.1, random_state=42)\n",
        "small_test_df  = test_df.sample(frac=0.1, random_state=42)\n",
        "\n",
        "train_corpus_small = small_train_df['text_clean'].tolist()\n",
        "test_corpus_small  = small_test_df ['text_clean'].tolist()\n",
        "small_corpus       = train_corpus_small + test_corpus_small\n",
        "\n",
        "print(f\"Frases usadas → train: {len(train_corpus_small)}, test: {len(test_corpus_small)}\")\n",
        "\n",
        "# 3) Tokenizer limitado a 5000 palabras + OOV\n",
        "tokenizer = Tokenizer(num_words=5000, oov_token='<OOV>')\n",
        "tokenizer.fit_on_texts(small_corpus)\n",
        "vocab_size = 5000 + 1\n",
        "\n",
        "# Diccionarios para después\n",
        "word2idx = tokenizer.word_index\n",
        "idx2word = {i:w for w,i in word2idx.items()}\n",
        "\n",
        "# 4) Top-10 nombres con spaCy\n",
        "try:\n",
        "    nlp = spacy.load(\"en_core_web_sm\")\n",
        "except OSError:\n",
        "    import os\n",
        "    os.system(\"python -m spacy download en_core_web_sm\")\n",
        "    nlp = spacy.load(\"en_core_web_sm\")\n",
        "\n",
        "stop_words = set(nlp.Defaults.stop_words) | {'nan'}\n"
      ],
      "metadata": {
        "id": "HPS49v2Xm1gO",
        "colab": {
          "base_uri": "https://localhost:8080/"
        },
        "outputId": "bdad026e-aa59-4de6-8bc4-16da40849422"
      },
      "execution_count": 6,
      "outputs": [
        {
          "output_type": "stream",
          "name": "stdout",
          "text": [
            "Frases usadas → train: 2748, test: 482\n",
            "Top 10 nombres con significado:\n",
            "1. day             → 216 apariciones\n",
            "2. love            → 124 apariciones\n",
            "3. lol             → 117 apariciones\n",
            "4. time            → 109 apariciones\n",
            "5. today           → 108 apariciones\n",
            "6. night           → 86 apariciones\n",
            "7. thanks          → 83 apariciones\n",
            "8. mothers         → 76 apariciones\n",
            "9. hope            → 68 apariciones\n",
            "10. morning         → 63 apariciones\n"
          ]
        }
      ]
    },
    {
      "cell_type": "markdown",
      "source": [
        "# **FASE 2**"
      ],
      "metadata": {
        "id": "feNptcSFIdWP"
      }
    },
    {
      "cell_type": "code",
      "source": [
        "def es_nombre(palabra):\n",
        "    if len(palabra)<2 or palabra in stop_words: return False\n",
        "    return any(t.pos_ in {\"NOUN\",\"PROPN\"} for t in nlp(palabra))\n",
        "\n",
        "filtradas = {w:c for w,c in tokenizer.word_counts.items() if es_nombre(w)}\n",
        "top_10 = sorted(filtradas.items(), key=lambda x:x[1], reverse=True)[:10]\n",
        "print(\"Top 10 nombres con significado:\")\n",
        "for i,(w,f) in enumerate(top_10,1):\n",
        "    print(f\"{i}. {w:<15} → {f} apariciones\")\n",
        "\n",
        "# 5) Secuencias sólo del 10%\n",
        "train_sequences_small = tokenizer.texts_to_sequences(train_corpus_small)\n",
        "test_sequences_small  = tokenizer.texts_to_sequences(test_corpus_small)\n",
        "all_sequences        = train_sequences_small + test_sequences_small"
      ],
      "metadata": {
        "id": "RVdFQLrbIcd4"
      },
      "execution_count": null,
      "outputs": []
    },
    {
      "cell_type": "code",
      "source": [
        "# # Step 3: Generación de pares con ventanas 2 y 4\n",
        "# pairs_dict = {'window_2': [], 'window_4': []}\n",
        "\n",
        "# for seq in all_sequences:\n",
        "#     # Ventana 2\n",
        "#     sg_pairs_2, _ = skipgrams(seq, vocab_size, window_size=2, negative_samples=0)\n",
        "#     pairs_dict['window_2'].extend(sg_pairs_2)\n",
        "\n",
        "#     # Ventana 4\n",
        "#     sg_pairs_4, _ = skipgrams(seq, vocab_size, window_size=4, negative_samples=0)\n",
        "#     pairs_dict['window_4'].extend(sg_pairs_4)"
      ],
      "metadata": {
        "id": "1PKojWpJRiY4"
      },
      "execution_count": 7,
      "outputs": []
    },
    {
      "cell_type": "code",
      "source": [
        "# Step 3: Generación de pares con ventanas 2 y 4\n",
        "pairs_dict = {'window_2': []}\n",
        "\n",
        "for seq in all_sequences:\n",
        "    # Ventana 2\n",
        "    sg_pairs_2, _ = skipgrams(seq, vocab_size, window_size=2, negative_samples=0)\n",
        "    pairs_dict['window_2'].extend(sg_pairs_2)"
      ],
      "metadata": {
        "id": "jzyQUujl6bG5"
      },
      "execution_count": 10,
      "outputs": []
    },
    {
      "cell_type": "code",
      "source": [
        "# Step 4: One-hot encoding optimizado\n",
        "def sparse_onehot(batch, vocab_size):\n",
        "    rows = np.arange(len(batch))\n",
        "    cols = np.array(batch).flatten()\n",
        "    data = np.ones_like(cols, dtype=np.float32)\n",
        "    return csr_matrix((data, (rows, cols)), shape=(len(batch), vocab_size), dtype=np.float32)"
      ],
      "metadata": {
        "id": "eXMTlOSlm8Wz"
      },
      "execution_count": 11,
      "outputs": []
    },
    {
      "cell_type": "code",
      "source": [
        "#AMPLIAR EBEDDING_SIZES, BATCH_SIZE, epochs\n",
        "\n",
        "# Step 5: Entrenamiento de modelos (guardando también los objetos Keras Model)\n",
        "embedding_sizes  = [45]               # cuando funcione, pon [45, 312, 752]\n",
        "window_sizes     = ['window_2']      # añade 'window_4' para la otra ventana\n",
        "loss_histories   = {}\n",
        "final_embeddings = {}\n",
        "models           = {}                 # <- aquí guardaremos cada modelo\n",
        "\n",
        "for emb_size in embedding_sizes:\n",
        "    for window in window_sizes:\n",
        "        current_pairs = pairs_dict[window]\n",
        "        if not current_pairs:\n",
        "            continue\n",
        "\n",
        "        # Preparar datos\n",
        "        targets, contexts = zip(*current_pairs)\n",
        "        targets  = np.array(targets,  dtype='int32')\n",
        "        contexts = np.array(contexts, dtype='int32')\n",
        "\n",
        "        # One-hot encoding (tu versión original)\n",
        "        batch_size       = 64\n",
        "        X_target_sparse  = []\n",
        "        X_context_sparse = []\n",
        "        for i in range(0, len(targets), batch_size):\n",
        "            X_target_sparse.append(sparse_onehot(targets[i:i+batch_size], vocab_size))\n",
        "            X_context_sparse.append(sparse_onehot(contexts[i:i+batch_size], vocab_size))\n",
        "            gc.collect()\n",
        "        X_target = sparse_vstack(X_target_sparse)\n",
        "        X_context= sparse_vstack(X_context_sparse)\n",
        "        X_train  = [X_target, X_context]\n",
        "        y_train  = np.ones(X_target.shape[0], dtype=np.float16)\n",
        "\n",
        "        # Construir modelo\n",
        "        shared_embedding_layer = layers.Dense(\n",
        "            emb_size, use_bias=False, name=f'embedding_{emb_size}_{window}'\n",
        "        )\n",
        "        target_input  = Input(shape=(vocab_size,), name='target_onehot')\n",
        "        context_input = Input(shape=(vocab_size,), name='context_onehot')\n",
        "        target_vector = shared_embedding_layer(target_input)\n",
        "        context_vector= shared_embedding_layer(context_input)\n",
        "        dot_product   = layers.Dot(axes=-1)([target_vector, context_vector])\n",
        "        dot_product   = layers.Reshape((1,))(dot_product)\n",
        "        output        = layers.Dense(1, activation='sigmoid')(dot_product)\n",
        "\n",
        "        model = Model(inputs=[target_input, context_input], outputs=output)\n",
        "        model.compile(\n",
        "            loss='binary_crossentropy',\n",
        "            optimizer=keras.optimizers.Adam(0.025),\n",
        "            metrics=['accuracy']\n",
        "        )\n",
        "\n",
        "        # Guardar el modelo en el diccionario antes de entrenar\n",
        "        key = f'emb_{emb_size}_{window}'\n",
        "        models[key] = model\n",
        "\n",
        "        # Entrenar\n",
        "        history = model.fit(\n",
        "            X_train,\n",
        "            y_train,\n",
        "            epochs=2,\n",
        "            batch_size=64,\n",
        "            callbacks=[TensorBoard(log_dir='logs')],\n",
        "            verbose=0\n",
        "        )\n",
        "\n",
        "        # Guardar historial y embeddings\n",
        "        loss_histories[key]   = history.history['loss']\n",
        "        final_embeddings[key] = shared_embedding_layer.get_weights()[0]\n",
        "\n"
      ],
      "metadata": {
        "id": "MpTnx0jRm8dx"
      },
      "execution_count": 17,
      "outputs": []
    },
    {
      "cell_type": "code",
      "source": [
        "# Recorre cada modelo en el diccionario y muestra su summary\n",
        "for key, mdl in models.items():\n",
        "    print(f\"\\n=== Summary de {key} ===\")\n",
        "    mdl.summary()\n"
      ],
      "metadata": {
        "colab": {
          "base_uri": "https://localhost:8080/",
          "height": 437
        },
        "id": "-Jbw-_a59zex",
        "outputId": "bf4ee4cf-c253-4bd7-ff46-9eee40d3119f"
      },
      "execution_count": 18,
      "outputs": [
        {
          "output_type": "stream",
          "name": "stdout",
          "text": [
            "\n",
            "=== Summary de emb_45_window_2 ===\n"
          ]
        },
        {
          "output_type": "display_data",
          "data": {
            "text/plain": [
              "\u001b[1mModel: \"functional_1\"\u001b[0m\n"
            ],
            "text/html": [
              "<pre style=\"white-space:pre;overflow-x:auto;line-height:normal;font-family:Menlo,'DejaVu Sans Mono',consolas,'Courier New',monospace\"><span style=\"font-weight: bold\">Model: \"functional_1\"</span>\n",
              "</pre>\n"
            ]
          },
          "metadata": {}
        },
        {
          "output_type": "display_data",
          "data": {
            "text/plain": [
              "┏━━━━━━━━━━━━━━━━━━━━━┳━━━━━━━━━━━━━━━━━━━┳━━━━━━━━━━━━┳━━━━━━━━━━━━━━━━━━━┓\n",
              "┃\u001b[1m \u001b[0m\u001b[1mLayer (type)       \u001b[0m\u001b[1m \u001b[0m┃\u001b[1m \u001b[0m\u001b[1mOutput Shape     \u001b[0m\u001b[1m \u001b[0m┃\u001b[1m \u001b[0m\u001b[1m   Param #\u001b[0m\u001b[1m \u001b[0m┃\u001b[1m \u001b[0m\u001b[1mConnected to     \u001b[0m\u001b[1m \u001b[0m┃\n",
              "┡━━━━━━━━━━━━━━━━━━━━━╇━━━━━━━━━━━━━━━━━━━╇━━━━━━━━━━━━╇━━━━━━━━━━━━━━━━━━━┩\n",
              "│ target_onehot       │ (\u001b[38;5;45mNone\u001b[0m, \u001b[38;5;34m5001\u001b[0m)      │          \u001b[38;5;34m0\u001b[0m │ -                 │\n",
              "│ (\u001b[38;5;33mInputLayer\u001b[0m)        │                   │            │                   │\n",
              "├─────────────────────┼───────────────────┼────────────┼───────────────────┤\n",
              "│ context_onehot      │ (\u001b[38;5;45mNone\u001b[0m, \u001b[38;5;34m5001\u001b[0m)      │          \u001b[38;5;34m0\u001b[0m │ -                 │\n",
              "│ (\u001b[38;5;33mInputLayer\u001b[0m)        │                   │            │                   │\n",
              "├─────────────────────┼───────────────────┼────────────┼───────────────────┤\n",
              "│ embedding_45_windo… │ (\u001b[38;5;45mNone\u001b[0m, \u001b[38;5;34m45\u001b[0m)        │    \u001b[38;5;34m225,045\u001b[0m │ target_onehot[\u001b[38;5;34m0\u001b[0m]… │\n",
              "│ (\u001b[38;5;33mDense\u001b[0m)             │                   │            │ context_onehot[\u001b[38;5;34m0\u001b[0m… │\n",
              "├─────────────────────┼───────────────────┼────────────┼───────────────────┤\n",
              "│ dot_1 (\u001b[38;5;33mDot\u001b[0m)         │ (\u001b[38;5;45mNone\u001b[0m, \u001b[38;5;34m1\u001b[0m)         │          \u001b[38;5;34m0\u001b[0m │ embedding_45_win… │\n",
              "│                     │                   │            │ embedding_45_win… │\n",
              "├─────────────────────┼───────────────────┼────────────┼───────────────────┤\n",
              "│ reshape_1 (\u001b[38;5;33mReshape\u001b[0m) │ (\u001b[38;5;45mNone\u001b[0m, \u001b[38;5;34m1\u001b[0m)         │          \u001b[38;5;34m0\u001b[0m │ dot_1[\u001b[38;5;34m0\u001b[0m][\u001b[38;5;34m0\u001b[0m]       │\n",
              "├─────────────────────┼───────────────────┼────────────┼───────────────────┤\n",
              "│ dense_1 (\u001b[38;5;33mDense\u001b[0m)     │ (\u001b[38;5;45mNone\u001b[0m, \u001b[38;5;34m1\u001b[0m)         │          \u001b[38;5;34m2\u001b[0m │ reshape_1[\u001b[38;5;34m0\u001b[0m][\u001b[38;5;34m0\u001b[0m]   │\n",
              "└─────────────────────┴───────────────────┴────────────┴───────────────────┘\n"
            ],
            "text/html": [
              "<pre style=\"white-space:pre;overflow-x:auto;line-height:normal;font-family:Menlo,'DejaVu Sans Mono',consolas,'Courier New',monospace\">┏━━━━━━━━━━━━━━━━━━━━━┳━━━━━━━━━━━━━━━━━━━┳━━━━━━━━━━━━┳━━━━━━━━━━━━━━━━━━━┓\n",
              "┃<span style=\"font-weight: bold\"> Layer (type)        </span>┃<span style=\"font-weight: bold\"> Output Shape      </span>┃<span style=\"font-weight: bold\">    Param # </span>┃<span style=\"font-weight: bold\"> Connected to      </span>┃\n",
              "┡━━━━━━━━━━━━━━━━━━━━━╇━━━━━━━━━━━━━━━━━━━╇━━━━━━━━━━━━╇━━━━━━━━━━━━━━━━━━━┩\n",
              "│ target_onehot       │ (<span style=\"color: #00d7ff; text-decoration-color: #00d7ff\">None</span>, <span style=\"color: #00af00; text-decoration-color: #00af00\">5001</span>)      │          <span style=\"color: #00af00; text-decoration-color: #00af00\">0</span> │ -                 │\n",
              "│ (<span style=\"color: #0087ff; text-decoration-color: #0087ff\">InputLayer</span>)        │                   │            │                   │\n",
              "├─────────────────────┼───────────────────┼────────────┼───────────────────┤\n",
              "│ context_onehot      │ (<span style=\"color: #00d7ff; text-decoration-color: #00d7ff\">None</span>, <span style=\"color: #00af00; text-decoration-color: #00af00\">5001</span>)      │          <span style=\"color: #00af00; text-decoration-color: #00af00\">0</span> │ -                 │\n",
              "│ (<span style=\"color: #0087ff; text-decoration-color: #0087ff\">InputLayer</span>)        │                   │            │                   │\n",
              "├─────────────────────┼───────────────────┼────────────┼───────────────────┤\n",
              "│ embedding_45_windo… │ (<span style=\"color: #00d7ff; text-decoration-color: #00d7ff\">None</span>, <span style=\"color: #00af00; text-decoration-color: #00af00\">45</span>)        │    <span style=\"color: #00af00; text-decoration-color: #00af00\">225,045</span> │ target_onehot[<span style=\"color: #00af00; text-decoration-color: #00af00\">0</span>]… │\n",
              "│ (<span style=\"color: #0087ff; text-decoration-color: #0087ff\">Dense</span>)             │                   │            │ context_onehot[<span style=\"color: #00af00; text-decoration-color: #00af00\">0</span>… │\n",
              "├─────────────────────┼───────────────────┼────────────┼───────────────────┤\n",
              "│ dot_1 (<span style=\"color: #0087ff; text-decoration-color: #0087ff\">Dot</span>)         │ (<span style=\"color: #00d7ff; text-decoration-color: #00d7ff\">None</span>, <span style=\"color: #00af00; text-decoration-color: #00af00\">1</span>)         │          <span style=\"color: #00af00; text-decoration-color: #00af00\">0</span> │ embedding_45_win… │\n",
              "│                     │                   │            │ embedding_45_win… │\n",
              "├─────────────────────┼───────────────────┼────────────┼───────────────────┤\n",
              "│ reshape_1 (<span style=\"color: #0087ff; text-decoration-color: #0087ff\">Reshape</span>) │ (<span style=\"color: #00d7ff; text-decoration-color: #00d7ff\">None</span>, <span style=\"color: #00af00; text-decoration-color: #00af00\">1</span>)         │          <span style=\"color: #00af00; text-decoration-color: #00af00\">0</span> │ dot_1[<span style=\"color: #00af00; text-decoration-color: #00af00\">0</span>][<span style=\"color: #00af00; text-decoration-color: #00af00\">0</span>]       │\n",
              "├─────────────────────┼───────────────────┼────────────┼───────────────────┤\n",
              "│ dense_1 (<span style=\"color: #0087ff; text-decoration-color: #0087ff\">Dense</span>)     │ (<span style=\"color: #00d7ff; text-decoration-color: #00d7ff\">None</span>, <span style=\"color: #00af00; text-decoration-color: #00af00\">1</span>)         │          <span style=\"color: #00af00; text-decoration-color: #00af00\">2</span> │ reshape_1[<span style=\"color: #00af00; text-decoration-color: #00af00\">0</span>][<span style=\"color: #00af00; text-decoration-color: #00af00\">0</span>]   │\n",
              "└─────────────────────┴───────────────────┴────────────┴───────────────────┘\n",
              "</pre>\n"
            ]
          },
          "metadata": {}
        },
        {
          "output_type": "display_data",
          "data": {
            "text/plain": [
              "\u001b[1m Total params: \u001b[0m\u001b[38;5;34m675,143\u001b[0m (2.58 MB)\n"
            ],
            "text/html": [
              "<pre style=\"white-space:pre;overflow-x:auto;line-height:normal;font-family:Menlo,'DejaVu Sans Mono',consolas,'Courier New',monospace\"><span style=\"font-weight: bold\"> Total params: </span><span style=\"color: #00af00; text-decoration-color: #00af00\">675,143</span> (2.58 MB)\n",
              "</pre>\n"
            ]
          },
          "metadata": {}
        },
        {
          "output_type": "display_data",
          "data": {
            "text/plain": [
              "\u001b[1m Trainable params: \u001b[0m\u001b[38;5;34m225,047\u001b[0m (879.09 KB)\n"
            ],
            "text/html": [
              "<pre style=\"white-space:pre;overflow-x:auto;line-height:normal;font-family:Menlo,'DejaVu Sans Mono',consolas,'Courier New',monospace\"><span style=\"font-weight: bold\"> Trainable params: </span><span style=\"color: #00af00; text-decoration-color: #00af00\">225,047</span> (879.09 KB)\n",
              "</pre>\n"
            ]
          },
          "metadata": {}
        },
        {
          "output_type": "display_data",
          "data": {
            "text/plain": [
              "\u001b[1m Non-trainable params: \u001b[0m\u001b[38;5;34m0\u001b[0m (0.00 B)\n"
            ],
            "text/html": [
              "<pre style=\"white-space:pre;overflow-x:auto;line-height:normal;font-family:Menlo,'DejaVu Sans Mono',consolas,'Courier New',monospace\"><span style=\"font-weight: bold\"> Non-trainable params: </span><span style=\"color: #00af00; text-decoration-color: #00af00\">0</span> (0.00 B)\n",
              "</pre>\n"
            ]
          },
          "metadata": {}
        },
        {
          "output_type": "display_data",
          "data": {
            "text/plain": [
              "\u001b[1m Optimizer params: \u001b[0m\u001b[38;5;34m450,096\u001b[0m (1.72 MB)\n"
            ],
            "text/html": [
              "<pre style=\"white-space:pre;overflow-x:auto;line-height:normal;font-family:Menlo,'DejaVu Sans Mono',consolas,'Courier New',monospace\"><span style=\"font-weight: bold\"> Optimizer params: </span><span style=\"color: #00af00; text-decoration-color: #00af00\">450,096</span> (1.72 MB)\n",
              "</pre>\n"
            ]
          },
          "metadata": {}
        }
      ]
    },
    {
      "cell_type": "code",
      "source": [
        "# Step 6: Visualización de la pérdida\n",
        "plt.figure(figsize=(14, 8))\n",
        "colors = ['#1f77b4', '#ff7f0e', '#2ca02c']\n",
        "\n",
        "for idx, emb_size in enumerate(embedding_sizes):\n",
        "    for window in window_sizes:\n",
        "        key = f'emb_{emb_size}_{window}'\n",
        "        if key in loss_histories:\n",
        "            plt.plot(\n",
        "                loss_histories[key],\n",
        "                linestyle='--' if 'window_4' in key else '-',\n",
        "                color=colors[idx],\n",
        "                label=f'Dim {emb_size} - Ventana {window.split(\"_\")[1]}'\n",
        "            )\n",
        "\n",
        "plt.title('Evolución de la Pérdida por Época', pad=20, fontsize=14)\n",
        "plt.xlabel('Épocas', labelpad=15)\n",
        "plt.ylabel('Pérdida', labelpad=15)\n",
        "plt.xticks(range(4), [f'Época {i+1}' for i in range(4)])\n",
        "plt.legend(bbox_to_anchor=(1.05, 1), loc='upper left')\n",
        "plt.grid(True, alpha=0.3)\n",
        "plt.tight_layout()\n",
        "plt.savefig('loss_evolution.png', dpi=300, bbox_inches='tight')\n",
        "plt.show()\n"
      ],
      "metadata": {
        "id": "mkS5W1LFvWYg",
        "colab": {
          "base_uri": "https://localhost:8080/",
          "height": 746
        },
        "outputId": "21a0793b-b748-41a5-8ca6-99c2817e7954"
      },
      "execution_count": 19,
      "outputs": [
        {
          "output_type": "display_data",
          "data": {
            "text/plain": [
              "<Figure size 1400x800 with 1 Axes>"
            ],
            "image/png": "[encoded data removed]"
          },
          "metadata": {}
        }
      ]
    },
    {
      "cell_type": "code",
      "source": [
        "# Example: vector for \"love\"\n",
        "idx = word2idx[\"love\"]\n",
        "\n",
        "print(f\"Embedding for 'love':\\n{embeddings[idx]}\")"
      ],
      "metadata": {
        "colab": {
          "base_uri": "https://localhost:8080/"
        },
        "id": "_nqE7T5sDvGb",
        "outputId": "eb11dc3f-b302-4906-92c6-b7082bbeddd3"
      },
      "execution_count": 21,
      "outputs": [
        {
          "output_type": "stream",
          "name": "stdout",
          "text": [
            "Embedding for 'love':\n",
            "[-0.33216602 -0.27406782 -0.38246113 -0.28168505 -0.06815907  0.38789436\n",
            " -0.06419466  0.612109    0.48774612  0.32662192  0.1506963   0.38084257\n",
            "  0.29669684 -0.73506224  0.40065342 -0.58351105 -0.01186757  0.38099456\n",
            "  0.3473295   0.4188103   0.488843   -0.128478    0.36257696 -0.61303705\n",
            "  0.06201477 -0.48797283 -0.4926789  -0.20480905  0.4752332  -0.24312648\n",
            " -0.5632082   0.41868424 -0.38064283  0.49042392  0.5258841   0.13773344\n",
            " -0.31068546 -0.54205215 -0.25342172  0.3709232  -0.46184993 -0.49570927\n",
            " -0.13260059 -0.4189586   0.39213663]\n"
          ]
        }
      ]
    },
    {
      "cell_type": "code",
      "source": [
        "\n",
        "\n",
        "# 1) Lista de las 10 palabras puras (sin frecuencia)\n",
        "top_10_words = [w for w,_ in top_10]\n",
        "\n",
        "# 2) Extrae los índices solo de las que realmente estén en tu vocabulario\n",
        "indices = []\n",
        "words   = []\n",
        "for w in top_10_words:\n",
        "    if w in word2idx:\n",
        "        indices.append(word2idx[w])\n",
        "        words.append(w)\n",
        "    else:\n",
        "        print(f\"Advertencia: '{w}' no está en el vocabulario\")\n",
        "\n",
        "# 3) Recorre cada modelo en final_embeddings\n",
        "for model_key, emb_matrix in final_embeddings.items():\n",
        "    # 4) Submatriz de solo las top palabras\n",
        "    submat = emb_matrix[indices]            # (n_words, emb_dim)\n",
        "\n",
        "    # 5) Calcula similitud de coseno\n",
        "    sim_mat = cosine_similarity(submat)     # (n_words, n_words)\n",
        "\n",
        "    # 6) Construye DataFrame y muestra\n",
        "    print(f\"\\n— Similitud de coseno para {model_key} —\")\n",
        "    df_sim = pd.DataFrame(sim_mat, index=words, columns=words)\n",
        "    display(df_sim)\n",
        "\n"
      ],
      "metadata": {
        "colab": {
          "base_uri": "https://localhost:8080/",
          "height": 399
        },
        "id": "uKqfFfltnEnb",
        "outputId": "232dee94-8d2e-4a8c-8663-f3212faa4b52"
      },
      "execution_count": 26,
      "outputs": [
        {
          "output_type": "stream",
          "name": "stdout",
          "text": [
            "\n",
            "— Similitud de coseno para emb_45_window_2 —\n"
          ]
        },
        {
          "output_type": "display_data",
          "data": {
            "text/plain": [
              "              day      love       lol      time     today     night    thanks  \\\n",
              "day      1.000000  0.653078  0.607785  0.663624  0.694660  0.449182  0.686236   \n",
              "love     0.653078  1.000000  0.814705  0.743281  0.748994  0.590178  0.695596   \n",
              "lol      0.607785  0.814705  1.000000  0.664151  0.683235  0.586442  0.724086   \n",
              "time     0.663624  0.743281  0.664151  1.000000  0.755117  0.489040  0.654489   \n",
              "today    0.694660  0.748994  0.683235  0.755117  1.000000  0.571647  0.717994   \n",
              "night    0.449182  0.590178  0.586442  0.489040  0.571647  1.000000  0.586019   \n",
              "thanks   0.686236  0.695596  0.724086  0.654489  0.717994  0.586019  1.000000   \n",
              "mothers  0.825864  0.774037  0.651575  0.761450  0.789123  0.485115  0.665981   \n",
              "hope     0.715246  0.754603  0.735028  0.819310  0.825422  0.581536  0.718639   \n",
              "morning  0.685013  0.810588  0.785310  0.833896  0.768635  0.531135  0.630960   \n",
              "\n",
              "          mothers      hope   morning  \n",
              "day      0.825864  0.715246  0.685013  \n",
              "love     0.774037  0.754603  0.810588  \n",
              "lol      0.651575  0.735028  0.785310  \n",
              "time     0.761450  0.819310  0.833896  \n",
              "today    0.789123  0.825422  0.768635  \n",
              "night    0.485115  0.581536  0.531135  \n",
              "thanks   0.665981  0.718639  0.630960  \n",
              "mothers  1.000000  0.791962  0.825093  \n",
              "hope     0.791962  1.000000  0.844681  \n",
              "morning  0.825093  0.844681  1.000000  "
            ],
            "text/html": [
              "\n",
              "  <div id=\"df-a0dcff84-9590-4b48-ad9b-67cef7ca41e0\" class=\"colab-df-container\">\n",
              "    <div>\n",
              "<style scoped>\n",
              "    .dataframe tbody tr th:only-of-type {\n",
              "        vertical-align: middle;\n",
              "    }\n",
              "\n",
              "    .dataframe tbody tr th {\n",
              "        vertical-align: top;\n",
              "    }\n",
              "\n",
              "    .dataframe thead th {\n",
              "        text-align: right;\n",
              "    }\n",
              "</style>\n",
              "<table border=\"1\" class=\"dataframe\">\n",
              "  <thead>\n",
              "    <tr style=\"text-align: right;\">\n",
              "      <th></th>\n",
              "      <th>day</th>\n",
              "      <th>love</th>\n",
              "      <th>lol</th>\n",
              "      <th>time</th>\n",
              "      <th>today</th>\n",
              "      <th>night</th>\n",
              "      <th>thanks</th>\n",
              "      <th>mothers</th>\n",
              "      <th>hope</th>\n",
              "      <th>morning</th>\n",
              "    </tr>\n",
              "  </thead>\n",
              "  <tbody>\n",
              "    <tr>\n",
              "      <th>day</th>\n",
              "      <td>1.000000</td>\n",
              "      <td>0.653078</td>\n",
              "      <td>0.607785</td>\n",
              "      <td>0.663624</td>\n",
              "      <td>0.694660</td>\n",
              "      <td>0.449182</td>\n",
              "      <td>0.686236</td>\n",
              "      <td>0.825864</td>\n",
              "      <td>0.715246</td>\n",
              "      <td>0.685013</td>\n",
              "    </tr>\n",
              "    <tr>\n",
              "      <th>love</th>\n",
              "      <td>0.653078</td>\n",
              "      <td>1.000000</td>\n",
              "      <td>0.814705</td>\n",
              "      <td>0.743281</td>\n",
              "      <td>0.748994</td>\n",
              "      <td>0.590178</td>\n",
              "      <td>0.695596</td>\n",
              "      <td>0.774037</td>\n",
              "      <td>0.754603</td>\n",
              "      <td>0.810588</td>\n",
              "    </tr>\n",
              "    <tr>\n",
              "      <th>lol</th>\n",
              "      <td>0.607785</td>\n",
              "      <td>0.814705</td>\n",
              "      <td>1.000000</td>\n",
              "      <td>0.664151</td>\n",
              "      <td>0.683235</td>\n",
              "      <td>0.586442</td>\n",
              "      <td>0.724086</td>\n",
              "      <td>0.651575</td>\n",
              "      <td>0.735028</td>\n",
              "      <td>0.785310</td>\n",
              "    </tr>\n",
              "    <tr>\n",
              "      <th>time</th>\n",
              "      <td>0.663624</td>\n",
              "      <td>0.743281</td>\n",
              "      <td>0.664151</td>\n",
              "      <td>1.000000</td>\n",
              "      <td>0.755117</td>\n",
              "      <td>0.489040</td>\n",
              "      <td>0.654489</td>\n",
              "      <td>0.761450</td>\n",
              "      <td>0.819310</td>\n",
              "      <td>0.833896</td>\n",
              "    </tr>\n",
              "    <tr>\n",
              "      <th>today</th>\n",
              "      <td>0.694660</td>\n",
              "      <td>0.748994</td>\n",
              "      <td>0.683235</td>\n",
              "      <td>0.755117</td>\n",
              "      <td>1.000000</td>\n",
              "      <td>0.571647</td>\n",
              "      <td>0.717994</td>\n",
              "      <td>0.789123</td>\n",
              "      <td>0.825422</td>\n",
              "      <td>0.768635</td>\n",
              "    </tr>\n",
              "    <tr>\n",
              "      <th>night</th>\n",
              "      <td>0.449182</td>\n",
              "      <td>0.590178</td>\n",
              "      <td>0.586442</td>\n",
              "      <td>0.489040</td>\n",
              "      <td>0.571647</td>\n",
              "      <td>1.000000</td>\n",
              "      <td>0.586019</td>\n",
              "      <td>0.485115</td>\n",
              "      <td>0.581536</td>\n",
              "      <td>0.531135</td>\n",
              "    </tr>\n",
              "    <tr>\n",
              "      <th>thanks</th>\n",
              "      <td>0.686236</td>\n",
              "      <td>0.695596</td>\n",
              "      <td>0.724086</td>\n",
              "      <td>0.654489</td>\n",
              "      <td>0.717994</td>\n",
              "      <td>0.586019</td>\n",
              "      <td>1.000000</td>\n",
              "      <td>0.665981</td>\n",
              "      <td>0.718639</td>\n",
              "      <td>0.630960</td>\n",
              "    </tr>\n",
              "    <tr>\n",
              "      <th>mothers</th>\n",
              "      <td>0.825864</td>\n",
              "      <td>0.774037</td>\n",
              "      <td>0.651575</td>\n",
              "      <td>0.761450</td>\n",
              "      <td>0.789123</td>\n",
              "      <td>0.485115</td>\n",
              "      <td>0.665981</td>\n",
              "      <td>1.000000</td>\n",
              "      <td>0.791962</td>\n",
              "      <td>0.825093</td>\n",
              "    </tr>\n",
              "    <tr>\n",
              "      <th>hope</th>\n",
              "      <td>0.715246</td>\n",
              "      <td>0.754603</td>\n",
              "      <td>0.735028</td>\n",
              "      <td>0.819310</td>\n",
              "      <td>0.825422</td>\n",
              "      <td>0.581536</td>\n",
              "      <td>0.718639</td>\n",
              "      <td>0.791962</td>\n",
              "      <td>1.000000</td>\n",
              "      <td>0.844681</td>\n",
              "    </tr>\n",
              "    <tr>\n",
              "      <th>morning</th>\n",
              "      <td>0.685013</td>\n",
              "      <td>0.810588</td>\n",
              "      <td>0.785310</td>\n",
              "      <td>0.833896</td>\n",
              "      <td>0.768635</td>\n",
              "      <td>0.531135</td>\n",
              "      <td>0.630960</td>\n",
              "      <td>0.825093</td>\n",
              "      <td>0.844681</td>\n",
              "      <td>1.000000</td>\n",
              "    </tr>\n",
              "  </tbody>\n",
              "</table>\n",
              "</div>\n",
              "    <div class=\"colab-df-buttons\">\n",
              "\n",
              "  <div class=\"colab-df-container\">\n",
              "    <button class=\"colab-df-convert\" onclick=\"convertToInteractive('df-a0dcff84-9590-4b48-ad9b-67cef7ca41e0')\"\n",
              "            title=\"Convert this dataframe to an interactive table.\"\n",
              "            style=\"display:none;\">\n",
              "\n",
              "  <svg xmlns=\"http://www.w3.org/2000/svg\" height=\"24px\" viewBox=\"0 -960 960 960\">\n",
              "    <path d=\"M120-120v-720h720v720H120Zm60-500h600v-160H180v160Zm220 220h160v-160H400v160Zm0 220h160v-160H400v160ZM180-400h160v-160H180v160Zm440 0h160v-160H620v160ZM180-180h160v-160H180v160Zm440 0h160v-160H620v160Z\"/>\n",
              "  </svg>\n",
              "    </button>\n",
              "\n",
              "  <style>\n",
              "    .colab-df-container {\n",
              "      display:flex;\n",
              "      gap: 12px;\n",
              "    }\n",
              "\n",
              "    .colab-df-convert {\n",
              "      background-color: #E8F0FE;\n",
              "      border: none;\n",
              "      border-radius: 50%;\n",
              "      cursor: pointer;\n",
              "      display: none;\n",
              "      fill: #1967D2;\n",
              "      height: 32px;\n",
              "      padding: 0 0 0 0;\n",
              "      width: 32px;\n",
              "    }\n",
              "\n",
              "    .colab-df-convert:hover {\n",
              "      background-color: #E2EBFA;\n",
              "      box-shadow: 0px 1px 2px rgba(60, 64, 67, 0.3), 0px 1px 3px 1px rgba(60, 64, 67, 0.15);\n",
              "      fill: #174EA6;\n",
              "    }\n",
              "\n",
              "    .colab-df-buttons div {\n",
              "      margin-bottom: 4px;\n",
              "    }\n",
              "\n",
              "    [theme=dark] .colab-df-convert {\n",
              "      background-color: #3B4455;\n",
              "      fill: #D2E3FC;\n",
              "    }\n",
              "\n",
              "    [theme=dark] .colab-df-convert:hover {\n",
              "      background-color: #434B5C;\n",
              "      box-shadow: 0px 1px 3px 1px rgba(0, 0, 0, 0.15);\n",
              "      filter: drop-shadow(0px 1px 2px rgba(0, 0, 0, 0.3));\n",
              "      fill: #FFFFFF;\n",
              "    }\n",
              "  </style>\n",
              "\n",
              "    <script>\n",
              "      const buttonEl =\n",
              "        document.querySelector('#df-a0dcff84-9590-4b48-ad9b-67cef7ca41e0 button.colab-df-convert');\n",
              "      buttonEl.style.display =\n",
              "        google.colab.kernel.accessAllowed ? 'block' : 'none';\n",
              "\n",
              "      async function convertToInteractive(key) {\n",
              "        const element = document.querySelector('#df-a0dcff84-9590-4b48-ad9b-67cef7ca41e0');\n",
              "        const dataTable =\n",
              "          await google.colab.kernel.invokeFunction('convertToInteractive',\n",
              "                                                    [key], {});\n",
              "        if (!dataTable) return;\n",
              "\n",
              "        const docLinkHtml = 'Like what you see? Visit the ' +\n",
              "          '<a target=\"_blank\" href=https://colab.research.google.com/notebooks/data_table.ipynb>data table notebook</a>'\n",
              "          + ' to learn more about interactive tables.';\n",
              "        element.innerHTML = '';\n",
              "        dataTable['output_type'] = 'display_data';\n",
              "        await google.colab.output.renderOutput(dataTable, element);\n",
              "        const docLink = document.createElement('div');\n",
              "        docLink.innerHTML = docLinkHtml;\n",
              "        element.appendChild(docLink);\n",
              "      }\n",
              "    </script>\n",
              "  </div>\n",
              "\n",
              "\n",
              "    <div id=\"df-57b2a513-4c0b-4e71-aafe-5afff226e59b\">\n",
              "      <button class=\"colab-df-quickchart\" onclick=\"quickchart('df-57b2a513-4c0b-4e71-aafe-5afff226e59b')\"\n",
              "                title=\"Suggest charts\"\n",
              "                style=\"display:none;\">\n",
              "\n",
              "<svg xmlns=\"http://www.w3.org/2000/svg\" height=\"24px\"viewBox=\"0 0 24 24\"\n",
              "     width=\"24px\">\n",
              "    <g>\n",
              "        <path d=\"M19 3H5c-1.1 0-2 .9-2 2v14c0 1.1.9 2 2 2h14c1.1 0 2-.9 2-2V5c0-1.1-.9-2-2-2zM9 17H7v-7h2v7zm4 0h-2V7h2v10zm4 0h-2v-4h2v4z\"/>\n",
              "    </g>\n",
              "</svg>\n",
              "      </button>\n",
              "\n",
              "<style>\n",
              "  .colab-df-quickchart {\n",
              "      --bg-color: #E8F0FE;\n",
              "      --fill-color: #1967D2;\n",
              "      --hover-bg-color: #E2EBFA;\n",
              "      --hover-fill-color: #174EA6;\n",
              "      --disabled-fill-color: #AAA;\n",
              "      --disabled-bg-color: #DDD;\n",
              "  }\n",
              "\n",
              "  [theme=dark] .colab-df-quickchart {\n",
              "      --bg-color: #3B4455;\n",
              "      --fill-color: #D2E3FC;\n",
              "      --hover-bg-color: #434B5C;\n",
              "      --hover-fill-color: #FFFFFF;\n",
              "      --disabled-bg-color: #3B4455;\n",
              "      --disabled-fill-color: #666;\n",
              "  }\n",
              "\n",
              "  .colab-df-quickchart {\n",
              "    background-color: var(--bg-color);\n",
              "    border: none;\n",
              "    border-radius: 50%;\n",
              "    cursor: pointer;\n",
              "    display: none;\n",
              "    fill: var(--fill-color);\n",
              "    height: 32px;\n",
              "    padding: 0;\n",
              "    width: 32px;\n",
              "  }\n",
              "\n",
              "  .colab-df-quickchart:hover {\n",
              "    background-color: var(--hover-bg-color);\n",
              "    box-shadow: 0 1px 2px rgba(60, 64, 67, 0.3), 0 1px 3px 1px rgba(60, 64, 67, 0.15);\n",
              "    fill: var(--button-hover-fill-color);\n",
              "  }\n",
              "\n",
              "  .colab-df-quickchart-complete:disabled,\n",
              "  .colab-df-quickchart-complete:disabled:hover {\n",
              "    background-color: var(--disabled-bg-color);\n",
              "    fill: var(--disabled-fill-color);\n",
              "    box-shadow: none;\n",
              "  }\n",
              "\n",
              "  .colab-df-spinner {\n",
              "    border: 2px solid var(--fill-color);\n",
              "    border-color: transparent;\n",
              "    border-bottom-color: var(--fill-color);\n",
              "    animation:\n",
              "      spin 1s steps(1) infinite;\n",
              "  }\n",
              "\n",
              "  @keyframes spin {\n",
              "    0% {\n",
              "      border-color: transparent;\n",
              "      border-bottom-color: var(--fill-color);\n",
              "      border-left-color: var(--fill-color);\n",
              "    }\n",
              "    20% {\n",
              "      border-color: transparent;\n",
              "      border-left-color: var(--fill-color);\n",
              "      border-top-color: var(--fill-color);\n",
              "    }\n",
              "    30% {\n",
              "      border-color: transparent;\n",
              "      border-left-color: var(--fill-color);\n",
              "      border-top-color: var(--fill-color);\n",
              "      border-right-color: var(--fill-color);\n",
              "    }\n",
              "    40% {\n",
              "      border-color: transparent;\n",
              "      border-right-color: var(--fill-color);\n",
              "      border-top-color: var(--fill-color);\n",
              "    }\n",
              "    60% {\n",
              "      border-color: transparent;\n",
              "      border-right-color: var(--fill-color);\n",
              "    }\n",
              "    80% {\n",
              "      border-color: transparent;\n",
              "      border-right-color: var(--fill-color);\n",
              "      border-bottom-color: var(--fill-color);\n",
              "    }\n",
              "    90% {\n",
              "      border-color: transparent;\n",
              "      border-bottom-color: var(--fill-color);\n",
              "    }\n",
              "  }\n",
              "</style>\n",
              "\n",
              "      <script>\n",
              "        async function quickchart(key) {\n",
              "          const quickchartButtonEl =\n",
              "            document.querySelector('#' + key + ' button');\n",
              "          quickchartButtonEl.disabled = true;  // To prevent multiple clicks.\n",
              "          quickchartButtonEl.classList.add('colab-df-spinner');\n",
              "          try {\n",
              "            const charts = await google.colab.kernel.invokeFunction(\n",
              "                'suggestCharts', [key], {});\n",
              "          } catch (error) {\n",
              "            console.error('Error during call to suggestCharts:', error);\n",
              "          }\n",
              "          quickchartButtonEl.classList.remove('colab-df-spinner');\n",
              "          quickchartButtonEl.classList.add('colab-df-quickchart-complete');\n",
              "        }\n",
              "        (() => {\n",
              "          let quickchartButtonEl =\n",
              "            document.querySelector('#df-57b2a513-4c0b-4e71-aafe-5afff226e59b button');\n",
              "          quickchartButtonEl.style.display =\n",
              "            google.colab.kernel.accessAllowed ? 'block' : 'none';\n",
              "        })();\n",
              "      </script>\n",
              "    </div>\n",
              "\n",
              "  <div id=\"id_10dc5996-1fed-470f-8d74-884c59a93197\">\n",
              "    <style>\n",
              "      .colab-df-generate {\n",
              "        background-color: #E8F0FE;\n",
              "        border: none;\n",
              "        border-radius: 50%;\n",
              "        cursor: pointer;\n",
              "        display: none;\n",
              "        fill: #1967D2;\n",
              "        height: 32px;\n",
              "        padding: 0 0 0 0;\n",
              "        width: 32px;\n",
              "      }\n",
              "\n",
              "      .colab-df-generate:hover {\n",
              "        background-color: #E2EBFA;\n",
              "        box-shadow: 0px 1px 2px rgba(60, 64, 67, 0.3), 0px 1px 3px 1px rgba(60, 64, 67, 0.15);\n",
              "        fill: #174EA6;\n",
              "      }\n",
              "\n",
              "      [theme=dark] .colab-df-generate {\n",
              "        background-color: #3B4455;\n",
              "        fill: #D2E3FC;\n",
              "      }\n",
              "\n",
              "      [theme=dark] .colab-df-generate:hover {\n",
              "        background-color: #434B5C;\n",
              "        box-shadow: 0px 1px 3px 1px rgba(0, 0, 0, 0.15);\n",
              "        filter: drop-shadow(0px 1px 2px rgba(0, 0, 0, 0.3));\n",
              "        fill: #FFFFFF;\n",
              "      }\n",
              "    </style>\n",
              "    <button class=\"colab-df-generate\" onclick=\"generateWithVariable('df_sim')\"\n",
              "            title=\"Generate code using this dataframe.\"\n",
              "            style=\"display:none;\">\n",
              "\n",
              "  <svg xmlns=\"http://www.w3.org/2000/svg\" height=\"24px\"viewBox=\"0 0 24 24\"\n",
              "       width=\"24px\">\n",
              "    <path d=\"M7,19H8.4L18.45,9,17,7.55,7,17.6ZM5,21V16.75L18.45,3.32a2,2,0,0,1,2.83,0l1.4,1.43a1.91,1.91,0,0,1,.58,1.4,1.91,1.91,0,0,1-.58,1.4L9.25,21ZM18.45,9,17,7.55Zm-12,3A5.31,5.31,0,0,0,4.9,8.1,5.31,5.31,0,0,0,1,6.5,5.31,5.31,0,0,0,4.9,4.9,5.31,5.31,0,0,0,6.5,1,5.31,5.31,0,0,0,8.1,4.9,5.31,5.31,0,0,0,12,6.5,5.46,5.46,0,0,0,6.5,12Z\"/>\n",
              "  </svg>\n",
              "    </button>\n",
              "    <script>\n",
              "      (() => {\n",
              "      const buttonEl =\n",
              "        document.querySelector('#id_10dc5996-1fed-470f-8d74-884c59a93197 button.colab-df-generate');\n",
              "      buttonEl.style.display =\n",
              "        google.colab.kernel.accessAllowed ? 'block' : 'none';\n",
              "\n",
              "      buttonEl.onclick = () => {\n",
              "        google.colab.notebook.generateWithVariable('df_sim');\n",
              "      }\n",
              "      })();\n",
              "    </script>\n",
              "  </div>\n",
              "\n",
              "    </div>\n",
              "  </div>\n"
            ],
            "application/vnd.google.colaboratory.intrinsic+json": {
              "type": "dataframe",
              "variable_name": "df_sim",
              "summary": "{\n  \"name\": \"df_sim\",\n  \"rows\": 10,\n  \"fields\": [\n    {\n      \"column\": \"day\",\n      \"properties\": {\n        \"dtype\": \"float32\",\n        \"num_unique_values\": 10,\n        \"samples\": [\n          0.7152461409568787,\n          0.6530776619911194,\n          0.449182391166687\n        ],\n        \"semantic_type\": \"\",\n        \"description\": \"\"\n      }\n    },\n    {\n      \"column\": \"love\",\n      \"properties\": {\n        \"dtype\": \"float32\",\n        \"num_unique_values\": 10,\n        \"samples\": [\n          0.7546027302742004,\n          1.0000001192092896,\n          0.5901780128479004\n        ],\n        \"semantic_type\": \"\",\n        \"description\": \"\"\n      }\n    },\n    {\n      \"column\": \"lol\",\n      \"properties\": {\n        \"dtype\": \"float32\",\n        \"num_unique_values\": 10,\n        \"samples\": [\n          0.7350282073020935,\n          0.8147052526473999,\n          0.5864424109458923\n        ],\n        \"semantic_type\": \"\",\n        \"description\": \"\"\n      }\n    },\n    {\n      \"column\": \"time\",\n      \"properties\": {\n        \"dtype\": \"float32\",\n        \"num_unique_values\": 10,\n        \"samples\": [\n          0.8193104267120361,\n          0.7432814240455627,\n          0.4890401363372803\n        ],\n        \"semantic_type\": \"\",\n        \"description\": \"\"\n      }\n    },\n    {\n      \"column\": \"today\",\n      \"properties\": {\n        \"dtype\": \"float32\",\n        \"num_unique_values\": 10,\n        \"samples\": [\n          0.8254216313362122,\n          0.7489944100379944,\n          0.5716471672058105\n        ],\n        \"semantic_type\": \"\",\n        \"description\": \"\"\n      }\n    },\n    {\n      \"column\": \"night\",\n      \"properties\": {\n        \"dtype\": \"float32\",\n        \"num_unique_values\": 10,\n        \"samples\": [\n          0.581536054611206,\n          0.5901780128479004,\n          1.0\n        ],\n        \"semantic_type\": \"\",\n        \"description\": \"\"\n      }\n    },\n    {\n      \"column\": \"thanks\",\n      \"properties\": {\n        \"dtype\": \"float32\",\n        \"num_unique_values\": 10,\n        \"samples\": [\n          0.7186388969421387,\n          0.6955955028533936,\n          0.5860186815261841\n        ],\n        \"semantic_type\": \"\",\n        \"description\": \"\"\n      }\n    },\n    {\n      \"column\": \"mothers\",\n      \"properties\": {\n        \"dtype\": \"float32\",\n        \"num_unique_values\": 10,\n        \"samples\": [\n          0.7919620871543884,\n          0.7740366458892822,\n          0.4851154685020447\n        ],\n        \"semantic_type\": \"\",\n        \"description\": \"\"\n      }\n    },\n    {\n      \"column\": \"hope\",\n      \"properties\": {\n        \"dtype\": \"float32\",\n        \"num_unique_values\": 10,\n        \"samples\": [\n          1.0000001192092896,\n          0.7546027302742004,\n          0.581536054611206\n        ],\n        \"semantic_type\": \"\",\n        \"description\": \"\"\n      }\n    },\n    {\n      \"column\": \"morning\",\n      \"properties\": {\n        \"dtype\": \"float32\",\n        \"num_unique_values\": 10,\n        \"samples\": [\n          0.8446812033653259,\n          0.8105883598327637,\n          0.5311354994773865\n        ],\n        \"semantic_type\": \"\",\n        \"description\": \"\"\n      }\n    }\n  ]\n}"
            }
          },
          "metadata": {}
        }
      ]
    },
    {
      "cell_type": "code",
      "source": [
        "\n",
        "\n",
        "# Define aquí tres grupos basados en tu top-10\n",
        "grupos = {\n",
        "    'Día/Mañana':     ['day', 'today', 'morning'],\n",
        "    'Emoción Positiva':['love', 'hope', 'thanks'],\n",
        "    'Risa/Conversación':['lol', 'thanks', 'mothers']  # ejemplo mixto\n",
        "}\n",
        "\n",
        "for model_key, emb_matrix in final_embeddings.items():\n",
        "    print(f\"\\n=== Similitudes para {model_key} ===\")\n",
        "    # Extrae solo los vectores de tus 10 palabras\n",
        "    submat = emb_matrix[indices]           # (10, emb_dim)\n",
        "    sim_mat = cosine_similarity(submat)    # (10, 10)\n",
        "\n",
        "    # Mapea palabra -> posición en 'words'\n",
        "    pos = {w:i for i,w in enumerate(words)}\n",
        "\n",
        "    for nombre, group in grupos.items():\n",
        "        # Filtra solo los que realmente están en tu top\n",
        "        valid = [w for w in group if w in pos]\n",
        "        idxs  = [pos[w] for w in valid]\n",
        "        if len(idxs) < 2:\n",
        "            print(f\"  * Grupo «{nombre}» tiene <2 palabras válidas, omito.\")\n",
        "            continue\n",
        "\n",
        "        sims = []\n",
        "        print(f\"\\n  Grupo «{nombre}»: {valid}\")\n",
        "        for i,j in combinations(idxs, 2):\n",
        "            s = sim_mat[i, j]\n",
        "            sims.append(s)\n",
        "            print(f\"    Sim({words[i]}, {words[j]}) = {s:.3f}\")\n",
        "\n",
        "        print(f\"    → Similitud media = {np.mean(sims):.3f}\")\n",
        "\n"
      ],
      "metadata": {
        "colab": {
          "base_uri": "https://localhost:8080/"
        },
        "id": "ukyXVy0PGJN9",
        "outputId": "27298e95-334e-4dfd-887f-b340b06ab18e"
      },
      "execution_count": 29,
      "outputs": [
        {
          "output_type": "stream",
          "name": "stdout",
          "text": [
            "\n",
            "=== Similitudes para emb_45_window_2 ===\n",
            "\n",
            "  Grupo «Día/Mañana»: ['day', 'today', 'morning']\n",
            "    Sim(day, today) = 0.695\n",
            "    Sim(day, morning) = 0.685\n",
            "    Sim(today, morning) = 0.769\n",
            "    → Similitud media = 0.716\n",
            "\n",
            "  Grupo «Emoción Positiva»: ['love', 'hope', 'thanks']\n",
            "    Sim(love, hope) = 0.755\n",
            "    Sim(love, thanks) = 0.696\n",
            "    Sim(hope, thanks) = 0.719\n",
            "    → Similitud media = 0.723\n",
            "\n",
            "  Grupo «Risa/Conversación»: ['lol', 'thanks', 'mothers']\n",
            "    Sim(lol, thanks) = 0.724\n",
            "    Sim(lol, mothers) = 0.652\n",
            "    Sim(thanks, mothers) = 0.666\n",
            "    → Similitud media = 0.681\n"
          ]
        }
      ]
    },
    {
      "cell_type": "markdown",
      "source": [
        "# **FASE 3**"
      ],
      "metadata": {
        "id": "e_9w94uiIQVd"
      }
    },
    {
      "cell_type": "code",
      "source": [
        "# --- FASE 3: DOS RNN SECUENCIALES CON EMBEDDINGS PRE-ENTRENADOS ---\n",
        "\n",
        "# Parámetros generales\n",
        "maxlen       = 50\n",
        "batch_rnn    = 64\n",
        "epochs_rnn   = 5\n",
        "learning_rate= 0.025\n",
        "\n",
        "# 1) Usa SMALL_TRAIN_DF / SMALL_TEST_DF y quita filas sin etiqueta\n",
        "small_train_df.dropna(subset=['sentiment'], inplace=True)\n",
        "small_test_df .dropna(subset=['sentiment'], inplace=True)\n",
        "\n",
        "texts_train = small_train_df['text_clean'].tolist()\n",
        "texts_test  = small_test_df ['text_clean'].tolist()\n",
        "\n",
        "# 2) LabelEncoder para convertir strings → enteros\n",
        "le      = LabelEncoder()\n",
        "y_train = le.fit_transform(small_train_df['sentiment'])\n",
        "y_test  = le.transform( small_test_df ['sentiment'])\n",
        "y_train = y_train.astype('int32')\n",
        "y_test  = y_test.astype('int32')\n",
        "print(\"Clases sentiment codificadas:\", le.classes_)\n",
        "\n",
        "# 3) Secuencias + padding (reusa el tokenizer de Fase 2)\n",
        "seq_train = tokenizer.texts_to_sequences(texts_train)\n",
        "seq_test  = tokenizer.texts_to_sequences(texts_test)\n",
        "X_train   = pad_sequences(seq_train, maxlen=maxlen, padding='post')\n",
        "X_test    = pad_sequences(seq_test,  maxlen=maxlen, padding='post')\n",
        "\n",
        "# 4) Crea datasets optimizados\n",
        "train_ds = tf.data.Dataset.from_tensor_slices((X_train, y_train)) \\\n",
        "                         .shuffle(len(X_train)) \\\n",
        "                         .batch(batch_rnn) \\\n",
        "                         .prefetch(tf.data.AUTOTUNE)\n",
        "test_ds  = tf.data.Dataset.from_tensor_slices((X_test,  y_test)) \\\n",
        "                         .batch(batch_rnn) \\\n",
        "                         .prefetch(tf.data.AUTOTUNE)\n",
        "\n",
        "# 5) Elige qué embeddings usar\n",
        "key_A = 'emb_45_window_2'\n",
        "key_B = 'emb_45_window_2'  # cámbialo por 'emb_312_window_4', etc.\n",
        "emb_A = final_embeddings[key_A]\n",
        "emb_B = final_embeddings[key_B]\n",
        "vocab_sz = vocab_size\n",
        "\n",
        "# 6) Construye modelo A (Bi-LSTM + Bi-GRU)\n",
        "model_A = keras.Sequential([\n",
        "    Embedding(input_dim=vocab_sz,\n",
        "              output_dim=emb_A.shape[1],\n",
        "              weights=[emb_A],\n",
        "              mask_zero=True,\n",
        "              trainable=False),\n",
        "    Bidirectional(LSTM(64, return_sequences=True)),\n",
        "    Bidirectional(GRU(64)),\n",
        "    Dense(64, activation='relu'),\n",
        "    Dense(1, activation='sigmoid')\n",
        "], name='Model_A')\n",
        "model_A.compile(\n",
        "    loss='binary_crossentropy',\n",
        "    optimizer=keras.optimizers.Adam(learning_rate=learning_rate),\n",
        "    metrics=['accuracy']\n",
        ")\n",
        "print(\"\\n--- Model A Summary ---\")\n",
        "model_A.summary()\n",
        "\n",
        "# 7) Construye modelo B (Bi-LSTM simple)\n",
        "model_B = keras.Sequential([\n",
        "    Embedding(input_dim=vocab_sz,\n",
        "              output_dim=emb_B.shape[1],\n",
        "              weights=[emb_B],\n",
        "              mask_zero=True,\n",
        "              trainable=False),\n",
        "    Bidirectional(LSTM(64)),\n",
        "    Dense(64, activation='relu'),\n",
        "    Dense(1, activation='sigmoid')\n",
        "], name='Model_B')\n",
        "model_B.compile(\n",
        "    loss='binary_crossentropy',\n",
        "    optimizer=keras.optimizers.Adam(learning_rate=learning_rate),\n",
        "    metrics=['accuracy']\n",
        ")\n",
        "print(\"\\n--- Model B Summary ---\")\n",
        "model_B.summary()\n",
        "\n",
        "\n"
      ],
      "metadata": {
        "colab": {
          "base_uri": "https://localhost:8080/",
          "height": 620
        },
        "id": "gdeFj-ASHWxa",
        "outputId": "cfa6a4bb-a80a-4681-fdda-33e616d84ad8"
      },
      "execution_count": 35,
      "outputs": [
        {
          "output_type": "stream",
          "name": "stdout",
          "text": [
            "Clases sentiment codificadas: ['negative' 'neutral' 'positive']\n",
            "\n",
            "--- Model A Summary ---\n"
          ]
        },
        {
          "output_type": "display_data",
          "data": {
            "text/plain": [
              "\u001b[1mModel: \"Model_A\"\u001b[0m\n"
            ],
            "text/html": [
              "<pre style=\"white-space:pre;overflow-x:auto;line-height:normal;font-family:Menlo,'DejaVu Sans Mono',consolas,'Courier New',monospace\"><span style=\"font-weight: bold\">Model: \"Model_A\"</span>\n",
              "</pre>\n"
            ]
          },
          "metadata": {}
        },
        {
          "output_type": "display_data",
          "data": {
            "text/plain": [
              "┏━━━━━━━━━━━━━━━━━━━━━━━━━━━━━━━━━┳━━━━━━━━━━━━━━━━━━━━━━━━┳━━━━━━━━━━━━━━━┓\n",
              "┃\u001b[1m \u001b[0m\u001b[1mLayer (type)                   \u001b[0m\u001b[1m \u001b[0m┃\u001b[1m \u001b[0m\u001b[1mOutput Shape          \u001b[0m\u001b[1m \u001b[0m┃\u001b[1m \u001b[0m\u001b[1m      Param #\u001b[0m\u001b[1m \u001b[0m┃\n",
              "┡━━━━━━━━━━━━━━━━━━━━━━━━━━━━━━━━━╇━━━━━━━━━━━━━━━━━━━━━━━━╇━━━━━━━━━━━━━━━┩\n",
              "│ embedding_3 (\u001b[38;5;33mEmbedding\u001b[0m)         │ ?                      │       \u001b[38;5;34m225,045\u001b[0m │\n",
              "├─────────────────────────────────┼────────────────────────┼───────────────┤\n",
              "│ bidirectional_5 (\u001b[38;5;33mBidirectional\u001b[0m) │ ?                      │   \u001b[38;5;34m0\u001b[0m (unbuilt) │\n",
              "├─────────────────────────────────┼────────────────────────┼───────────────┤\n",
              "│ bidirectional_6 (\u001b[38;5;33mBidirectional\u001b[0m) │ ?                      │   \u001b[38;5;34m0\u001b[0m (unbuilt) │\n",
              "├─────────────────────────────────┼────────────────────────┼───────────────┤\n",
              "│ dense_7 (\u001b[38;5;33mDense\u001b[0m)                 │ ?                      │   \u001b[38;5;34m0\u001b[0m (unbuilt) │\n",
              "├─────────────────────────────────┼────────────────────────┼───────────────┤\n",
              "│ dense_8 (\u001b[38;5;33mDense\u001b[0m)                 │ ?                      │   \u001b[38;5;34m0\u001b[0m (unbuilt) │\n",
              "└─────────────────────────────────┴────────────────────────┴───────────────┘\n"
            ],
            "text/html": [
              "<pre style=\"white-space:pre;overflow-x:auto;line-height:normal;font-family:Menlo,'DejaVu Sans Mono',consolas,'Courier New',monospace\">┏━━━━━━━━━━━━━━━━━━━━━━━━━━━━━━━━━┳━━━━━━━━━━━━━━━━━━━━━━━━┳━━━━━━━━━━━━━━━┓\n",
              "┃<span style=\"font-weight: bold\"> Layer (type)                    </span>┃<span style=\"font-weight: bold\"> Output Shape           </span>┃<span style=\"font-weight: bold\">       Param # </span>┃\n",
              "┡━━━━━━━━━━━━━━━━━━━━━━━━━━━━━━━━━╇━━━━━━━━━━━━━━━━━━━━━━━━╇━━━━━━━━━━━━━━━┩\n",
              "│ embedding_3 (<span style=\"color: #0087ff; text-decoration-color: #0087ff\">Embedding</span>)         │ ?                      │       <span style=\"color: #00af00; text-decoration-color: #00af00\">225,045</span> │\n",
              "├─────────────────────────────────┼────────────────────────┼───────────────┤\n",
              "│ bidirectional_5 (<span style=\"color: #0087ff; text-decoration-color: #0087ff\">Bidirectional</span>) │ ?                      │   <span style=\"color: #00af00; text-decoration-color: #00af00\">0</span> (unbuilt) │\n",
              "├─────────────────────────────────┼────────────────────────┼───────────────┤\n",
              "│ bidirectional_6 (<span style=\"color: #0087ff; text-decoration-color: #0087ff\">Bidirectional</span>) │ ?                      │   <span style=\"color: #00af00; text-decoration-color: #00af00\">0</span> (unbuilt) │\n",
              "├─────────────────────────────────┼────────────────────────┼───────────────┤\n",
              "│ dense_7 (<span style=\"color: #0087ff; text-decoration-color: #0087ff\">Dense</span>)                 │ ?                      │   <span style=\"color: #00af00; text-decoration-color: #00af00\">0</span> (unbuilt) │\n",
              "├─────────────────────────────────┼────────────────────────┼───────────────┤\n",
              "│ dense_8 (<span style=\"color: #0087ff; text-decoration-color: #0087ff\">Dense</span>)                 │ ?                      │   <span style=\"color: #00af00; text-decoration-color: #00af00\">0</span> (unbuilt) │\n",
              "└─────────────────────────────────┴────────────────────────┴───────────────┘\n",
              "</pre>\n"
            ]
          },
          "metadata": {}
        },
        {
          "output_type": "display_data",
          "data": {
            "text/plain": [
              "\u001b[1m Total params: \u001b[0m\u001b[38;5;34m225,045\u001b[0m (879.08 KB)\n"
            ],
            "text/html": [
              "<pre style=\"white-space:pre;overflow-x:auto;line-height:normal;font-family:Menlo,'DejaVu Sans Mono',consolas,'Courier New',monospace\"><span style=\"font-weight: bold\"> Total params: </span><span style=\"color: #00af00; text-decoration-color: #00af00\">225,045</span> (879.08 KB)\n",
              "</pre>\n"
            ]
          },
          "metadata": {}
        },
        {
          "output_type": "display_data",
          "data": {
            "text/plain": [
              "\u001b[1m Trainable params: \u001b[0m\u001b[38;5;34m0\u001b[0m (0.00 B)\n"
            ],
            "text/html": [
              "<pre style=\"white-space:pre;overflow-x:auto;line-height:normal;font-family:Menlo,'DejaVu Sans Mono',consolas,'Courier New',monospace\"><span style=\"font-weight: bold\"> Trainable params: </span><span style=\"color: #00af00; text-decoration-color: #00af00\">0</span> (0.00 B)\n",
              "</pre>\n"
            ]
          },
          "metadata": {}
        },
        {
          "output_type": "display_data",
          "data": {
            "text/plain": [
              "\u001b[1m Non-trainable params: \u001b[0m\u001b[38;5;34m225,045\u001b[0m (879.08 KB)\n"
            ],
            "text/html": [
              "<pre style=\"white-space:pre;overflow-x:auto;line-height:normal;font-family:Menlo,'DejaVu Sans Mono',consolas,'Courier New',monospace\"><span style=\"font-weight: bold\"> Non-trainable params: </span><span style=\"color: #00af00; text-decoration-color: #00af00\">225,045</span> (879.08 KB)\n",
              "</pre>\n"
            ]
          },
          "metadata": {}
        },
        {
          "output_type": "stream",
          "name": "stdout",
          "text": [
            "\n",
            "--- Model B Summary ---\n"
          ]
        },
        {
          "output_type": "display_data",
          "data": {
            "text/plain": [
              "\u001b[1mModel: \"Model_B\"\u001b[0m\n"
            ],
            "text/html": [
              "<pre style=\"white-space:pre;overflow-x:auto;line-height:normal;font-family:Menlo,'DejaVu Sans Mono',consolas,'Courier New',monospace\"><span style=\"font-weight: bold\">Model: \"Model_B\"</span>\n",
              "</pre>\n"
            ]
          },
          "metadata": {}
        },
        {
          "output_type": "display_data",
          "data": {
            "text/plain": [
              "┏━━━━━━━━━━━━━━━━━━━━━━━━━━━━━━━━━┳━━━━━━━━━━━━━━━━━━━━━━━━┳━━━━━━━━━━━━━━━┓\n",
              "┃\u001b[1m \u001b[0m\u001b[1mLayer (type)                   \u001b[0m\u001b[1m \u001b[0m┃\u001b[1m \u001b[0m\u001b[1mOutput Shape          \u001b[0m\u001b[1m \u001b[0m┃\u001b[1m \u001b[0m\u001b[1m      Param #\u001b[0m\u001b[1m \u001b[0m┃\n",
              "┡━━━━━━━━━━━━━━━━━━━━━━━━━━━━━━━━━╇━━━━━━━━━━━━━━━━━━━━━━━━╇━━━━━━━━━━━━━━━┩\n",
              "│ embedding_4 (\u001b[38;5;33mEmbedding\u001b[0m)         │ ?                      │       \u001b[38;5;34m225,045\u001b[0m │\n",
              "├─────────────────────────────────┼────────────────────────┼───────────────┤\n",
              "│ bidirectional_7 (\u001b[38;5;33mBidirectional\u001b[0m) │ ?                      │   \u001b[38;5;34m0\u001b[0m (unbuilt) │\n",
              "├─────────────────────────────────┼────────────────────────┼───────────────┤\n",
              "│ dense_9 (\u001b[38;5;33mDense\u001b[0m)                 │ ?                      │   \u001b[38;5;34m0\u001b[0m (unbuilt) │\n",
              "├─────────────────────────────────┼────────────────────────┼───────────────┤\n",
              "│ dense_10 (\u001b[38;5;33mDense\u001b[0m)                │ ?                      │   \u001b[38;5;34m0\u001b[0m (unbuilt) │\n",
              "└─────────────────────────────────┴────────────────────────┴───────────────┘\n"
            ],
            "text/html": [
              "<pre style=\"white-space:pre;overflow-x:auto;line-height:normal;font-family:Menlo,'DejaVu Sans Mono',consolas,'Courier New',monospace\">┏━━━━━━━━━━━━━━━━━━━━━━━━━━━━━━━━━┳━━━━━━━━━━━━━━━━━━━━━━━━┳━━━━━━━━━━━━━━━┓\n",
              "┃<span style=\"font-weight: bold\"> Layer (type)                    </span>┃<span style=\"font-weight: bold\"> Output Shape           </span>┃<span style=\"font-weight: bold\">       Param # </span>┃\n",
              "┡━━━━━━━━━━━━━━━━━━━━━━━━━━━━━━━━━╇━━━━━━━━━━━━━━━━━━━━━━━━╇━━━━━━━━━━━━━━━┩\n",
              "│ embedding_4 (<span style=\"color: #0087ff; text-decoration-color: #0087ff\">Embedding</span>)         │ ?                      │       <span style=\"color: #00af00; text-decoration-color: #00af00\">225,045</span> │\n",
              "├─────────────────────────────────┼────────────────────────┼───────────────┤\n",
              "│ bidirectional_7 (<span style=\"color: #0087ff; text-decoration-color: #0087ff\">Bidirectional</span>) │ ?                      │   <span style=\"color: #00af00; text-decoration-color: #00af00\">0</span> (unbuilt) │\n",
              "├─────────────────────────────────┼────────────────────────┼───────────────┤\n",
              "│ dense_9 (<span style=\"color: #0087ff; text-decoration-color: #0087ff\">Dense</span>)                 │ ?                      │   <span style=\"color: #00af00; text-decoration-color: #00af00\">0</span> (unbuilt) │\n",
              "├─────────────────────────────────┼────────────────────────┼───────────────┤\n",
              "│ dense_10 (<span style=\"color: #0087ff; text-decoration-color: #0087ff\">Dense</span>)                │ ?                      │   <span style=\"color: #00af00; text-decoration-color: #00af00\">0</span> (unbuilt) │\n",
              "└─────────────────────────────────┴────────────────────────┴───────────────┘\n",
              "</pre>\n"
            ]
          },
          "metadata": {}
        },
        {
          "output_type": "display_data",
          "data": {
            "text/plain": [
              "\u001b[1m Total params: \u001b[0m\u001b[38;5;34m225,045\u001b[0m (879.08 KB)\n"
            ],
            "text/html": [
              "<pre style=\"white-space:pre;overflow-x:auto;line-height:normal;font-family:Menlo,'DejaVu Sans Mono',consolas,'Courier New',monospace\"><span style=\"font-weight: bold\"> Total params: </span><span style=\"color: #00af00; text-decoration-color: #00af00\">225,045</span> (879.08 KB)\n",
              "</pre>\n"
            ]
          },
          "metadata": {}
        },
        {
          "output_type": "display_data",
          "data": {
            "text/plain": [
              "\u001b[1m Trainable params: \u001b[0m\u001b[38;5;34m0\u001b[0m (0.00 B)\n"
            ],
            "text/html": [
              "<pre style=\"white-space:pre;overflow-x:auto;line-height:normal;font-family:Menlo,'DejaVu Sans Mono',consolas,'Courier New',monospace\"><span style=\"font-weight: bold\"> Trainable params: </span><span style=\"color: #00af00; text-decoration-color: #00af00\">0</span> (0.00 B)\n",
              "</pre>\n"
            ]
          },
          "metadata": {}
        },
        {
          "output_type": "display_data",
          "data": {
            "text/plain": [
              "\u001b[1m Non-trainable params: \u001b[0m\u001b[38;5;34m225,045\u001b[0m (879.08 KB)\n"
            ],
            "text/html": [
              "<pre style=\"white-space:pre;overflow-x:auto;line-height:normal;font-family:Menlo,'DejaVu Sans Mono',consolas,'Courier New',monospace\"><span style=\"font-weight: bold\"> Non-trainable params: </span><span style=\"color: #00af00; text-decoration-color: #00af00\">225,045</span> (879.08 KB)\n",
              "</pre>\n"
            ]
          },
          "metadata": {}
        }
      ]
    },
    {
      "cell_type": "code",
      "source": [
        "# 8) Entrena ambos\n",
        "print(\"\\n>>> Entrenando Model A\")\n",
        "history_A = model_A.fit(\n",
        "    train_ds,\n",
        "    validation_data=test_ds,\n",
        "    epochs=epochs_rnn\n",
        ")\n",
        "\n",
        "print(\"\\n>>> Entrenando Model B\")\n",
        "history_B = model_B.fit(\n",
        "    train_ds,\n",
        "    validation_data=test_ds,\n",
        "    epochs=epochs_rnn\n",
        ")\n",
        "\n"
      ],
      "metadata": {
        "colab": {
          "base_uri": "https://localhost:8080/"
        },
        "id": "Emdnqfl5Mji6",
        "outputId": "ff451b77-2f7b-4033-dfc9-35259cfff331"
      },
      "execution_count": 36,
      "outputs": [
        {
          "output_type": "stream",
          "name": "stdout",
          "text": [
            "\n",
            ">>> Entrenando Model A\n",
            "Epoch 1/5\n",
            "\u001b[1m43/43\u001b[0m \u001b[32m━━━━━━━━━━━━━━━━━━━━\u001b[0m\u001b[37m\u001b[0m \u001b[1m11s\u001b[0m 53ms/step - accuracy: 0.4038 - loss: -4.0648 - val_accuracy: 0.4028 - val_loss: 22.9313\n",
            "Epoch 2/5\n",
            "\u001b[1m43/43\u001b[0m \u001b[32m━━━━━━━━━━━━━━━━━━━━\u001b[0m\u001b[37m\u001b[0m \u001b[1m1s\u001b[0m 20ms/step - accuracy: 0.4228 - loss: -38.6800 - val_accuracy: 0.4028 - val_loss: 92.4975\n",
            "Epoch 3/5\n",
            "\u001b[1m43/43\u001b[0m \u001b[32m━━━━━━━━━━━━━━━━━━━━\u001b[0m\u001b[37m\u001b[0m \u001b[1m1s\u001b[0m 14ms/step - accuracy: 0.4083 - loss: 0.9410 - val_accuracy: 0.4028 - val_loss: 180.0601\n",
            "Epoch 4/5\n",
            "\u001b[1m43/43\u001b[0m \u001b[32m━━━━━━━━━━━━━━━━━━━━\u001b[0m\u001b[37m\u001b[0m \u001b[1m1s\u001b[0m 14ms/step - accuracy: 0.4058 - loss: -310.9843 - val_accuracy: 0.4028 - val_loss: 372.4270\n",
            "Epoch 5/5\n",
            "\u001b[1m43/43\u001b[0m \u001b[32m━━━━━━━━━━━━━━━━━━━━\u001b[0m\u001b[37m\u001b[0m \u001b[1m1s\u001b[0m 14ms/step - accuracy: 0.4184 - loss: -543.4957 - val_accuracy: 0.4028 - val_loss: 326.1503\n",
            "\n",
            ">>> Entrenando Model B\n",
            "Epoch 1/5\n",
            "\u001b[1m43/43\u001b[0m \u001b[32m━━━━━━━━━━━━━━━━━━━━\u001b[0m\u001b[37m\u001b[0m \u001b[1m5s\u001b[0m 18ms/step - accuracy: 0.3903 - loss: -1.1385 - val_accuracy: 0.4028 - val_loss: 7.2837\n",
            "Epoch 2/5\n",
            "\u001b[1m43/43\u001b[0m \u001b[32m━━━━━━━━━━━━━━━━━━━━\u001b[0m\u001b[37m\u001b[0m \u001b[1m0s\u001b[0m 10ms/step - accuracy: 0.4161 - loss: -14.8098 - val_accuracy: 0.4028 - val_loss: 26.6535\n",
            "Epoch 3/5\n",
            "\u001b[1m43/43\u001b[0m \u001b[32m━━━━━━━━━━━━━━━━━━━━\u001b[0m\u001b[37m\u001b[0m \u001b[1m0s\u001b[0m 10ms/step - accuracy: 0.3943 - loss: -45.3126 - val_accuracy: 0.4028 - val_loss: 54.9578\n",
            "Epoch 4/5\n",
            "\u001b[1m43/43\u001b[0m \u001b[32m━━━━━━━━━━━━━━━━━━━━\u001b[0m\u001b[37m\u001b[0m \u001b[1m0s\u001b[0m 10ms/step - accuracy: 0.4224 - loss: -106.6465 - val_accuracy: 0.4028 - val_loss: 70.8584\n",
            "Epoch 5/5\n",
            "\u001b[1m43/43\u001b[0m \u001b[32m━━━━━━━━━━━━━━━━━━━━\u001b[0m\u001b[37m\u001b[0m \u001b[1m1s\u001b[0m 9ms/step - accuracy: 0.3945 - loss: -370.7119 - val_accuracy: 0.4028 - val_loss: 183.3475\n"
          ]
        }
      ]
    },
    {
      "cell_type": "code",
      "source": [
        "import matplotlib.pyplot as plt\n",
        "import seaborn as sns\n",
        "from sklearn.metrics import confusion_matrix\n",
        "\n",
        "# Solo dibujamos la matriz de confusión para TRAIN\n",
        "print(\"=== Train Confusion Matrices ===\")\n",
        "for name, model in [('Model A', model_A), ('Model B', model_B)]:\n",
        "    y_train_pred = (model.predict(X_train) > 0.5).astype('int32').flatten()\n",
        "    cm_train     = confusion_matrix(y_train, y_train_pred)\n",
        "\n",
        "    plt.figure(figsize=(5,4))\n",
        "    sns.heatmap(cm_train, annot=True, fmt='d', cmap='Blues')\n",
        "    plt.title(f'{name} — Train Confusion Matrix')\n",
        "    plt.xlabel('Predicted')\n",
        "    plt.ylabel('True')\n",
        "    plt.show()\n"
      ],
      "metadata": {
        "colab": {
          "base_uri": "https://localhost:8080/",
          "height": 858
        },
        "id": "Iv72JpkyMl0L",
        "outputId": "92ac8e87-9e16-42f3-ca73-725075abc886"
      },
      "execution_count": 48,
      "outputs": [
        {
          "output_type": "stream",
          "name": "stdout",
          "text": [
            "=== Train Confusion Matrices ===\n",
            "\u001b[1m86/86\u001b[0m \u001b[32m━━━━━━━━━━━━━━━━━━━━\u001b[0m\u001b[37m\u001b[0m \u001b[1m1s\u001b[0m 10ms/step\n"
          ]
        },
        {
          "output_type": "display_data",
          "data": {
            "text/plain": [
              "<Figure size 500x400 with 2 Axes>"
            ],
            "image/png": "[encoded data removed]"
          },
          "metadata": {}
        },
        {
          "output_type": "stream",
          "name": "stdout",
          "text": [
            "\u001b[1m86/86\u001b[0m \u001b[32m━━━━━━━━━━━━━━━━━━━━\u001b[0m\u001b[37m\u001b[0m \u001b[1m1s\u001b[0m 7ms/step\n"
          ]
        },
        {
          "output_type": "display_data",
          "data": {
            "text/plain": [
              "<Figure size 500x400 with 2 Axes>"
            ],
            "image/png": "[encoded data removed]"
          },
          "metadata": {}
        }
      ]
    },
    {
      "cell_type": "code",
      "source": [
        "print(\"\\n=== Evaluación en TEST ===\")\n",
        "for name, model in [('Model A', model_A), ('Model B', model_B)]:\n",
        "    print(f\"\\n--- {name} ---\")\n",
        "    # Predicción en test\n",
        "    y_test_pred = (model.predict(X_test) > 0.5).astype('int32').flatten()\n",
        "    # Matriz de confusión\n",
        "    cm_test = confusion_matrix(y_test, y_test_pred)\n",
        "    # Métricas\n",
        "    print(\"\\nClassification Report:\")\n",
        "    print(classification_report(y_test, y_test_pred, target_names=le.classes_))\n",
        "    # Gráfico\n",
        "    plt.figure(figsize=(4,3))\n",
        "    sns.heatmap(cm_test, annot=True, fmt='d', cmap='Blues')\n",
        "    plt.title(f'{name} — Test CM')\n",
        "    plt.xlabel('Predicted'); plt.ylabel('True')\n",
        "    plt.show()"
      ],
      "metadata": {
        "colab": {
          "base_uri": "https://localhost:8080/",
          "height": 1000
        },
        "id": "KJHbpUl1NsHL",
        "outputId": "efd7d513-9556-4d97-c0ba-cfc8a1587e31"
      },
      "execution_count": 46,
      "outputs": [
        {
          "output_type": "stream",
          "name": "stdout",
          "text": [
            "\n",
            "=== Evaluación en TEST ===\n",
            "\n",
            "--- Model A ---\n",
            "\u001b[1m12/12\u001b[0m \u001b[32m━━━━━━━━━━━━━━━━━━━━\u001b[0m\u001b[37m\u001b[0m \u001b[1m0s\u001b[0m 12ms/step\n",
            "\n",
            "Classification Report:\n",
            "              precision    recall  f1-score   support\n",
            "\n",
            "    negative       0.00      0.00      0.00       113\n",
            "     neutral       0.40      1.00      0.57       145\n",
            "    positive       0.00      0.00      0.00       102\n",
            "\n",
            "    accuracy                           0.40       360\n",
            "   macro avg       0.13      0.33      0.19       360\n",
            "weighted avg       0.16      0.40      0.23       360\n",
            "\n"
          ]
        },
        {
          "output_type": "stream",
          "name": "stderr",
          "text": [
            "/usr/local/lib/python3.11/dist-packages/sklearn/metrics/_classification.py:1565: UndefinedMetricWarning: Precision is ill-defined and being set to 0.0 in labels with no predicted samples. Use `zero_division` parameter to control this behavior.\n",
            "  _warn_prf(average, modifier, f\"{metric.capitalize()} is\", len(result))\n",
            "/usr/local/lib/python3.11/dist-packages/sklearn/metrics/_classification.py:1565: UndefinedMetricWarning: Precision is ill-defined and being set to 0.0 in labels with no predicted samples. Use `zero_division` parameter to control this behavior.\n",
            "  _warn_prf(average, modifier, f\"{metric.capitalize()} is\", len(result))\n",
            "/usr/local/lib/python3.11/dist-packages/sklearn/metrics/_classification.py:1565: UndefinedMetricWarning: Precision is ill-defined and being set to 0.0 in labels with no predicted samples. Use `zero_division` parameter to control this behavior.\n",
            "  _warn_prf(average, modifier, f\"{metric.capitalize()} is\", len(result))\n"
          ]
        },
        {
          "output_type": "display_data",
          "data": {
            "text/plain": [
              "<Figure size 400x300 with 2 Axes>"
            ],
            "image/png": "[encoded data removed]"
          },
          "metadata": {}
        },
        {
          "output_type": "stream",
          "name": "stdout",
          "text": [
            "\n",
            "--- Model B ---\n",
            "\u001b[1m12/12\u001b[0m \u001b[32m━━━━━━━━━━━━━━━━━━━━\u001b[0m\u001b[37m\u001b[0m \u001b[1m0s\u001b[0m 8ms/step\n",
            "\n",
            "Classification Report:\n",
            "              precision    recall  f1-score   support\n",
            "\n",
            "    negative       0.00      0.00      0.00       113\n",
            "     neutral       0.40      1.00      0.57       145\n",
            "    positive       0.00      0.00      0.00       102\n",
            "\n",
            "    accuracy                           0.40       360\n",
            "   macro avg       0.13      0.33      0.19       360\n",
            "weighted avg       0.16      0.40      0.23       360\n",
            "\n"
          ]
        },
        {
          "output_type": "stream",
          "name": "stderr",
          "text": [
            "/usr/local/lib/python3.11/dist-packages/sklearn/metrics/_classification.py:1565: UndefinedMetricWarning: Precision is ill-defined and being set to 0.0 in labels with no predicted samples. Use `zero_division` parameter to control this behavior.\n",
            "  _warn_prf(average, modifier, f\"{metric.capitalize()} is\", len(result))\n",
            "/usr/local/lib/python3.11/dist-packages/sklearn/metrics/_classification.py:1565: UndefinedMetricWarning: Precision is ill-defined and being set to 0.0 in labels with no predicted samples. Use `zero_division` parameter to control this behavior.\n",
            "  _warn_prf(average, modifier, f\"{metric.capitalize()} is\", len(result))\n",
            "/usr/local/lib/python3.11/dist-packages/sklearn/metrics/_classification.py:1565: UndefinedMetricWarning: Precision is ill-defined and being set to 0.0 in labels with no predicted samples. Use `zero_division` parameter to control this behavior.\n",
            "  _warn_prf(average, modifier, f\"{metric.capitalize()} is\", len(result))\n"
          ]
        },
        {
          "output_type": "display_data",
          "data": {
            "text/plain": [
              "<Figure size 400x300 with 2 Axes>"
            ],
            "image/png": "[encoded data removed]"
          },
          "metadata": {}
        }
      ]
    },
    {
      "cell_type": "code",
      "source": [
        "import numpy as np\n",
        "from tensorflow.keras.preprocessing.sequence import pad_sequences\n",
        "\n",
        "# 1) Saca una frase de small_test_df (por ejemplo la primera)\n",
        "sample_text = small_test_df['text_clean'].iloc[0]\n",
        "print(\"Sample text:\", sample_text)\n",
        "\n",
        "# 2) Convierte a secuencia y pad\n",
        "seq = tokenizer.texts_to_sequences([sample_text])\n",
        "seq_pad = pad_sequences(seq, maxlen=maxlen, padding='post')\n",
        "\n",
        "# 3) Predicción con Model A\n",
        "prob_A = model_A.predict(seq_pad)[0,0]\n",
        "pred_A = int(prob_A > 0.5)\n",
        "print(f\"\\nModel A prediction → prob_positive = {prob_A:.3f}, class = {pred_A}\")\n",
        "\n",
        "# 4) Predicción con Model B\n",
        "prob_B = model_B.predict(seq_pad)[0,0]\n",
        "pred_B = int(prob_B > 0.5)\n",
        "print(f\"Model B prediction → prob_positive = {prob_B:.3f}, class = {pred_B}\")\n"
      ],
      "metadata": {
        "colab": {
          "base_uri": "https://localhost:8080/"
        },
        "id": "aGbElU3UPfvV",
        "outputId": "da576155-42a7-4435-c336-6b286f7e9432"
      },
      "execution_count": 49,
      "outputs": [
        {
          "output_type": "stream",
          "name": "stdout",
          "text": [
            "Sample text: screw the fact you cant post long updates on twitter\n",
            "\u001b[1m1/1\u001b[0m \u001b[32m━━━━━━━━━━━━━━━━━━━━\u001b[0m\u001b[37m\u001b[0m \u001b[1m0s\u001b[0m 81ms/step\n",
            "\n",
            "Model A prediction → prob_positive = 1.000, class = 1\n",
            "\u001b[1m1/1\u001b[0m \u001b[32m━━━━━━━━━━━━━━━━━━━━\u001b[0m\u001b[37m\u001b[0m \u001b[1m0s\u001b[0m 65ms/step\n",
            "Model B prediction → prob_positive = 1.000, class = 1\n"
          ]
        }
      ]
    }
  ]
}